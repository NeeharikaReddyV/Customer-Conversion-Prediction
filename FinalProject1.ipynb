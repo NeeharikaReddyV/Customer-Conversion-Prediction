{
  "cells": [
    {
      "cell_type": "markdown",
      "metadata": {
        "id": "view-in-github",
        "colab_type": "text"
      },
      "source": [
        "<a href=\"https://colab.research.google.com/github/NeeharikaReddyV/Customer-Conversion-Prediction/blob/main/FinalProject1.ipynb\" target=\"_parent\"><img src=\"https://colab.research.google.com/assets/colab-badge.svg\" alt=\"Open In Colab\"/></a>"
      ]
    },
    {
      "cell_type": "code",
      "execution_count": null,
      "metadata": {
        "id": "qS_ff16He0U-"
      },
      "outputs": [],
      "source": [
        "import pandas as pd\n",
        "import numpy as np\n",
        "pd.options.display.max_columns=200"
      ]
    },
    {
      "cell_type": "code",
      "execution_count": null,
      "metadata": {
        "id": "R42tGUnZAp-s"
      },
      "outputs": [],
      "source": [
        "df = pd.read_csv(\"/content/train.csv\")"
      ]
    },
    {
      "cell_type": "code",
      "execution_count": null,
      "metadata": {
        "colab": {
          "base_uri": "https://localhost:8080/",
          "height": 206
        },
        "id": "UdLVFAaAAtmZ",
        "outputId": "d3f00a5c-7462-41b2-8b1c-e4d85690e653"
      },
      "outputs": [
        {
          "output_type": "execute_result",
          "data": {
            "text/plain": [
              "   age           job  marital education_qual call_type  day  mon  dur  \\\n",
              "0   58    management  married       tertiary   unknown    5  may  261   \n",
              "1   44    technician   single      secondary   unknown    5  may  151   \n",
              "2   33  entrepreneur  married      secondary   unknown    5  may   76   \n",
              "3   47   blue-collar  married        unknown   unknown    5  may   92   \n",
              "4   33       unknown   single        unknown   unknown    5  may  198   \n",
              "\n",
              "   num_calls prev_outcome   y  \n",
              "0          1      unknown  no  \n",
              "1          1      unknown  no  \n",
              "2          1      unknown  no  \n",
              "3          1      unknown  no  \n",
              "4          1      unknown  no  "
            ],
            "text/html": [
              "\n",
              "\n",
              "  <div id=\"df-32464e67-dccd-4e2d-9309-823c08746551\">\n",
              "    <div class=\"colab-df-container\">\n",
              "      <div>\n",
              "<style scoped>\n",
              "    .dataframe tbody tr th:only-of-type {\n",
              "        vertical-align: middle;\n",
              "    }\n",
              "\n",
              "    .dataframe tbody tr th {\n",
              "        vertical-align: top;\n",
              "    }\n",
              "\n",
              "    .dataframe thead th {\n",
              "        text-align: right;\n",
              "    }\n",
              "</style>\n",
              "<table border=\"1\" class=\"dataframe\">\n",
              "  <thead>\n",
              "    <tr style=\"text-align: right;\">\n",
              "      <th></th>\n",
              "      <th>age</th>\n",
              "      <th>job</th>\n",
              "      <th>marital</th>\n",
              "      <th>education_qual</th>\n",
              "      <th>call_type</th>\n",
              "      <th>day</th>\n",
              "      <th>mon</th>\n",
              "      <th>dur</th>\n",
              "      <th>num_calls</th>\n",
              "      <th>prev_outcome</th>\n",
              "      <th>y</th>\n",
              "    </tr>\n",
              "  </thead>\n",
              "  <tbody>\n",
              "    <tr>\n",
              "      <th>0</th>\n",
              "      <td>58</td>\n",
              "      <td>management</td>\n",
              "      <td>married</td>\n",
              "      <td>tertiary</td>\n",
              "      <td>unknown</td>\n",
              "      <td>5</td>\n",
              "      <td>may</td>\n",
              "      <td>261</td>\n",
              "      <td>1</td>\n",
              "      <td>unknown</td>\n",
              "      <td>no</td>\n",
              "    </tr>\n",
              "    <tr>\n",
              "      <th>1</th>\n",
              "      <td>44</td>\n",
              "      <td>technician</td>\n",
              "      <td>single</td>\n",
              "      <td>secondary</td>\n",
              "      <td>unknown</td>\n",
              "      <td>5</td>\n",
              "      <td>may</td>\n",
              "      <td>151</td>\n",
              "      <td>1</td>\n",
              "      <td>unknown</td>\n",
              "      <td>no</td>\n",
              "    </tr>\n",
              "    <tr>\n",
              "      <th>2</th>\n",
              "      <td>33</td>\n",
              "      <td>entrepreneur</td>\n",
              "      <td>married</td>\n",
              "      <td>secondary</td>\n",
              "      <td>unknown</td>\n",
              "      <td>5</td>\n",
              "      <td>may</td>\n",
              "      <td>76</td>\n",
              "      <td>1</td>\n",
              "      <td>unknown</td>\n",
              "      <td>no</td>\n",
              "    </tr>\n",
              "    <tr>\n",
              "      <th>3</th>\n",
              "      <td>47</td>\n",
              "      <td>blue-collar</td>\n",
              "      <td>married</td>\n",
              "      <td>unknown</td>\n",
              "      <td>unknown</td>\n",
              "      <td>5</td>\n",
              "      <td>may</td>\n",
              "      <td>92</td>\n",
              "      <td>1</td>\n",
              "      <td>unknown</td>\n",
              "      <td>no</td>\n",
              "    </tr>\n",
              "    <tr>\n",
              "      <th>4</th>\n",
              "      <td>33</td>\n",
              "      <td>unknown</td>\n",
              "      <td>single</td>\n",
              "      <td>unknown</td>\n",
              "      <td>unknown</td>\n",
              "      <td>5</td>\n",
              "      <td>may</td>\n",
              "      <td>198</td>\n",
              "      <td>1</td>\n",
              "      <td>unknown</td>\n",
              "      <td>no</td>\n",
              "    </tr>\n",
              "  </tbody>\n",
              "</table>\n",
              "</div>\n",
              "      <button class=\"colab-df-convert\" onclick=\"convertToInteractive('df-32464e67-dccd-4e2d-9309-823c08746551')\"\n",
              "              title=\"Convert this dataframe to an interactive table.\"\n",
              "              style=\"display:none;\">\n",
              "\n",
              "  <svg xmlns=\"http://www.w3.org/2000/svg\" height=\"24px\"viewBox=\"0 0 24 24\"\n",
              "       width=\"24px\">\n",
              "    <path d=\"M0 0h24v24H0V0z\" fill=\"none\"/>\n",
              "    <path d=\"M18.56 5.44l.94 2.06.94-2.06 2.06-.94-2.06-.94-.94-2.06-.94 2.06-2.06.94zm-11 1L8.5 8.5l.94-2.06 2.06-.94-2.06-.94L8.5 2.5l-.94 2.06-2.06.94zm10 10l.94 2.06.94-2.06 2.06-.94-2.06-.94-.94-2.06-.94 2.06-2.06.94z\"/><path d=\"M17.41 7.96l-1.37-1.37c-.4-.4-.92-.59-1.43-.59-.52 0-1.04.2-1.43.59L10.3 9.45l-7.72 7.72c-.78.78-.78 2.05 0 2.83L4 21.41c.39.39.9.59 1.41.59.51 0 1.02-.2 1.41-.59l7.78-7.78 2.81-2.81c.8-.78.8-2.07 0-2.86zM5.41 20L4 18.59l7.72-7.72 1.47 1.35L5.41 20z\"/>\n",
              "  </svg>\n",
              "      </button>\n",
              "\n",
              "\n",
              "\n",
              "    <div id=\"df-3f779230-6875-4b85-99ce-eb1f178f2a05\">\n",
              "      <button class=\"colab-df-quickchart\" onclick=\"quickchart('df-3f779230-6875-4b85-99ce-eb1f178f2a05')\"\n",
              "              title=\"Suggest charts.\"\n",
              "              style=\"display:none;\">\n",
              "\n",
              "<svg xmlns=\"http://www.w3.org/2000/svg\" height=\"24px\"viewBox=\"0 0 24 24\"\n",
              "     width=\"24px\">\n",
              "    <g>\n",
              "        <path d=\"M19 3H5c-1.1 0-2 .9-2 2v14c0 1.1.9 2 2 2h14c1.1 0 2-.9 2-2V5c0-1.1-.9-2-2-2zM9 17H7v-7h2v7zm4 0h-2V7h2v10zm4 0h-2v-4h2v4z\"/>\n",
              "    </g>\n",
              "</svg>\n",
              "      </button>\n",
              "    </div>\n",
              "\n",
              "<style>\n",
              "  .colab-df-quickchart {\n",
              "    background-color: #E8F0FE;\n",
              "    border: none;\n",
              "    border-radius: 50%;\n",
              "    cursor: pointer;\n",
              "    display: none;\n",
              "    fill: #1967D2;\n",
              "    height: 32px;\n",
              "    padding: 0 0 0 0;\n",
              "    width: 32px;\n",
              "  }\n",
              "\n",
              "  .colab-df-quickchart:hover {\n",
              "    background-color: #E2EBFA;\n",
              "    box-shadow: 0px 1px 2px rgba(60, 64, 67, 0.3), 0px 1px 3px 1px rgba(60, 64, 67, 0.15);\n",
              "    fill: #174EA6;\n",
              "  }\n",
              "\n",
              "  [theme=dark] .colab-df-quickchart {\n",
              "    background-color: #3B4455;\n",
              "    fill: #D2E3FC;\n",
              "  }\n",
              "\n",
              "  [theme=dark] .colab-df-quickchart:hover {\n",
              "    background-color: #434B5C;\n",
              "    box-shadow: 0px 1px 3px 1px rgba(0, 0, 0, 0.15);\n",
              "    filter: drop-shadow(0px 1px 2px rgba(0, 0, 0, 0.3));\n",
              "    fill: #FFFFFF;\n",
              "  }\n",
              "</style>\n",
              "\n",
              "    <script>\n",
              "      async function quickchart(key) {\n",
              "        const containerElement = document.querySelector('#' + key);\n",
              "        const charts = await google.colab.kernel.invokeFunction(\n",
              "            'suggestCharts', [key], {});\n",
              "      }\n",
              "    </script>\n",
              "\n",
              "      <script>\n",
              "\n",
              "function displayQuickchartButton(domScope) {\n",
              "  let quickchartButtonEl =\n",
              "    domScope.querySelector('#df-3f779230-6875-4b85-99ce-eb1f178f2a05 button.colab-df-quickchart');\n",
              "  quickchartButtonEl.style.display =\n",
              "    google.colab.kernel.accessAllowed ? 'block' : 'none';\n",
              "}\n",
              "\n",
              "        displayQuickchartButton(document);\n",
              "      </script>\n",
              "      <style>\n",
              "    .colab-df-container {\n",
              "      display:flex;\n",
              "      flex-wrap:wrap;\n",
              "      gap: 12px;\n",
              "    }\n",
              "\n",
              "    .colab-df-convert {\n",
              "      background-color: #E8F0FE;\n",
              "      border: none;\n",
              "      border-radius: 50%;\n",
              "      cursor: pointer;\n",
              "      display: none;\n",
              "      fill: #1967D2;\n",
              "      height: 32px;\n",
              "      padding: 0 0 0 0;\n",
              "      width: 32px;\n",
              "    }\n",
              "\n",
              "    .colab-df-convert:hover {\n",
              "      background-color: #E2EBFA;\n",
              "      box-shadow: 0px 1px 2px rgba(60, 64, 67, 0.3), 0px 1px 3px 1px rgba(60, 64, 67, 0.15);\n",
              "      fill: #174EA6;\n",
              "    }\n",
              "\n",
              "    [theme=dark] .colab-df-convert {\n",
              "      background-color: #3B4455;\n",
              "      fill: #D2E3FC;\n",
              "    }\n",
              "\n",
              "    [theme=dark] .colab-df-convert:hover {\n",
              "      background-color: #434B5C;\n",
              "      box-shadow: 0px 1px 3px 1px rgba(0, 0, 0, 0.15);\n",
              "      filter: drop-shadow(0px 1px 2px rgba(0, 0, 0, 0.3));\n",
              "      fill: #FFFFFF;\n",
              "    }\n",
              "  </style>\n",
              "\n",
              "      <script>\n",
              "        const buttonEl =\n",
              "          document.querySelector('#df-32464e67-dccd-4e2d-9309-823c08746551 button.colab-df-convert');\n",
              "        buttonEl.style.display =\n",
              "          google.colab.kernel.accessAllowed ? 'block' : 'none';\n",
              "\n",
              "        async function convertToInteractive(key) {\n",
              "          const element = document.querySelector('#df-32464e67-dccd-4e2d-9309-823c08746551');\n",
              "          const dataTable =\n",
              "            await google.colab.kernel.invokeFunction('convertToInteractive',\n",
              "                                                     [key], {});\n",
              "          if (!dataTable) return;\n",
              "\n",
              "          const docLinkHtml = 'Like what you see? Visit the ' +\n",
              "            '<a target=\"_blank\" href=https://colab.research.google.com/notebooks/data_table.ipynb>data table notebook</a>'\n",
              "            + ' to learn more about interactive tables.';\n",
              "          element.innerHTML = '';\n",
              "          dataTable['output_type'] = 'display_data';\n",
              "          await google.colab.output.renderOutput(dataTable, element);\n",
              "          const docLink = document.createElement('div');\n",
              "          docLink.innerHTML = docLinkHtml;\n",
              "          element.appendChild(docLink);\n",
              "        }\n",
              "      </script>\n",
              "    </div>\n",
              "  </div>\n"
            ]
          },
          "metadata": {},
          "execution_count": 3
        }
      ],
      "source": [
        "df.head()"
      ]
    },
    {
      "cell_type": "markdown",
      "metadata": {
        "id": "y4wvSHJsGL-g"
      },
      "source": [
        "## ***Cleaning***"
      ]
    },
    {
      "cell_type": "code",
      "execution_count": null,
      "metadata": {
        "colab": {
          "base_uri": "https://localhost:8080/"
        },
        "id": "tImzaE9N1TzE",
        "outputId": "512771a5-1438-43e6-e591-3dc07a038c75"
      },
      "outputs": [
        {
          "output_type": "execute_result",
          "data": {
            "text/plain": [
              "age               0\n",
              "job               0\n",
              "marital           0\n",
              "education_qual    0\n",
              "call_type         0\n",
              "day               0\n",
              "mon               0\n",
              "dur               0\n",
              "num_calls         0\n",
              "prev_outcome      0\n",
              "y                 0\n",
              "dtype: int64"
            ]
          },
          "metadata": {},
          "execution_count": 4
        }
      ],
      "source": [
        "df.isnull().sum()"
      ]
    },
    {
      "cell_type": "code",
      "execution_count": null,
      "metadata": {
        "colab": {
          "base_uri": "https://localhost:8080/"
        },
        "id": "ov-lJjgWGTcL",
        "outputId": "d7dea786-543f-4aaa-dd23-6e480bf9a95f"
      },
      "outputs": [
        {
          "output_type": "execute_result",
          "data": {
            "text/plain": [
              "Index(['age', 'job', 'marital', 'education_qual', 'call_type', 'day', 'mon',\n",
              "       'dur', 'num_calls', 'prev_outcome', 'y'],\n",
              "      dtype='object')"
            ]
          },
          "metadata": {},
          "execution_count": 5
        }
      ],
      "source": [
        "df.columns"
      ]
    },
    {
      "cell_type": "code",
      "execution_count": null,
      "metadata": {
        "colab": {
          "base_uri": "https://localhost:8080/"
        },
        "id": "KoKp499VGbiV",
        "outputId": "74560269-57aa-4240-d60f-6fa085d78b5a"
      },
      "outputs": [
        {
          "output_type": "execute_result",
          "data": {
            "text/plain": [
              "age                int64\n",
              "job               object\n",
              "marital           object\n",
              "education_qual    object\n",
              "call_type         object\n",
              "day                int64\n",
              "mon               object\n",
              "dur                int64\n",
              "num_calls          int64\n",
              "prev_outcome      object\n",
              "y                 object\n",
              "dtype: object"
            ]
          },
          "metadata": {},
          "execution_count": 6
        }
      ],
      "source": [
        "df.dtypes"
      ]
    },
    {
      "cell_type": "code",
      "execution_count": null,
      "metadata": {
        "colab": {
          "base_uri": "https://localhost:8080/"
        },
        "id": "jYsqTlwddppr",
        "outputId": "599598cc-eb34-4d5d-f39f-8df860c2eeed"
      },
      "outputs": [
        {
          "output_type": "execute_result",
          "data": {
            "text/plain": [
              "(45211, 11)"
            ]
          },
          "metadata": {},
          "execution_count": 7
        }
      ],
      "source": [
        "df.shape"
      ]
    },
    {
      "cell_type": "code",
      "execution_count": null,
      "metadata": {
        "colab": {
          "base_uri": "https://localhost:8080/"
        },
        "id": "_fiuihn5FJsu",
        "outputId": "27aaa22a-4e5f-4752-fcaa-6912d271bd98"
      },
      "outputs": [
        {
          "output_type": "execute_result",
          "data": {
            "text/plain": [
              "                age           day           dur     num_calls\n",
              "count  45211.000000  45211.000000  45211.000000  45211.000000\n",
              "mean      40.936210     15.806419    258.163080      2.763841\n",
              "std       10.618762      8.322476    257.527812      3.098021\n",
              "min       18.000000      1.000000      0.000000      1.000000\n",
              "25%       33.000000      8.000000    103.000000      1.000000\n",
              "50%       39.000000     16.000000    180.000000      2.000000\n",
              "75%       48.000000     21.000000    319.000000      3.000000\n",
              "max       95.000000     31.000000   4918.000000     63.000000"
            ],
            "text/html": [
              "\n",
              "\n",
              "  <div id=\"df-8ca9ab07-e837-4281-9522-309c0c00e313\">\n",
              "    <div class=\"colab-df-container\">\n",
              "      <div>\n",
              "<style scoped>\n",
              "    .dataframe tbody tr th:only-of-type {\n",
              "        vertical-align: middle;\n",
              "    }\n",
              "\n",
              "    .dataframe tbody tr th {\n",
              "        vertical-align: top;\n",
              "    }\n",
              "\n",
              "    .dataframe thead th {\n",
              "        text-align: right;\n",
              "    }\n",
              "</style>\n",
              "<table border=\"1\" class=\"dataframe\">\n",
              "  <thead>\n",
              "    <tr style=\"text-align: right;\">\n",
              "      <th></th>\n",
              "      <th>age</th>\n",
              "      <th>day</th>\n",
              "      <th>dur</th>\n",
              "      <th>num_calls</th>\n",
              "    </tr>\n",
              "  </thead>\n",
              "  <tbody>\n",
              "    <tr>\n",
              "      <th>count</th>\n",
              "      <td>45211.000000</td>\n",
              "      <td>45211.000000</td>\n",
              "      <td>45211.000000</td>\n",
              "      <td>45211.000000</td>\n",
              "    </tr>\n",
              "    <tr>\n",
              "      <th>mean</th>\n",
              "      <td>40.936210</td>\n",
              "      <td>15.806419</td>\n",
              "      <td>258.163080</td>\n",
              "      <td>2.763841</td>\n",
              "    </tr>\n",
              "    <tr>\n",
              "      <th>std</th>\n",
              "      <td>10.618762</td>\n",
              "      <td>8.322476</td>\n",
              "      <td>257.527812</td>\n",
              "      <td>3.098021</td>\n",
              "    </tr>\n",
              "    <tr>\n",
              "      <th>min</th>\n",
              "      <td>18.000000</td>\n",
              "      <td>1.000000</td>\n",
              "      <td>0.000000</td>\n",
              "      <td>1.000000</td>\n",
              "    </tr>\n",
              "    <tr>\n",
              "      <th>25%</th>\n",
              "      <td>33.000000</td>\n",
              "      <td>8.000000</td>\n",
              "      <td>103.000000</td>\n",
              "      <td>1.000000</td>\n",
              "    </tr>\n",
              "    <tr>\n",
              "      <th>50%</th>\n",
              "      <td>39.000000</td>\n",
              "      <td>16.000000</td>\n",
              "      <td>180.000000</td>\n",
              "      <td>2.000000</td>\n",
              "    </tr>\n",
              "    <tr>\n",
              "      <th>75%</th>\n",
              "      <td>48.000000</td>\n",
              "      <td>21.000000</td>\n",
              "      <td>319.000000</td>\n",
              "      <td>3.000000</td>\n",
              "    </tr>\n",
              "    <tr>\n",
              "      <th>max</th>\n",
              "      <td>95.000000</td>\n",
              "      <td>31.000000</td>\n",
              "      <td>4918.000000</td>\n",
              "      <td>63.000000</td>\n",
              "    </tr>\n",
              "  </tbody>\n",
              "</table>\n",
              "</div>\n",
              "      <button class=\"colab-df-convert\" onclick=\"convertToInteractive('df-8ca9ab07-e837-4281-9522-309c0c00e313')\"\n",
              "              title=\"Convert this dataframe to an interactive table.\"\n",
              "              style=\"display:none;\">\n",
              "\n",
              "  <svg xmlns=\"http://www.w3.org/2000/svg\" height=\"24px\"viewBox=\"0 0 24 24\"\n",
              "       width=\"24px\">\n",
              "    <path d=\"M0 0h24v24H0V0z\" fill=\"none\"/>\n",
              "    <path d=\"M18.56 5.44l.94 2.06.94-2.06 2.06-.94-2.06-.94-.94-2.06-.94 2.06-2.06.94zm-11 1L8.5 8.5l.94-2.06 2.06-.94-2.06-.94L8.5 2.5l-.94 2.06-2.06.94zm10 10l.94 2.06.94-2.06 2.06-.94-2.06-.94-.94-2.06-.94 2.06-2.06.94z\"/><path d=\"M17.41 7.96l-1.37-1.37c-.4-.4-.92-.59-1.43-.59-.52 0-1.04.2-1.43.59L10.3 9.45l-7.72 7.72c-.78.78-.78 2.05 0 2.83L4 21.41c.39.39.9.59 1.41.59.51 0 1.02-.2 1.41-.59l7.78-7.78 2.81-2.81c.8-.78.8-2.07 0-2.86zM5.41 20L4 18.59l7.72-7.72 1.47 1.35L5.41 20z\"/>\n",
              "  </svg>\n",
              "      </button>\n",
              "\n",
              "\n",
              "\n",
              "    <div id=\"df-17d09f87-928b-4241-aa26-1859250a2428\">\n",
              "      <button class=\"colab-df-quickchart\" onclick=\"quickchart('df-17d09f87-928b-4241-aa26-1859250a2428')\"\n",
              "              title=\"Suggest charts.\"\n",
              "              style=\"display:none;\">\n",
              "\n",
              "<svg xmlns=\"http://www.w3.org/2000/svg\" height=\"24px\"viewBox=\"0 0 24 24\"\n",
              "     width=\"24px\">\n",
              "    <g>\n",
              "        <path d=\"M19 3H5c-1.1 0-2 .9-2 2v14c0 1.1.9 2 2 2h14c1.1 0 2-.9 2-2V5c0-1.1-.9-2-2-2zM9 17H7v-7h2v7zm4 0h-2V7h2v10zm4 0h-2v-4h2v4z\"/>\n",
              "    </g>\n",
              "</svg>\n",
              "      </button>\n",
              "    </div>\n",
              "\n",
              "<style>\n",
              "  .colab-df-quickchart {\n",
              "    background-color: #E8F0FE;\n",
              "    border: none;\n",
              "    border-radius: 50%;\n",
              "    cursor: pointer;\n",
              "    display: none;\n",
              "    fill: #1967D2;\n",
              "    height: 32px;\n",
              "    padding: 0 0 0 0;\n",
              "    width: 32px;\n",
              "  }\n",
              "\n",
              "  .colab-df-quickchart:hover {\n",
              "    background-color: #E2EBFA;\n",
              "    box-shadow: 0px 1px 2px rgba(60, 64, 67, 0.3), 0px 1px 3px 1px rgba(60, 64, 67, 0.15);\n",
              "    fill: #174EA6;\n",
              "  }\n",
              "\n",
              "  [theme=dark] .colab-df-quickchart {\n",
              "    background-color: #3B4455;\n",
              "    fill: #D2E3FC;\n",
              "  }\n",
              "\n",
              "  [theme=dark] .colab-df-quickchart:hover {\n",
              "    background-color: #434B5C;\n",
              "    box-shadow: 0px 1px 3px 1px rgba(0, 0, 0, 0.15);\n",
              "    filter: drop-shadow(0px 1px 2px rgba(0, 0, 0, 0.3));\n",
              "    fill: #FFFFFF;\n",
              "  }\n",
              "</style>\n",
              "\n",
              "    <script>\n",
              "      async function quickchart(key) {\n",
              "        const containerElement = document.querySelector('#' + key);\n",
              "        const charts = await google.colab.kernel.invokeFunction(\n",
              "            'suggestCharts', [key], {});\n",
              "      }\n",
              "    </script>\n",
              "\n",
              "      <script>\n",
              "\n",
              "function displayQuickchartButton(domScope) {\n",
              "  let quickchartButtonEl =\n",
              "    domScope.querySelector('#df-17d09f87-928b-4241-aa26-1859250a2428 button.colab-df-quickchart');\n",
              "  quickchartButtonEl.style.display =\n",
              "    google.colab.kernel.accessAllowed ? 'block' : 'none';\n",
              "}\n",
              "\n",
              "        displayQuickchartButton(document);\n",
              "      </script>\n",
              "      <style>\n",
              "    .colab-df-container {\n",
              "      display:flex;\n",
              "      flex-wrap:wrap;\n",
              "      gap: 12px;\n",
              "    }\n",
              "\n",
              "    .colab-df-convert {\n",
              "      background-color: #E8F0FE;\n",
              "      border: none;\n",
              "      border-radius: 50%;\n",
              "      cursor: pointer;\n",
              "      display: none;\n",
              "      fill: #1967D2;\n",
              "      height: 32px;\n",
              "      padding: 0 0 0 0;\n",
              "      width: 32px;\n",
              "    }\n",
              "\n",
              "    .colab-df-convert:hover {\n",
              "      background-color: #E2EBFA;\n",
              "      box-shadow: 0px 1px 2px rgba(60, 64, 67, 0.3), 0px 1px 3px 1px rgba(60, 64, 67, 0.15);\n",
              "      fill: #174EA6;\n",
              "    }\n",
              "\n",
              "    [theme=dark] .colab-df-convert {\n",
              "      background-color: #3B4455;\n",
              "      fill: #D2E3FC;\n",
              "    }\n",
              "\n",
              "    [theme=dark] .colab-df-convert:hover {\n",
              "      background-color: #434B5C;\n",
              "      box-shadow: 0px 1px 3px 1px rgba(0, 0, 0, 0.15);\n",
              "      filter: drop-shadow(0px 1px 2px rgba(0, 0, 0, 0.3));\n",
              "      fill: #FFFFFF;\n",
              "    }\n",
              "  </style>\n",
              "\n",
              "      <script>\n",
              "        const buttonEl =\n",
              "          document.querySelector('#df-8ca9ab07-e837-4281-9522-309c0c00e313 button.colab-df-convert');\n",
              "        buttonEl.style.display =\n",
              "          google.colab.kernel.accessAllowed ? 'block' : 'none';\n",
              "\n",
              "        async function convertToInteractive(key) {\n",
              "          const element = document.querySelector('#df-8ca9ab07-e837-4281-9522-309c0c00e313');\n",
              "          const dataTable =\n",
              "            await google.colab.kernel.invokeFunction('convertToInteractive',\n",
              "                                                     [key], {});\n",
              "          if (!dataTable) return;\n",
              "\n",
              "          const docLinkHtml = 'Like what you see? Visit the ' +\n",
              "            '<a target=\"_blank\" href=https://colab.research.google.com/notebooks/data_table.ipynb>data table notebook</a>'\n",
              "            + ' to learn more about interactive tables.';\n",
              "          element.innerHTML = '';\n",
              "          dataTable['output_type'] = 'display_data';\n",
              "          await google.colab.output.renderOutput(dataTable, element);\n",
              "          const docLink = document.createElement('div');\n",
              "          docLink.innerHTML = docLinkHtml;\n",
              "          element.appendChild(docLink);\n",
              "        }\n",
              "      </script>\n",
              "    </div>\n",
              "  </div>\n"
            ]
          },
          "metadata": {},
          "execution_count": 8
        }
      ],
      "source": [
        "df.describe()"
      ]
    },
    {
      "cell_type": "markdown",
      "metadata": {
        "id": "U_7eH13jCEIP"
      },
      "source": [
        "age -> Con   \n",
        "job -> Multi Cat ['management', 'technician', 'entrepreneur', 'blue-collar',\n",
        "       'unknown', 'retired', 'admin.', 'services', 'self-employed',\n",
        "       'unemployed', 'housemaid', 'student']     \n",
        "marital -> Multi Cat ['married', 'single', 'divorced']    \n",
        "education_qual -> Multi Cat ['tertiary', 'secondary', 'unknown', 'primary']   \n",
        "call_type -> Multi Cat ['unknown', 'cellular', 'telephone']  \n",
        "day -> Con    \n",
        "mon -> Multi Cat ['may', 'jun', 'jul', 'aug', 'oct', 'nov', 'dec', 'jan', 'feb','mar', 'apr', 'sep']    \n",
        "dur -> Con    \n",
        "num_calls -> Con   \n",
        "prev_outcome -> Multi Cat -> ['unknown', 'failure', 'other', 'success']  \n",
        "**y (Target)** -> Binary Cat ['no', 'yes']"
      ]
    },
    {
      "cell_type": "code",
      "execution_count": null,
      "metadata": {
        "colab": {
          "base_uri": "https://localhost:8080/"
        },
        "id": "oxwiU75ReB7b",
        "outputId": "8d0ec463-d0be-450a-913f-d196faa77afc"
      },
      "outputs": [
        {
          "output_type": "execute_result",
          "data": {
            "text/plain": [
              "count    45211.000000\n",
              "mean        40.936210\n",
              "std         10.618762\n",
              "min         18.000000\n",
              "25%         33.000000\n",
              "50%         39.000000\n",
              "75%         48.000000\n",
              "max         95.000000\n",
              "Name: age, dtype: float64"
            ]
          },
          "metadata": {},
          "execution_count": 9
        }
      ],
      "source": [
        "df.age.describe()"
      ]
    },
    {
      "cell_type": "code",
      "execution_count": null,
      "metadata": {
        "colab": {
          "base_uri": "https://localhost:8080/"
        },
        "id": "Hn2CTifoehQA",
        "outputId": "565d3279-bd4c-4e9c-b26d-3ddcc745f977"
      },
      "outputs": [
        {
          "output_type": "execute_result",
          "data": {
            "text/plain": [
              "(33.0, 48.0, 15.0, 70.5, 10.5)"
            ]
          },
          "metadata": {},
          "execution_count": 10
        }
      ],
      "source": [
        "## Outlier detection and correction\n",
        "\n",
        "q3 = df.age.quantile(0.75)\n",
        "q1 = df.age.quantile(0.25)\n",
        "iqr = q3-q1\n",
        "\n",
        "upper_threshold = q3 + (1.5 * iqr)\n",
        "lower_threshold = q1 - (1.5 * iqr)\n",
        "\n",
        "q1, q3, iqr, upper_threshold, lower_threshold"
      ]
    },
    {
      "cell_type": "code",
      "execution_count": null,
      "metadata": {
        "id": "yPWuGOcrgsur"
      },
      "outputs": [],
      "source": [
        "upper_threshold = round(upper_threshold)"
      ]
    },
    {
      "cell_type": "code",
      "execution_count": null,
      "metadata": {
        "id": "beMRjpq_ftKy"
      },
      "outputs": [],
      "source": [
        "## Clipping the Data\n",
        "\n",
        "df.age = df.age.clip(lower_threshold, round(upper_threshold))"
      ]
    },
    {
      "cell_type": "code",
      "execution_count": null,
      "metadata": {
        "colab": {
          "base_uri": "https://localhost:8080/"
        },
        "id": "9QrGVK3Vf5BA",
        "outputId": "221e9b46-92ff-4c87-f740-b36d7d9270f8"
      },
      "outputs": [
        {
          "output_type": "execute_result",
          "data": {
            "text/plain": [
              "count    45211.000000\n",
              "mean        40.862799\n",
              "std         10.379659\n",
              "min         18.000000\n",
              "25%         33.000000\n",
              "50%         39.000000\n",
              "75%         48.000000\n",
              "max         70.000000\n",
              "Name: age, dtype: float64"
            ]
          },
          "metadata": {},
          "execution_count": 13
        }
      ],
      "source": [
        "df.age.describe()"
      ]
    },
    {
      "cell_type": "code",
      "execution_count": null,
      "metadata": {
        "colab": {
          "base_uri": "https://localhost:8080/"
        },
        "id": "BHXZFDpogHXv",
        "outputId": "9a51c964-85dc-42be-b652-242f1dd73188"
      },
      "outputs": [
        {
          "output_type": "execute_result",
          "data": {
            "text/plain": [
              "dtype('int64')"
            ]
          },
          "metadata": {},
          "execution_count": 14
        }
      ],
      "source": [
        "df.age.dtypes"
      ]
    },
    {
      "cell_type": "code",
      "execution_count": null,
      "metadata": {
        "colab": {
          "base_uri": "https://localhost:8080/"
        },
        "id": "n8k_hs72iaeO",
        "outputId": "230a5b68-da5d-4683-ae94-9d1c1738c74e"
      },
      "outputs": [
        {
          "output_type": "execute_result",
          "data": {
            "text/plain": [
              "array(['management', 'technician', 'entrepreneur', 'blue-collar',\n",
              "       'unknown', 'retired', 'admin.', 'services', 'self-employed',\n",
              "       'unemployed', 'housemaid', 'student'], dtype=object)"
            ]
          },
          "metadata": {},
          "execution_count": 15
        }
      ],
      "source": [
        "df.job.unique()"
      ]
    },
    {
      "cell_type": "code",
      "execution_count": null,
      "metadata": {
        "id": "KK7PCLwajcKR"
      },
      "outputs": [],
      "source": [
        "df.job = df['job'].replace('admin.','admin')"
      ]
    },
    {
      "cell_type": "code",
      "execution_count": null,
      "metadata": {
        "colab": {
          "base_uri": "https://localhost:8080/"
        },
        "id": "5Mm2C1yDizFR",
        "outputId": "2bf21c4c-cf02-4af9-f13f-1e1b725f88b3"
      },
      "outputs": [
        {
          "output_type": "execute_result",
          "data": {
            "text/plain": [
              "blue-collar      9732\n",
              "management       9458\n",
              "technician       7597\n",
              "admin            5171\n",
              "services         4154\n",
              "retired          2264\n",
              "self-employed    1579\n",
              "entrepreneur     1487\n",
              "unemployed       1303\n",
              "housemaid        1240\n",
              "student           938\n",
              "unknown           288\n",
              "Name: job, dtype: int64"
            ]
          },
          "metadata": {},
          "execution_count": 17
        }
      ],
      "source": [
        "df.job.value_counts()"
      ]
    },
    {
      "cell_type": "code",
      "execution_count": null,
      "metadata": {
        "colab": {
          "base_uri": "https://localhost:8080/"
        },
        "id": "U1a7st4kkifY",
        "outputId": "2544109e-fa76-45dd-b0c1-df5fdaa93f88"
      },
      "outputs": [
        {
          "output_type": "execute_result",
          "data": {
            "text/plain": [
              "dtype('O')"
            ]
          },
          "metadata": {},
          "execution_count": 18
        }
      ],
      "source": [
        "df.job.dtype"
      ]
    },
    {
      "cell_type": "code",
      "execution_count": null,
      "metadata": {
        "colab": {
          "base_uri": "https://localhost:8080/"
        },
        "id": "8lPRBYuaj388",
        "outputId": "e2aaad51-5355-40f7-874a-1390024f1ddf"
      },
      "outputs": [
        {
          "output_type": "execute_result",
          "data": {
            "text/plain": [
              "array(['married', 'single', 'divorced'], dtype=object)"
            ]
          },
          "metadata": {},
          "execution_count": 19
        }
      ],
      "source": [
        "df.marital.unique()"
      ]
    },
    {
      "cell_type": "code",
      "execution_count": null,
      "metadata": {
        "colab": {
          "base_uri": "https://localhost:8080/"
        },
        "id": "euvz2Uptj6uB",
        "outputId": "9701b758-65ce-4f03-9d4a-506a921613c4"
      },
      "outputs": [
        {
          "output_type": "execute_result",
          "data": {
            "text/plain": [
              "married     27214\n",
              "single      12790\n",
              "divorced     5207\n",
              "Name: marital, dtype: int64"
            ]
          },
          "metadata": {},
          "execution_count": 20
        }
      ],
      "source": [
        "df.marital.value_counts()"
      ]
    },
    {
      "cell_type": "code",
      "execution_count": null,
      "metadata": {
        "colab": {
          "base_uri": "https://localhost:8080/"
        },
        "id": "NlO5Y--3korQ",
        "outputId": "3a3736a2-af96-4804-8fea-0a9be1a1df02"
      },
      "outputs": [
        {
          "output_type": "execute_result",
          "data": {
            "text/plain": [
              "dtype('O')"
            ]
          },
          "metadata": {},
          "execution_count": 21
        }
      ],
      "source": [
        "df.marital.dtype"
      ]
    },
    {
      "cell_type": "code",
      "execution_count": null,
      "metadata": {
        "colab": {
          "base_uri": "https://localhost:8080/"
        },
        "id": "vwtSUiaZkSyx",
        "outputId": "0b54da86-dcba-426f-a739-f22a69889a17"
      },
      "outputs": [
        {
          "output_type": "execute_result",
          "data": {
            "text/plain": [
              "array(['tertiary', 'secondary', 'unknown', 'primary'], dtype=object)"
            ]
          },
          "metadata": {},
          "execution_count": 22
        }
      ],
      "source": [
        "df.education_qual.unique()"
      ]
    },
    {
      "cell_type": "code",
      "execution_count": null,
      "metadata": {
        "colab": {
          "base_uri": "https://localhost:8080/"
        },
        "id": "KqAZTs3ckVsE",
        "outputId": "baf0da43-577f-4d11-f435-2b3042288c2d"
      },
      "outputs": [
        {
          "output_type": "execute_result",
          "data": {
            "text/plain": [
              "secondary    23202\n",
              "tertiary     13301\n",
              "primary       6851\n",
              "unknown       1857\n",
              "Name: education_qual, dtype: int64"
            ]
          },
          "metadata": {},
          "execution_count": 23
        }
      ],
      "source": [
        "df.education_qual.value_counts()"
      ]
    },
    {
      "cell_type": "code",
      "execution_count": null,
      "metadata": {
        "colab": {
          "base_uri": "https://localhost:8080/"
        },
        "id": "PXfPdCL-kr9J",
        "outputId": "ff3ba68c-2cde-4a58-a07c-58675f6ab94b"
      },
      "outputs": [
        {
          "output_type": "execute_result",
          "data": {
            "text/plain": [
              "dtype('O')"
            ]
          },
          "metadata": {},
          "execution_count": 24
        }
      ],
      "source": [
        "df.education_qual.dtype"
      ]
    },
    {
      "cell_type": "code",
      "execution_count": null,
      "metadata": {
        "colab": {
          "base_uri": "https://localhost:8080/"
        },
        "id": "AhORLbkglFcA",
        "outputId": "c339e0b5-6735-4a4a-f3dc-eafc38a96413"
      },
      "outputs": [
        {
          "output_type": "execute_result",
          "data": {
            "text/plain": [
              "array(['unknown', 'cellular', 'telephone'], dtype=object)"
            ]
          },
          "metadata": {},
          "execution_count": 25
        }
      ],
      "source": [
        "df.call_type.unique()"
      ]
    },
    {
      "cell_type": "code",
      "execution_count": null,
      "metadata": {
        "colab": {
          "base_uri": "https://localhost:8080/"
        },
        "id": "1TcUbGnblJdN",
        "outputId": "2c120cd5-ffbc-4bee-98be-b1002ac3595d"
      },
      "outputs": [
        {
          "output_type": "execute_result",
          "data": {
            "text/plain": [
              "cellular     29285\n",
              "unknown      13020\n",
              "telephone     2906\n",
              "Name: call_type, dtype: int64"
            ]
          },
          "metadata": {},
          "execution_count": 26
        }
      ],
      "source": [
        "df.call_type.value_counts()"
      ]
    },
    {
      "cell_type": "code",
      "execution_count": null,
      "metadata": {
        "colab": {
          "base_uri": "https://localhost:8080/"
        },
        "id": "vK6WANx2lRSo",
        "outputId": "89b57f78-b01a-468a-eb6e-e0a4f785c7ca"
      },
      "outputs": [
        {
          "output_type": "execute_result",
          "data": {
            "text/plain": [
              "dtype('O')"
            ]
          },
          "metadata": {},
          "execution_count": 27
        }
      ],
      "source": [
        "df.call_type.dtype"
      ]
    },
    {
      "cell_type": "code",
      "execution_count": null,
      "metadata": {
        "colab": {
          "base_uri": "https://localhost:8080/"
        },
        "id": "zTsg-dugl1SR",
        "outputId": "79e0677e-33ea-43e0-ffb3-7c9e673828f1"
      },
      "outputs": [
        {
          "output_type": "execute_result",
          "data": {
            "text/plain": [
              "array(['may', 'jun', 'jul', 'aug', 'oct', 'nov', 'dec', 'jan', 'feb',\n",
              "       'mar', 'apr', 'sep'], dtype=object)"
            ]
          },
          "metadata": {},
          "execution_count": 28
        }
      ],
      "source": [
        "df.mon.unique()"
      ]
    },
    {
      "cell_type": "code",
      "execution_count": null,
      "metadata": {
        "colab": {
          "base_uri": "https://localhost:8080/"
        },
        "id": "z_SzdGUnl30Z",
        "outputId": "28aa5d7c-946f-4233-ac61-4867cfa69327"
      },
      "outputs": [
        {
          "output_type": "execute_result",
          "data": {
            "text/plain": [
              "may    13766\n",
              "jul     6895\n",
              "aug     6247\n",
              "jun     5341\n",
              "nov     3970\n",
              "apr     2932\n",
              "feb     2649\n",
              "jan     1403\n",
              "oct      738\n",
              "sep      579\n",
              "mar      477\n",
              "dec      214\n",
              "Name: mon, dtype: int64"
            ]
          },
          "metadata": {},
          "execution_count": 29
        }
      ],
      "source": [
        "df.mon.value_counts()"
      ]
    },
    {
      "cell_type": "code",
      "execution_count": null,
      "metadata": {
        "colab": {
          "base_uri": "https://localhost:8080/"
        },
        "id": "mkr8gw_Ql_Dq",
        "outputId": "ec27daec-fe20-4297-f948-fa0fc5d7fc7c"
      },
      "outputs": [
        {
          "output_type": "execute_result",
          "data": {
            "text/plain": [
              "dtype('O')"
            ]
          },
          "metadata": {},
          "execution_count": 30
        }
      ],
      "source": [
        "df.mon.dtype"
      ]
    },
    {
      "cell_type": "code",
      "execution_count": null,
      "metadata": {
        "colab": {
          "base_uri": "https://localhost:8080/"
        },
        "id": "K1ZOhqZFmW1s",
        "outputId": "4c4109ed-d1d9-4142-b8b2-5691b370f5ae"
      },
      "outputs": [
        {
          "output_type": "execute_result",
          "data": {
            "text/plain": [
              "count    45211.000000\n",
              "mean       258.163080\n",
              "std        257.527812\n",
              "min          0.000000\n",
              "25%        103.000000\n",
              "50%        180.000000\n",
              "75%        319.000000\n",
              "max       4918.000000\n",
              "Name: dur, dtype: float64"
            ]
          },
          "metadata": {},
          "execution_count": 31
        }
      ],
      "source": [
        "df.dur.describe()"
      ]
    },
    {
      "cell_type": "code",
      "execution_count": null,
      "metadata": {
        "colab": {
          "base_uri": "https://localhost:8080/"
        },
        "id": "goB1qSikmbCx",
        "outputId": "659f6901-1b09-4b88-e4fb-a070767f3fce"
      },
      "outputs": [
        {
          "output_type": "execute_result",
          "data": {
            "text/plain": [
              "(103.0, 319.0, 216.0, -221.0, 643.0)"
            ]
          },
          "metadata": {},
          "execution_count": 32
        }
      ],
      "source": [
        "## Outlier detection and correction\n",
        "\n",
        "q3 = df.dur.quantile(0.75)\n",
        "q1 = df.dur.quantile(0.25)\n",
        "iqr = q3 - q1\n",
        "\n",
        "upper_threshold = q3 + (1.5 * iqr)\n",
        "lower_threshold = q1 - (1.5 * iqr)\n",
        "\n",
        "q1, q3, iqr, lower_threshold, upper_threshold"
      ]
    },
    {
      "cell_type": "code",
      "execution_count": null,
      "metadata": {
        "id": "-Urb-kf5nA93"
      },
      "outputs": [],
      "source": [
        "df.dur = df.dur.clip(lower_threshold, upper_threshold)"
      ]
    },
    {
      "cell_type": "code",
      "execution_count": null,
      "metadata": {
        "colab": {
          "base_uri": "https://localhost:8080/"
        },
        "id": "COrWMZPwm4iF",
        "outputId": "7fa1a4a2-b599-4a98-8744-6304b152c74f"
      },
      "outputs": [
        {
          "output_type": "execute_result",
          "data": {
            "text/plain": [
              "count    45211.000000\n",
              "mean       234.939307\n",
              "std        176.749932\n",
              "min          0.000000\n",
              "25%        103.000000\n",
              "50%        180.000000\n",
              "75%        319.000000\n",
              "max        643.000000\n",
              "Name: dur, dtype: float64"
            ]
          },
          "metadata": {},
          "execution_count": 34
        }
      ],
      "source": [
        "df.dur.describe()"
      ]
    },
    {
      "cell_type": "code",
      "execution_count": null,
      "metadata": {
        "colab": {
          "base_uri": "https://localhost:8080/"
        },
        "id": "HqvadEcbnDOm",
        "outputId": "548533f6-07f2-46f6-fc83-cfaa56c4a131"
      },
      "outputs": [
        {
          "output_type": "execute_result",
          "data": {
            "text/plain": [
              "dtype('int64')"
            ]
          },
          "metadata": {},
          "execution_count": 35
        }
      ],
      "source": [
        "df.dur.dtype"
      ]
    },
    {
      "cell_type": "code",
      "execution_count": null,
      "metadata": {
        "colab": {
          "base_uri": "https://localhost:8080/"
        },
        "id": "HQDxtNXPnMEE",
        "outputId": "4e6223f5-0b5f-4e4b-c66c-fa11ffa86e65"
      },
      "outputs": [
        {
          "output_type": "execute_result",
          "data": {
            "text/plain": [
              "array([ 1,  2,  3,  5,  4,  6,  7,  8,  9, 10, 11, 12, 13, 19, 14, 24, 16,\n",
              "       32, 18, 22, 15, 17, 25, 21, 43, 51, 63, 41, 26, 28, 55, 50, 38, 23,\n",
              "       20, 29, 31, 37, 30, 46, 27, 58, 33, 35, 34, 36, 39, 44])"
            ]
          },
          "metadata": {},
          "execution_count": 36
        }
      ],
      "source": [
        "df.num_calls.unique()"
      ]
    },
    {
      "cell_type": "code",
      "execution_count": null,
      "metadata": {
        "colab": {
          "base_uri": "https://localhost:8080/"
        },
        "id": "K1El0xVWnbmp",
        "outputId": "277e531d-72d1-4dc2-aa0f-8b64a019c2af"
      },
      "outputs": [
        {
          "output_type": "execute_result",
          "data": {
            "text/plain": [
              "count    45211.000000\n",
              "mean         2.763841\n",
              "std          3.098021\n",
              "min          1.000000\n",
              "25%          1.000000\n",
              "50%          2.000000\n",
              "75%          3.000000\n",
              "max         63.000000\n",
              "Name: num_calls, dtype: float64"
            ]
          },
          "metadata": {},
          "execution_count": 37
        }
      ],
      "source": [
        "df.num_calls.describe()"
      ]
    },
    {
      "cell_type": "code",
      "execution_count": null,
      "metadata": {
        "colab": {
          "base_uri": "https://localhost:8080/"
        },
        "id": "yTm6hUg3nn--",
        "outputId": "f9207cd9-e445-44ee-991e-af5b8304348e"
      },
      "outputs": [
        {
          "output_type": "execute_result",
          "data": {
            "text/plain": [
              "(1.0, 3.0, 2.0, -2.0, 6.0)"
            ]
          },
          "metadata": {},
          "execution_count": 38
        }
      ],
      "source": [
        "## Outlier detection and correction\n",
        "\n",
        "q3 = df.num_calls.quantile(0.75)\n",
        "q1 = df.num_calls.quantile(0.25)\n",
        "iqr = q3 - q1\n",
        "\n",
        "upper_threshold = q3 + (1.5 * iqr)\n",
        "lower_threshold = q1 - (1.5 * iqr)\n",
        "\n",
        "q1, q3, iqr, lower_threshold, upper_threshold"
      ]
    },
    {
      "cell_type": "code",
      "execution_count": null,
      "metadata": {
        "id": "rE62_3zRnySe"
      },
      "outputs": [],
      "source": [
        "df.num_calls = df.num_calls.clip(lower_threshold, upper_threshold)"
      ]
    },
    {
      "cell_type": "code",
      "execution_count": null,
      "metadata": {
        "colab": {
          "base_uri": "https://localhost:8080/"
        },
        "id": "_OTrFMFfn-IW",
        "outputId": "32d97a9f-ecfd-4def-fd1d-6723fb2e454f"
      },
      "outputs": [
        {
          "output_type": "execute_result",
          "data": {
            "text/plain": [
              "count    45211.000000\n",
              "mean         2.392228\n",
              "std          1.600111\n",
              "min          1.000000\n",
              "25%          1.000000\n",
              "50%          2.000000\n",
              "75%          3.000000\n",
              "max          6.000000\n",
              "Name: num_calls, dtype: float64"
            ]
          },
          "metadata": {},
          "execution_count": 40
        }
      ],
      "source": [
        "df.num_calls.describe()"
      ]
    },
    {
      "cell_type": "code",
      "execution_count": null,
      "metadata": {
        "colab": {
          "base_uri": "https://localhost:8080/"
        },
        "id": "XqFy6moJobBG",
        "outputId": "3e5d1719-a208-4e96-e5dd-0367bc3108dd"
      },
      "outputs": [
        {
          "output_type": "execute_result",
          "data": {
            "text/plain": [
              "dtype('O')"
            ]
          },
          "metadata": {},
          "execution_count": 41
        }
      ],
      "source": [
        "df.prev_outcome.dtype"
      ]
    },
    {
      "cell_type": "code",
      "execution_count": null,
      "metadata": {
        "colab": {
          "base_uri": "https://localhost:8080/"
        },
        "id": "Vv6yKpdtogyc",
        "outputId": "e07c5e02-ea9a-4457-bf11-e0427ffc6fe3"
      },
      "outputs": [
        {
          "output_type": "execute_result",
          "data": {
            "text/plain": [
              "array(['unknown', 'failure', 'other', 'success'], dtype=object)"
            ]
          },
          "metadata": {},
          "execution_count": 42
        }
      ],
      "source": [
        "df.prev_outcome.unique()"
      ]
    },
    {
      "cell_type": "code",
      "execution_count": null,
      "metadata": {
        "colab": {
          "base_uri": "https://localhost:8080/"
        },
        "id": "2bgl51OTokFg",
        "outputId": "068bdfc9-0ee8-41be-8e8d-146dabd351c5"
      },
      "outputs": [
        {
          "output_type": "execute_result",
          "data": {
            "text/plain": [
              "unknown    36959\n",
              "failure     4901\n",
              "other       1840\n",
              "success     1511\n",
              "Name: prev_outcome, dtype: int64"
            ]
          },
          "metadata": {},
          "execution_count": 43
        }
      ],
      "source": [
        "df.prev_outcome.value_counts()"
      ]
    },
    {
      "cell_type": "code",
      "execution_count": null,
      "metadata": {
        "colab": {
          "base_uri": "https://localhost:8080/"
        },
        "id": "dg87RSmjowVg",
        "outputId": "cbd3b7cb-9157-424a-9da1-a2e426192df2"
      },
      "outputs": [
        {
          "output_type": "execute_result",
          "data": {
            "text/plain": [
              "array(['no', 'yes'], dtype=object)"
            ]
          },
          "metadata": {},
          "execution_count": 44
        }
      ],
      "source": [
        "df.y.unique()"
      ]
    },
    {
      "cell_type": "code",
      "execution_count": null,
      "metadata": {
        "colab": {
          "base_uri": "https://localhost:8080/"
        },
        "id": "QgkJSviwozbH",
        "outputId": "b29e3686-61b9-4093-9e52-9348043b1faf"
      },
      "outputs": [
        {
          "output_type": "execute_result",
          "data": {
            "text/plain": [
              "no     39922\n",
              "yes     5289\n",
              "Name: y, dtype: int64"
            ]
          },
          "metadata": {},
          "execution_count": 45
        }
      ],
      "source": [
        "df.y.value_counts()"
      ]
    },
    {
      "cell_type": "code",
      "execution_count": null,
      "metadata": {
        "colab": {
          "base_uri": "https://localhost:8080/"
        },
        "id": "SzmLB65xo5Lz",
        "outputId": "f3e5db49-128d-4149-a5e7-55eb59afbc84"
      },
      "outputs": [
        {
          "output_type": "execute_result",
          "data": {
            "text/plain": [
              "dtype('O')"
            ]
          },
          "metadata": {},
          "execution_count": 46
        }
      ],
      "source": [
        "df.y.dtype"
      ]
    },
    {
      "cell_type": "code",
      "execution_count": null,
      "metadata": {
        "colab": {
          "base_uri": "https://localhost:8080/"
        },
        "id": "dJcanmpJozsZ",
        "outputId": "b2e3e010-eac4-4a71-9135-7b1198a6ee9b"
      },
      "outputs": [
        {
          "output_type": "execute_result",
          "data": {
            "text/plain": [
              "(45211, 11)"
            ]
          },
          "metadata": {},
          "execution_count": 47
        }
      ],
      "source": [
        "df.shape"
      ]
    },
    {
      "cell_type": "code",
      "execution_count": null,
      "metadata": {
        "id": "eXLF6ATYovrW"
      },
      "outputs": [],
      "source": [
        "df = df.drop_duplicates()"
      ]
    },
    {
      "cell_type": "code",
      "execution_count": null,
      "metadata": {
        "colab": {
          "base_uri": "https://localhost:8080/"
        },
        "id": "x1p5KnUoo5q2",
        "outputId": "212faabe-9cb4-4e67-8354-02cd127b009e"
      },
      "outputs": [
        {
          "output_type": "execute_result",
          "data": {
            "text/plain": [
              "(45195, 11)"
            ]
          },
          "metadata": {},
          "execution_count": 49
        }
      ],
      "source": [
        "df.shape"
      ]
    },
    {
      "cell_type": "markdown",
      "metadata": {
        "id": "GTCEWPAmpvRV"
      },
      "source": [
        "# ***EDA - Exploratory Data Analysis***"
      ]
    },
    {
      "cell_type": "code",
      "execution_count": null,
      "metadata": {
        "id": "SxJtfVbYfiJL"
      },
      "outputs": [],
      "source": [
        "import matplotlib\n",
        "import matplotlib.pyplot as plt\n",
        "import seaborn as sns\n",
        "%matplotlib inline"
      ]
    },
    {
      "cell_type": "code",
      "execution_count": null,
      "metadata": {
        "colab": {
          "base_uri": "https://localhost:8080/"
        },
        "id": "bfrIYW49fd_C",
        "outputId": "4c3263b2-b350-4e16-a5d5-57f5ce300d4f"
      },
      "outputs": [
        {
          "output_type": "execute_result",
          "data": {
            "text/plain": [
              "Index(['age', 'job', 'marital', 'education_qual', 'call_type', 'day', 'mon',\n",
              "       'dur', 'num_calls', 'prev_outcome', 'y'],\n",
              "      dtype='object')"
            ]
          },
          "metadata": {},
          "execution_count": 51
        }
      ],
      "source": [
        "df.columns"
      ]
    },
    {
      "cell_type": "code",
      "execution_count": null,
      "metadata": {
        "id": "hQmIU0vOCtyp"
      },
      "outputs": [],
      "source": [
        "df['target'] = df.y.copy()\n",
        "df.target = df.target.map({'yes':1, 'no':0})"
      ]
    },
    {
      "cell_type": "code",
      "execution_count": null,
      "metadata": {
        "colab": {
          "base_uri": "https://localhost:8080/"
        },
        "id": "srYmkBB6HLle",
        "outputId": "f2b4a8fe-8a0b-475c-dd3c-5dba9176e6e0"
      },
      "outputs": [
        {
          "output_type": "execute_result",
          "data": {
            "text/plain": [
              "(array([ 0,  1,  2,  3,  4,  5,  6,  7,  8,  9, 10, 11]),\n",
              " [Text(0, 0, 'management'),\n",
              "  Text(1, 0, 'technician'),\n",
              "  Text(2, 0, 'entrepreneur'),\n",
              "  Text(3, 0, 'blue-collar'),\n",
              "  Text(4, 0, 'unknown'),\n",
              "  Text(5, 0, 'retired'),\n",
              "  Text(6, 0, 'admin'),\n",
              "  Text(7, 0, 'services'),\n",
              "  Text(8, 0, 'self-employed'),\n",
              "  Text(9, 0, 'unemployed'),\n",
              "  Text(10, 0, 'housemaid'),\n",
              "  Text(11, 0, 'student')])"
            ]
          },
          "metadata": {},
          "execution_count": 53
        },
        {
          "output_type": "display_data",
          "data": {
            "text/plain": [
              "<Figure size 640x480 with 1 Axes>"
            ],
            "image/png": "[encoded data removed]"
          },
          "metadata": {}
        }
      ],
      "source": [
        "sns.boxplot(x = \"job\", y = 'age', hue = 'target', data = df)\n",
        "plt.xticks(fontsize=12)\n",
        "plt.xticks(rotation=45)"
      ]
    },
    {
      "cell_type": "code",
      "execution_count": null,
      "metadata": {
        "colab": {
          "base_uri": "https://localhost:8080/"
        },
        "id": "VPkzt1qoGt6_",
        "outputId": "5542e73d-3469-4326-8596-0f6aeaddacaa"
      },
      "outputs": [
        {
          "output_type": "execute_result",
          "data": {
            "text/plain": [
              "<Axes: xlabel='marital', ylabel='age'>"
            ]
          },
          "metadata": {},
          "execution_count": 54
        },
        {
          "output_type": "display_data",
          "data": {
            "text/plain": [
              "<Figure size 640x480 with 1 Axes>"
            ],
            "image/png": "[encoded data removed]"
          },
          "metadata": {}
        }
      ],
      "source": [
        "sns.boxplot(x = \"marital\", y = 'age', hue = 'target', data = df)"
      ]
    },
    {
      "cell_type": "code",
      "execution_count": null,
      "metadata": {
        "id": "j_g6UpQ8JVtD"
      },
      "outputs": [],
      "source": [
        "## Observations - Married and Divorced people are taking more Insurances, when comared with single."
      ]
    },
    {
      "cell_type": "code",
      "execution_count": null,
      "metadata": {
        "colab": {
          "base_uri": "https://localhost:8080/"
        },
        "id": "PX77xcfLJ3R3",
        "outputId": "b0d4fbda-3e82-4cb7-facd-3f98251c7855"
      },
      "outputs": [
        {
          "output_type": "execute_result",
          "data": {
            "text/plain": [
              "<Axes: xlabel='education_qual', ylabel='age'>"
            ]
          },
          "metadata": {},
          "execution_count": 56
        },
        {
          "output_type": "display_data",
          "data": {
            "text/plain": [
              "<Figure size 640x480 with 1 Axes>"
            ],
            "image/png": "[encoded data removed]"
          },
          "metadata": {}
        }
      ],
      "source": [
        "sns.boxplot(x = \"education_qual\", y = 'age', hue = 'target', data = df)"
      ]
    },
    {
      "cell_type": "code",
      "execution_count": null,
      "metadata": {
        "colab": {
          "base_uri": "https://localhost:8080/"
        },
        "id": "43hMMsuUKRzX",
        "outputId": "feedb006-bb3c-4b9d-b8b3-75b16b766932"
      },
      "outputs": [
        {
          "output_type": "execute_result",
          "data": {
            "text/plain": [
              "<Axes: xlabel='call_type', ylabel='age'>"
            ]
          },
          "metadata": {},
          "execution_count": 57
        },
        {
          "output_type": "display_data",
          "data": {
            "text/plain": [
              "<Figure size 640x480 with 1 Axes>"
            ],
            "image/png": "[encoded data removed]"
          },
          "metadata": {}
        }
      ],
      "source": [
        "sns.boxplot(x = \"call_type\", y = 'age', hue = 'target', data = df)"
      ]
    },
    {
      "cell_type": "code",
      "execution_count": null,
      "metadata": {
        "id": "gh9ZVpsRLdIA"
      },
      "outputs": [],
      "source": [
        "#Observation - Most of the people prefers Telephone"
      ]
    },
    {
      "cell_type": "code",
      "execution_count": null,
      "metadata": {
        "colab": {
          "base_uri": "https://localhost:8080/"
        },
        "id": "9Yvj1VZyKtKD",
        "outputId": "910eba71-54d4-4d54-dff9-262c519a9148"
      },
      "outputs": [
        {
          "output_type": "execute_result",
          "data": {
            "text/plain": [
              "<Axes: xlabel='day', ylabel='age'>"
            ]
          },
          "metadata": {},
          "execution_count": 59
        },
        {
          "output_type": "display_data",
          "data": {
            "text/plain": [
              "<Figure size 640x480 with 1 Axes>"
            ],
            "image/png": "[encoded data removed]"
          },
          "metadata": {}
        }
      ],
      "source": [
        "#matplotlib.rcParams['figure.figsize'] = (12,6)\n",
        "\n",
        "sns.boxplot(x = \"day\", y = 'age', hue = 'target', data = df)"
      ]
    },
    {
      "cell_type": "code",
      "execution_count": null,
      "metadata": {
        "colab": {
          "base_uri": "https://localhost:8080/"
        },
        "id": "h1Cx6tu5NAwF",
        "outputId": "60e5db19-9b46-49aa-e3f4-17dec1e36080"
      },
      "outputs": [
        {
          "output_type": "execute_result",
          "data": {
            "text/plain": [
              "<Axes: xlabel='mon', ylabel='age'>"
            ]
          },
          "metadata": {},
          "execution_count": 60
        },
        {
          "output_type": "display_data",
          "data": {
            "text/plain": [
              "<Figure size 640x480 with 1 Axes>"
            ],
            "image/png": "[encoded data removed]"
          },
          "metadata": {}
        }
      ],
      "source": [
        "sns.boxplot(x = \"mon\", y = 'age', hue = 'target', data = df)"
      ]
    },
    {
      "cell_type": "code",
      "execution_count": null,
      "metadata": {
        "colab": {
          "base_uri": "https://localhost:8080/"
        },
        "id": "s8BDriylOSPz",
        "outputId": "bf74c6e0-8299-483d-daac-1a2a2099ed61"
      },
      "outputs": [
        {
          "output_type": "execute_result",
          "data": {
            "text/plain": [
              "<Axes: xlabel='num_calls', ylabel='age'>"
            ]
          },
          "metadata": {},
          "execution_count": 61
        },
        {
          "output_type": "display_data",
          "data": {
            "text/plain": [
              "<Figure size 640x480 with 1 Axes>"
            ],
            "image/png": "[encoded data removed]"
          },
          "metadata": {}
        }
      ],
      "source": [
        "sns.boxplot(x = \"num_calls\", y = 'age', hue = 'target', data = df)"
      ]
    },
    {
      "cell_type": "code",
      "execution_count": null,
      "metadata": {
        "colab": {
          "base_uri": "https://localhost:8080/"
        },
        "id": "_mUi0DaiPIxl",
        "outputId": "2c54cd13-3f1b-4d00-dbc6-1de1029dedb1"
      },
      "outputs": [
        {
          "output_type": "execute_result",
          "data": {
            "text/plain": [
              "<Axes: xlabel='prev_outcome', ylabel='age'>"
            ]
          },
          "metadata": {},
          "execution_count": 62
        },
        {
          "output_type": "display_data",
          "data": {
            "text/plain": [
              "<Figure size 640x480 with 1 Axes>"
            ],
            "image/png": "[encoded data removed]"
          },
          "metadata": {}
        }
      ],
      "source": [
        "sns.boxplot(x = \"prev_outcome\", y = 'age', hue = 'target', data = df)"
      ]
    },
    {
      "cell_type": "code",
      "execution_count": null,
      "metadata": {
        "colab": {
          "base_uri": "https://localhost:8080/"
        },
        "id": "7VM2BjxpP1oO",
        "outputId": "cf3a64a6-a109-4de8-bb1b-2fee0ee0fd58"
      },
      "outputs": [
        {
          "output_type": "execute_result",
          "data": {
            "text/plain": [
              "<Axes: xlabel='marital', ylabel='count'>"
            ]
          },
          "metadata": {},
          "execution_count": 63
        },
        {
          "output_type": "display_data",
          "data": {
            "text/plain": [
              "<Figure size 640x480 with 1 Axes>"
            ],
            "image/png": "[encoded data removed]"
          },
          "metadata": {}
        }
      ],
      "source": [
        "sns.countplot(x = \"marital\", hue = 'target', data = df)"
      ]
    },
    {
      "cell_type": "code",
      "execution_count": null,
      "metadata": {
        "colab": {
          "base_uri": "https://localhost:8080/"
        },
        "id": "lMXVelrxfhKr",
        "outputId": "aa0dea6c-a311-497d-e4af-9cfa3d61dcfc"
      },
      "outputs": [
        {
          "output_type": "execute_result",
          "data": {
            "text/plain": [
              "<Axes: xlabel='target', ylabel='age'>"
            ]
          },
          "metadata": {},
          "execution_count": 64
        },
        {
          "output_type": "display_data",
          "data": {
            "text/plain": [
              "<Figure size 640x480 with 1 Axes>"
            ],
            "image/png": "[encoded data removed]"
          },
          "metadata": {}
        }
      ],
      "source": [
        "## age - Conti  y - Cat => bar / box plot\n",
        "\n",
        "sns.boxplot(x = \"target\", y = 'age', hue='target', data = df)"
      ]
    },
    {
      "cell_type": "code",
      "execution_count": null,
      "metadata": {
        "colab": {
          "base_uri": "https://localhost:8080/"
        },
        "id": "UO7pIeBUhVo3",
        "outputId": "86914f7a-5e74-48a3-d6b2-b940658ed70d"
      },
      "outputs": [
        {
          "output_type": "execute_result",
          "data": {
            "text/plain": [
              "<Axes: xlabel='job'>"
            ]
          },
          "metadata": {},
          "execution_count": 65
        },
        {
          "output_type": "display_data",
          "data": {
            "text/plain": [
              "<Figure size 640x480 with 1 Axes>"
            ],
            "image/png": "[encoded data removed]"
          },
          "metadata": {}
        }
      ],
      "source": [
        "## job - Cat  y - Cat => Bar/ Stacked Bar Chart\n",
        "\n",
        "df.groupby('job')['target'].mean().plot(kind = 'bar')"
      ]
    },
    {
      "cell_type": "markdown",
      "metadata": {
        "id": "U486THornrst"
      },
      "source": [
        "Observation - Chances of taking Insurance is changing with the Job\n",
        "\n",
        "\n"
      ]
    },
    {
      "cell_type": "code",
      "execution_count": null,
      "metadata": {
        "colab": {
          "base_uri": "https://localhost:8080/"
        },
        "id": "Vmu0wTO-nrUK",
        "outputId": "69cfb01b-66f6-4960-fd5a-ecdffc1c1de3"
      },
      "outputs": [
        {
          "output_type": "execute_result",
          "data": {
            "text/plain": [
              "<Axes: xlabel='marital'>"
            ]
          },
          "metadata": {},
          "execution_count": 66
        },
        {
          "output_type": "display_data",
          "data": {
            "text/plain": [
              "<Figure size 640x480 with 1 Axes>"
            ],
            "image/png": "[encoded data removed]"
          },
          "metadata": {}
        }
      ],
      "source": [
        "## marital - Cat  y - Cat => bar / Stacked Bar\n",
        "\n",
        "df.groupby('marital')['target'].mean().plot(kind = 'bar')"
      ]
    },
    {
      "cell_type": "markdown",
      "metadata": {
        "id": "wu9U8ChaoMyd"
      },
      "source": [
        "Observation - Chances of taking Insurance is changing with the Mariage status."
      ]
    },
    {
      "cell_type": "code",
      "execution_count": null,
      "metadata": {
        "colab": {
          "base_uri": "https://localhost:8080/"
        },
        "id": "mDtgCmhfoUf5",
        "outputId": "3c5117cd-6fe4-4464-c3f2-2f9082ae7918"
      },
      "outputs": [
        {
          "output_type": "execute_result",
          "data": {
            "text/plain": [
              "<Axes: xlabel='education_qual'>"
            ]
          },
          "metadata": {},
          "execution_count": 67
        },
        {
          "output_type": "display_data",
          "data": {
            "text/plain": [
              "<Figure size 640x480 with 1 Axes>"
            ],
            "image/png": "[encoded data removed]"
          },
          "metadata": {}
        }
      ],
      "source": [
        "## education_qual - Cat  y - Cat => bar / Stacked Bar\n",
        "\n",
        "df.groupby('education_qual')['target'].mean().plot(kind = 'bar')"
      ]
    },
    {
      "cell_type": "code",
      "execution_count": null,
      "metadata": {
        "colab": {
          "base_uri": "https://localhost:8080/"
        },
        "id": "-hXuZlrsqWAa",
        "outputId": "c68d1f0e-b7b6-4c6c-8d14-e5ebc0bfa064"
      },
      "outputs": [
        {
          "output_type": "execute_result",
          "data": {
            "text/plain": [
              "<Axes: xlabel='call_type'>"
            ]
          },
          "metadata": {},
          "execution_count": 68
        },
        {
          "output_type": "display_data",
          "data": {
            "text/plain": [
              "<Figure size 640x480 with 1 Axes>"
            ],
            "image/png": "[encoded data removed]"
          },
          "metadata": {}
        }
      ],
      "source": [
        "## call_type - Cat  y - Cat => bar / Stacked Bar\n",
        "\n",
        "df.groupby('call_type')['target'].mean().plot(kind = 'bar')"
      ]
    },
    {
      "cell_type": "code",
      "execution_count": null,
      "metadata": {
        "colab": {
          "base_uri": "https://localhost:8080/"
        },
        "id": "POgd3OwndkkX",
        "outputId": "a9e6a29f-d05b-4110-a00b-c4b19af91676"
      },
      "outputs": [
        {
          "output_type": "execute_result",
          "data": {
            "text/plain": [
              "<Axes: xlabel='day'>"
            ]
          },
          "metadata": {},
          "execution_count": 69
        },
        {
          "output_type": "display_data",
          "data": {
            "text/plain": [
              "<Figure size 640x480 with 1 Axes>"
            ],
            "image/png": "[encoded data removed]"
          },
          "metadata": {}
        }
      ],
      "source": [
        "## day - Conti  y - Cat => bar / box plot\n",
        "df.groupby('day')['target'].mean().plot(kind = 'bar')"
      ]
    },
    {
      "cell_type": "code",
      "execution_count": null,
      "metadata": {
        "colab": {
          "base_uri": "https://localhost:8080/"
        },
        "id": "3B-V8I5xriBk",
        "outputId": "2d8c1cba-81da-4eb6-d9f7-74ab80b25f52"
      },
      "outputs": [
        {
          "output_type": "execute_result",
          "data": {
            "text/plain": [
              "<Axes: xlabel='mon'>"
            ]
          },
          "metadata": {},
          "execution_count": 70
        },
        {
          "output_type": "display_data",
          "data": {
            "text/plain": [
              "<Figure size 640x480 with 1 Axes>"
            ],
            "image/png": "[encoded data removed]"
          },
          "metadata": {}
        }
      ],
      "source": [
        "## mon - Cat  y - Cat => bar / Stacked Bar\n",
        "\n",
        "df.groupby('mon')['target'].mean().plot(kind='bar')"
      ]
    },
    {
      "cell_type": "code",
      "execution_count": null,
      "metadata": {
        "colab": {
          "base_uri": "https://localhost:8080/"
        },
        "id": "Qyk2FdAhg3l6",
        "outputId": "ac59cedc-3908-4156-8b7b-6ca809e1d106"
      },
      "outputs": [
        {
          "output_type": "execute_result",
          "data": {
            "text/plain": [
              "<Axes: xlabel='target'>"
            ]
          },
          "metadata": {},
          "execution_count": 71
        },
        {
          "output_type": "display_data",
          "data": {
            "text/plain": [
              "<Figure size 640x480 with 1 Axes>"
            ],
            "image/png": "[encoded data removed]"
          },
          "metadata": {}
        }
      ],
      "source": [
        "## dur - Conti  y - Cat => bar / box plot\n",
        "df.groupby('target')['dur'].mean().plot(kind='bar')"
      ]
    },
    {
      "cell_type": "code",
      "execution_count": null,
      "metadata": {
        "colab": {
          "base_uri": "https://localhost:8080/"
        },
        "id": "-f1MvtcnhdH7",
        "outputId": "b67cd564-7c4c-4449-cacf-1328b10c371f"
      },
      "outputs": [
        {
          "output_type": "execute_result",
          "data": {
            "text/plain": [
              "<Axes: xlabel='num_calls'>"
            ]
          },
          "metadata": {},
          "execution_count": 72
        },
        {
          "output_type": "display_data",
          "data": {
            "text/plain": [
              "<Figure size 640x480 with 1 Axes>"
            ],
            "image/png": "[encoded data removed]"
          },
          "metadata": {}
        }
      ],
      "source": [
        "## num_calls - Conti  y - Cat => bar / box plot\n",
        "df.groupby('num_calls')['target'].mean().plot(kind='bar')"
      ]
    },
    {
      "cell_type": "code",
      "execution_count": null,
      "metadata": {
        "colab": {
          "base_uri": "https://localhost:8080/"
        },
        "id": "l8xfi4KGrxB3",
        "outputId": "a4f97028-263f-4576-d797-0ae0cb9f0e2c"
      },
      "outputs": [
        {
          "output_type": "execute_result",
          "data": {
            "text/plain": [
              "<Axes: xlabel='prev_outcome'>"
            ]
          },
          "metadata": {},
          "execution_count": 73
        },
        {
          "output_type": "display_data",
          "data": {
            "text/plain": [
              "<Figure size 640x480 with 1 Axes>"
            ],
            "image/png": "[encoded data removed]"
          },
          "metadata": {}
        }
      ],
      "source": [
        "## prev_outcome - Cat  y - Cat => bar / Stacked Bar\n",
        "\n",
        "df.groupby('prev_outcome')['target'].mean().plot(kind='bar')"
      ]
    },
    {
      "cell_type": "markdown",
      "metadata": {
        "id": "XpJdHQ76ksYj"
      },
      "source": [
        "# Encode"
      ]
    },
    {
      "cell_type": "code",
      "execution_count": null,
      "metadata": {
        "id": "82AWeJmcl_wQ"
      },
      "outputs": [],
      "source": [
        "del df['y']"
      ]
    },
    {
      "cell_type": "code",
      "execution_count": null,
      "metadata": {
        "colab": {
          "base_uri": "https://localhost:8080/"
        },
        "id": "9BEKiGBhlfaM",
        "outputId": "20c465ec-b8d0-48ff-8db2-c99d2c833c9c"
      },
      "outputs": [
        {
          "output_type": "execute_result",
          "data": {
            "text/plain": [
              "Index(['age', 'job', 'marital', 'education_qual', 'call_type', 'day', 'mon',\n",
              "       'dur', 'num_calls', 'prev_outcome', 'target'],\n",
              "      dtype='object')"
            ]
          },
          "metadata": {},
          "execution_count": 75
        }
      ],
      "source": [
        "df.columns"
      ]
    },
    {
      "cell_type": "code",
      "execution_count": null,
      "metadata": {
        "colab": {
          "base_uri": "https://localhost:8080/"
        },
        "id": "uwMiuuU4lhvY",
        "outputId": "1a3d98bf-a541-427f-fe7b-a887e5b6286b"
      },
      "outputs": [
        {
          "output_type": "execute_result",
          "data": {
            "text/plain": [
              "age                int64\n",
              "job               object\n",
              "marital           object\n",
              "education_qual    object\n",
              "call_type         object\n",
              "day                int64\n",
              "mon               object\n",
              "dur                int64\n",
              "num_calls          int64\n",
              "prev_outcome      object\n",
              "target             int64\n",
              "dtype: object"
            ]
          },
          "metadata": {},
          "execution_count": 76
        }
      ],
      "source": [
        "df.dtypes"
      ]
    },
    {
      "cell_type": "code",
      "execution_count": null,
      "metadata": {
        "colab": {
          "base_uri": "https://localhost:8080/"
        },
        "id": "NaMk6Tz9mFCs",
        "outputId": "94de609f-56ce-4112-a935-8375ce6c5e8a"
      },
      "outputs": [
        {
          "output_type": "execute_result",
          "data": {
            "text/plain": [
              "array(['management', 'technician', 'entrepreneur', 'blue-collar',\n",
              "       'unknown', 'retired', 'admin', 'services', 'self-employed',\n",
              "       'unemployed', 'housemaid', 'student'], dtype=object)"
            ]
          },
          "metadata": {},
          "execution_count": 77
        }
      ],
      "source": [
        "df.job.unique()"
      ]
    },
    {
      "cell_type": "code",
      "execution_count": null,
      "metadata": {
        "colab": {
          "base_uri": "https://localhost:8080/"
        },
        "id": "zzCNUR94m33V",
        "outputId": "04c37866-ad85-4461-f61c-eb42f7a935ff"
      },
      "outputs": [
        {
          "output_type": "execute_result",
          "data": {
            "text/plain": [
              "   job_admin  job_blue-collar  job_entrepreneur  job_housemaid  \\\n",
              "0          0                0                 0              0   \n",
              "1          0                0                 0              0   \n",
              "2          0                0                 1              0   \n",
              "3          0                1                 0              0   \n",
              "4          0                0                 0              0   \n",
              "\n",
              "   job_management  job_retired  job_self-employed  job_services  job_student  \\\n",
              "0               1            0                  0             0            0   \n",
              "1               0            0                  0             0            0   \n",
              "2               0            0                  0             0            0   \n",
              "3               0            0                  0             0            0   \n",
              "4               0            0                  0             0            0   \n",
              "\n",
              "   job_technician  job_unemployed  job_unknown  \n",
              "0               0               0            0  \n",
              "1               1               0            0  \n",
              "2               0               0            0  \n",
              "3               0               0            0  \n",
              "4               0               0            1  "
            ],
            "text/html": [
              "\n",
              "\n",
              "  <div id=\"df-880dd33b-cbf8-4041-8e31-9815b8976ab4\">\n",
              "    <div class=\"colab-df-container\">\n",
              "      <div>\n",
              "<style scoped>\n",
              "    .dataframe tbody tr th:only-of-type {\n",
              "        vertical-align: middle;\n",
              "    }\n",
              "\n",
              "    .dataframe tbody tr th {\n",
              "        vertical-align: top;\n",
              "    }\n",
              "\n",
              "    .dataframe thead th {\n",
              "        text-align: right;\n",
              "    }\n",
              "</style>\n",
              "<table border=\"1\" class=\"dataframe\">\n",
              "  <thead>\n",
              "    <tr style=\"text-align: right;\">\n",
              "      <th></th>\n",
              "      <th>job_admin</th>\n",
              "      <th>job_blue-collar</th>\n",
              "      <th>job_entrepreneur</th>\n",
              "      <th>job_housemaid</th>\n",
              "      <th>job_management</th>\n",
              "      <th>job_retired</th>\n",
              "      <th>job_self-employed</th>\n",
              "      <th>job_services</th>\n",
              "      <th>job_student</th>\n",
              "      <th>job_technician</th>\n",
              "      <th>job_unemployed</th>\n",
              "      <th>job_unknown</th>\n",
              "    </tr>\n",
              "  </thead>\n",
              "  <tbody>\n",
              "    <tr>\n",
              "      <th>0</th>\n",
              "      <td>0</td>\n",
              "      <td>0</td>\n",
              "      <td>0</td>\n",
              "      <td>0</td>\n",
              "      <td>1</td>\n",
              "      <td>0</td>\n",
              "      <td>0</td>\n",
              "      <td>0</td>\n",
              "      <td>0</td>\n",
              "      <td>0</td>\n",
              "      <td>0</td>\n",
              "      <td>0</td>\n",
              "    </tr>\n",
              "    <tr>\n",
              "      <th>1</th>\n",
              "      <td>0</td>\n",
              "      <td>0</td>\n",
              "      <td>0</td>\n",
              "      <td>0</td>\n",
              "      <td>0</td>\n",
              "      <td>0</td>\n",
              "      <td>0</td>\n",
              "      <td>0</td>\n",
              "      <td>0</td>\n",
              "      <td>1</td>\n",
              "      <td>0</td>\n",
              "      <td>0</td>\n",
              "    </tr>\n",
              "    <tr>\n",
              "      <th>2</th>\n",
              "      <td>0</td>\n",
              "      <td>0</td>\n",
              "      <td>1</td>\n",
              "      <td>0</td>\n",
              "      <td>0</td>\n",
              "      <td>0</td>\n",
              "      <td>0</td>\n",
              "      <td>0</td>\n",
              "      <td>0</td>\n",
              "      <td>0</td>\n",
              "      <td>0</td>\n",
              "      <td>0</td>\n",
              "    </tr>\n",
              "    <tr>\n",
              "      <th>3</th>\n",
              "      <td>0</td>\n",
              "      <td>1</td>\n",
              "      <td>0</td>\n",
              "      <td>0</td>\n",
              "      <td>0</td>\n",
              "      <td>0</td>\n",
              "      <td>0</td>\n",
              "      <td>0</td>\n",
              "      <td>0</td>\n",
              "      <td>0</td>\n",
              "      <td>0</td>\n",
              "      <td>0</td>\n",
              "    </tr>\n",
              "    <tr>\n",
              "      <th>4</th>\n",
              "      <td>0</td>\n",
              "      <td>0</td>\n",
              "      <td>0</td>\n",
              "      <td>0</td>\n",
              "      <td>0</td>\n",
              "      <td>0</td>\n",
              "      <td>0</td>\n",
              "      <td>0</td>\n",
              "      <td>0</td>\n",
              "      <td>0</td>\n",
              "      <td>0</td>\n",
              "      <td>1</td>\n",
              "    </tr>\n",
              "  </tbody>\n",
              "</table>\n",
              "</div>\n",
              "      <button class=\"colab-df-convert\" onclick=\"convertToInteractive('df-880dd33b-cbf8-4041-8e31-9815b8976ab4')\"\n",
              "              title=\"Convert this dataframe to an interactive table.\"\n",
              "              style=\"display:none;\">\n",
              "\n",
              "  <svg xmlns=\"http://www.w3.org/2000/svg\" height=\"24px\"viewBox=\"0 0 24 24\"\n",
              "       width=\"24px\">\n",
              "    <path d=\"M0 0h24v24H0V0z\" fill=\"none\"/>\n",
              "    <path d=\"M18.56 5.44l.94 2.06.94-2.06 2.06-.94-2.06-.94-.94-2.06-.94 2.06-2.06.94zm-11 1L8.5 8.5l.94-2.06 2.06-.94-2.06-.94L8.5 2.5l-.94 2.06-2.06.94zm10 10l.94 2.06.94-2.06 2.06-.94-2.06-.94-.94-2.06-.94 2.06-2.06.94z\"/><path d=\"M17.41 7.96l-1.37-1.37c-.4-.4-.92-.59-1.43-.59-.52 0-1.04.2-1.43.59L10.3 9.45l-7.72 7.72c-.78.78-.78 2.05 0 2.83L4 21.41c.39.39.9.59 1.41.59.51 0 1.02-.2 1.41-.59l7.78-7.78 2.81-2.81c.8-.78.8-2.07 0-2.86zM5.41 20L4 18.59l7.72-7.72 1.47 1.35L5.41 20z\"/>\n",
              "  </svg>\n",
              "      </button>\n",
              "\n",
              "\n",
              "\n",
              "    <div id=\"df-81ad8071-6c54-4423-93b1-f1886648efd8\">\n",
              "      <button class=\"colab-df-quickchart\" onclick=\"quickchart('df-81ad8071-6c54-4423-93b1-f1886648efd8')\"\n",
              "              title=\"Suggest charts.\"\n",
              "              style=\"display:none;\">\n",
              "\n",
              "<svg xmlns=\"http://www.w3.org/2000/svg\" height=\"24px\"viewBox=\"0 0 24 24\"\n",
              "     width=\"24px\">\n",
              "    <g>\n",
              "        <path d=\"M19 3H5c-1.1 0-2 .9-2 2v14c0 1.1.9 2 2 2h14c1.1 0 2-.9 2-2V5c0-1.1-.9-2-2-2zM9 17H7v-7h2v7zm4 0h-2V7h2v10zm4 0h-2v-4h2v4z\"/>\n",
              "    </g>\n",
              "</svg>\n",
              "      </button>\n",
              "    </div>\n",
              "\n",
              "<style>\n",
              "  .colab-df-quickchart {\n",
              "    background-color: #E8F0FE;\n",
              "    border: none;\n",
              "    border-radius: 50%;\n",
              "    cursor: pointer;\n",
              "    display: none;\n",
              "    fill: #1967D2;\n",
              "    height: 32px;\n",
              "    padding: 0 0 0 0;\n",
              "    width: 32px;\n",
              "  }\n",
              "\n",
              "  .colab-df-quickchart:hover {\n",
              "    background-color: #E2EBFA;\n",
              "    box-shadow: 0px 1px 2px rgba(60, 64, 67, 0.3), 0px 1px 3px 1px rgba(60, 64, 67, 0.15);\n",
              "    fill: #174EA6;\n",
              "  }\n",
              "\n",
              "  [theme=dark] .colab-df-quickchart {\n",
              "    background-color: #3B4455;\n",
              "    fill: #D2E3FC;\n",
              "  }\n",
              "\n",
              "  [theme=dark] .colab-df-quickchart:hover {\n",
              "    background-color: #434B5C;\n",
              "    box-shadow: 0px 1px 3px 1px rgba(0, 0, 0, 0.15);\n",
              "    filter: drop-shadow(0px 1px 2px rgba(0, 0, 0, 0.3));\n",
              "    fill: #FFFFFF;\n",
              "  }\n",
              "</style>\n",
              "\n",
              "    <script>\n",
              "      async function quickchart(key) {\n",
              "        const containerElement = document.querySelector('#' + key);\n",
              "        const charts = await google.colab.kernel.invokeFunction(\n",
              "            'suggestCharts', [key], {});\n",
              "      }\n",
              "    </script>\n",
              "\n",
              "      <script>\n",
              "\n",
              "function displayQuickchartButton(domScope) {\n",
              "  let quickchartButtonEl =\n",
              "    domScope.querySelector('#df-81ad8071-6c54-4423-93b1-f1886648efd8 button.colab-df-quickchart');\n",
              "  quickchartButtonEl.style.display =\n",
              "    google.colab.kernel.accessAllowed ? 'block' : 'none';\n",
              "}\n",
              "\n",
              "        displayQuickchartButton(document);\n",
              "      </script>\n",
              "      <style>\n",
              "    .colab-df-container {\n",
              "      display:flex;\n",
              "      flex-wrap:wrap;\n",
              "      gap: 12px;\n",
              "    }\n",
              "\n",
              "    .colab-df-convert {\n",
              "      background-color: #E8F0FE;\n",
              "      border: none;\n",
              "      border-radius: 50%;\n",
              "      cursor: pointer;\n",
              "      display: none;\n",
              "      fill: #1967D2;\n",
              "      height: 32px;\n",
              "      padding: 0 0 0 0;\n",
              "      width: 32px;\n",
              "    }\n",
              "\n",
              "    .colab-df-convert:hover {\n",
              "      background-color: #E2EBFA;\n",
              "      box-shadow: 0px 1px 2px rgba(60, 64, 67, 0.3), 0px 1px 3px 1px rgba(60, 64, 67, 0.15);\n",
              "      fill: #174EA6;\n",
              "    }\n",
              "\n",
              "    [theme=dark] .colab-df-convert {\n",
              "      background-color: #3B4455;\n",
              "      fill: #D2E3FC;\n",
              "    }\n",
              "\n",
              "    [theme=dark] .colab-df-convert:hover {\n",
              "      background-color: #434B5C;\n",
              "      box-shadow: 0px 1px 3px 1px rgba(0, 0, 0, 0.15);\n",
              "      filter: drop-shadow(0px 1px 2px rgba(0, 0, 0, 0.3));\n",
              "      fill: #FFFFFF;\n",
              "    }\n",
              "  </style>\n",
              "\n",
              "      <script>\n",
              "        const buttonEl =\n",
              "          document.querySelector('#df-880dd33b-cbf8-4041-8e31-9815b8976ab4 button.colab-df-convert');\n",
              "        buttonEl.style.display =\n",
              "          google.colab.kernel.accessAllowed ? 'block' : 'none';\n",
              "\n",
              "        async function convertToInteractive(key) {\n",
              "          const element = document.querySelector('#df-880dd33b-cbf8-4041-8e31-9815b8976ab4');\n",
              "          const dataTable =\n",
              "            await google.colab.kernel.invokeFunction('convertToInteractive',\n",
              "                                                     [key], {});\n",
              "          if (!dataTable) return;\n",
              "\n",
              "          const docLinkHtml = 'Like what you see? Visit the ' +\n",
              "            '<a target=\"_blank\" href=https://colab.research.google.com/notebooks/data_table.ipynb>data table notebook</a>'\n",
              "            + ' to learn more about interactive tables.';\n",
              "          element.innerHTML = '';\n",
              "          dataTable['output_type'] = 'display_data';\n",
              "          await google.colab.output.renderOutput(dataTable, element);\n",
              "          const docLink = document.createElement('div');\n",
              "          docLink.innerHTML = docLinkHtml;\n",
              "          element.appendChild(docLink);\n",
              "        }\n",
              "      </script>\n",
              "    </div>\n",
              "  </div>\n"
            ]
          },
          "metadata": {},
          "execution_count": 78
        }
      ],
      "source": [
        "df1 = pd.get_dummies(df['job'],prefix='job')\n",
        "df1.head()"
      ]
    },
    {
      "cell_type": "code",
      "execution_count": null,
      "metadata": {
        "colab": {
          "base_uri": "https://localhost:8080/"
        },
        "id": "cy-y2mP5sB_Q",
        "outputId": "214c2e11-d920-4d2c-c73a-6335049c8297"
      },
      "outputs": [
        {
          "output_type": "execute_result",
          "data": {
            "text/plain": [
              "dtype('uint8')"
            ]
          },
          "metadata": {},
          "execution_count": 79
        }
      ],
      "source": [
        "df1.job_admin.dtype"
      ]
    },
    {
      "cell_type": "code",
      "execution_count": null,
      "metadata": {
        "id": "4sXVPVmpnT4B"
      },
      "outputs": [],
      "source": [
        "df_final = pd.concat([df,df1],axis=1)"
      ]
    },
    {
      "cell_type": "code",
      "execution_count": null,
      "metadata": {
        "colab": {
          "base_uri": "https://localhost:8080/"
        },
        "id": "_YNupJuOp8mB",
        "outputId": "c9659cb3-9e2c-4171-ba7d-4da8818dd9cd"
      },
      "outputs": [
        {
          "output_type": "execute_result",
          "data": {
            "text/plain": [
              "   age           job  marital education_qual call_type  day  mon  dur  \\\n",
              "0   58    management  married       tertiary   unknown    5  may  261   \n",
              "1   44    technician   single      secondary   unknown    5  may  151   \n",
              "2   33  entrepreneur  married      secondary   unknown    5  may   76   \n",
              "3   47   blue-collar  married        unknown   unknown    5  may   92   \n",
              "4   33       unknown   single        unknown   unknown    5  may  198   \n",
              "\n",
              "   num_calls prev_outcome  target  job_admin  job_blue-collar  \\\n",
              "0          1      unknown       0          0                0   \n",
              "1          1      unknown       0          0                0   \n",
              "2          1      unknown       0          0                0   \n",
              "3          1      unknown       0          0                1   \n",
              "4          1      unknown       0          0                0   \n",
              "\n",
              "   job_entrepreneur  job_housemaid  job_management  job_retired  \\\n",
              "0                 0              0               1            0   \n",
              "1                 0              0               0            0   \n",
              "2                 1              0               0            0   \n",
              "3                 0              0               0            0   \n",
              "4                 0              0               0            0   \n",
              "\n",
              "   job_self-employed  job_services  job_student  job_technician  \\\n",
              "0                  0             0            0               0   \n",
              "1                  0             0            0               1   \n",
              "2                  0             0            0               0   \n",
              "3                  0             0            0               0   \n",
              "4                  0             0            0               0   \n",
              "\n",
              "   job_unemployed  job_unknown  \n",
              "0               0            0  \n",
              "1               0            0  \n",
              "2               0            0  \n",
              "3               0            0  \n",
              "4               0            1  "
            ],
            "text/html": [
              "\n",
              "\n",
              "  <div id=\"df-d5b9352d-5894-4a0d-9fe6-7783afb207de\">\n",
              "    <div class=\"colab-df-container\">\n",
              "      <div>\n",
              "<style scoped>\n",
              "    .dataframe tbody tr th:only-of-type {\n",
              "        vertical-align: middle;\n",
              "    }\n",
              "\n",
              "    .dataframe tbody tr th {\n",
              "        vertical-align: top;\n",
              "    }\n",
              "\n",
              "    .dataframe thead th {\n",
              "        text-align: right;\n",
              "    }\n",
              "</style>\n",
              "<table border=\"1\" class=\"dataframe\">\n",
              "  <thead>\n",
              "    <tr style=\"text-align: right;\">\n",
              "      <th></th>\n",
              "      <th>age</th>\n",
              "      <th>job</th>\n",
              "      <th>marital</th>\n",
              "      <th>education_qual</th>\n",
              "      <th>call_type</th>\n",
              "      <th>day</th>\n",
              "      <th>mon</th>\n",
              "      <th>dur</th>\n",
              "      <th>num_calls</th>\n",
              "      <th>prev_outcome</th>\n",
              "      <th>target</th>\n",
              "      <th>job_admin</th>\n",
              "      <th>job_blue-collar</th>\n",
              "      <th>job_entrepreneur</th>\n",
              "      <th>job_housemaid</th>\n",
              "      <th>job_management</th>\n",
              "      <th>job_retired</th>\n",
              "      <th>job_self-employed</th>\n",
              "      <th>job_services</th>\n",
              "      <th>job_student</th>\n",
              "      <th>job_technician</th>\n",
              "      <th>job_unemployed</th>\n",
              "      <th>job_unknown</th>\n",
              "    </tr>\n",
              "  </thead>\n",
              "  <tbody>\n",
              "    <tr>\n",
              "      <th>0</th>\n",
              "      <td>58</td>\n",
              "      <td>management</td>\n",
              "      <td>married</td>\n",
              "      <td>tertiary</td>\n",
              "      <td>unknown</td>\n",
              "      <td>5</td>\n",
              "      <td>may</td>\n",
              "      <td>261</td>\n",
              "      <td>1</td>\n",
              "      <td>unknown</td>\n",
              "      <td>0</td>\n",
              "      <td>0</td>\n",
              "      <td>0</td>\n",
              "      <td>0</td>\n",
              "      <td>0</td>\n",
              "      <td>1</td>\n",
              "      <td>0</td>\n",
              "      <td>0</td>\n",
              "      <td>0</td>\n",
              "      <td>0</td>\n",
              "      <td>0</td>\n",
              "      <td>0</td>\n",
              "      <td>0</td>\n",
              "    </tr>\n",
              "    <tr>\n",
              "      <th>1</th>\n",
              "      <td>44</td>\n",
              "      <td>technician</td>\n",
              "      <td>single</td>\n",
              "      <td>secondary</td>\n",
              "      <td>unknown</td>\n",
              "      <td>5</td>\n",
              "      <td>may</td>\n",
              "      <td>151</td>\n",
              "      <td>1</td>\n",
              "      <td>unknown</td>\n",
              "      <td>0</td>\n",
              "      <td>0</td>\n",
              "      <td>0</td>\n",
              "      <td>0</td>\n",
              "      <td>0</td>\n",
              "      <td>0</td>\n",
              "      <td>0</td>\n",
              "      <td>0</td>\n",
              "      <td>0</td>\n",
              "      <td>0</td>\n",
              "      <td>1</td>\n",
              "      <td>0</td>\n",
              "      <td>0</td>\n",
              "    </tr>\n",
              "    <tr>\n",
              "      <th>2</th>\n",
              "      <td>33</td>\n",
              "      <td>entrepreneur</td>\n",
              "      <td>married</td>\n",
              "      <td>secondary</td>\n",
              "      <td>unknown</td>\n",
              "      <td>5</td>\n",
              "      <td>may</td>\n",
              "      <td>76</td>\n",
              "      <td>1</td>\n",
              "      <td>unknown</td>\n",
              "      <td>0</td>\n",
              "      <td>0</td>\n",
              "      <td>0</td>\n",
              "      <td>1</td>\n",
              "      <td>0</td>\n",
              "      <td>0</td>\n",
              "      <td>0</td>\n",
              "      <td>0</td>\n",
              "      <td>0</td>\n",
              "      <td>0</td>\n",
              "      <td>0</td>\n",
              "      <td>0</td>\n",
              "      <td>0</td>\n",
              "    </tr>\n",
              "    <tr>\n",
              "      <th>3</th>\n",
              "      <td>47</td>\n",
              "      <td>blue-collar</td>\n",
              "      <td>married</td>\n",
              "      <td>unknown</td>\n",
              "      <td>unknown</td>\n",
              "      <td>5</td>\n",
              "      <td>may</td>\n",
              "      <td>92</td>\n",
              "      <td>1</td>\n",
              "      <td>unknown</td>\n",
              "      <td>0</td>\n",
              "      <td>0</td>\n",
              "      <td>1</td>\n",
              "      <td>0</td>\n",
              "      <td>0</td>\n",
              "      <td>0</td>\n",
              "      <td>0</td>\n",
              "      <td>0</td>\n",
              "      <td>0</td>\n",
              "      <td>0</td>\n",
              "      <td>0</td>\n",
              "      <td>0</td>\n",
              "      <td>0</td>\n",
              "    </tr>\n",
              "    <tr>\n",
              "      <th>4</th>\n",
              "      <td>33</td>\n",
              "      <td>unknown</td>\n",
              "      <td>single</td>\n",
              "      <td>unknown</td>\n",
              "      <td>unknown</td>\n",
              "      <td>5</td>\n",
              "      <td>may</td>\n",
              "      <td>198</td>\n",
              "      <td>1</td>\n",
              "      <td>unknown</td>\n",
              "      <td>0</td>\n",
              "      <td>0</td>\n",
              "      <td>0</td>\n",
              "      <td>0</td>\n",
              "      <td>0</td>\n",
              "      <td>0</td>\n",
              "      <td>0</td>\n",
              "      <td>0</td>\n",
              "      <td>0</td>\n",
              "      <td>0</td>\n",
              "      <td>0</td>\n",
              "      <td>0</td>\n",
              "      <td>1</td>\n",
              "    </tr>\n",
              "  </tbody>\n",
              "</table>\n",
              "</div>\n",
              "      <button class=\"colab-df-convert\" onclick=\"convertToInteractive('df-d5b9352d-5894-4a0d-9fe6-7783afb207de')\"\n",
              "              title=\"Convert this dataframe to an interactive table.\"\n",
              "              style=\"display:none;\">\n",
              "\n",
              "  <svg xmlns=\"http://www.w3.org/2000/svg\" height=\"24px\"viewBox=\"0 0 24 24\"\n",
              "       width=\"24px\">\n",
              "    <path d=\"M0 0h24v24H0V0z\" fill=\"none\"/>\n",
              "    <path d=\"M18.56 5.44l.94 2.06.94-2.06 2.06-.94-2.06-.94-.94-2.06-.94 2.06-2.06.94zm-11 1L8.5 8.5l.94-2.06 2.06-.94-2.06-.94L8.5 2.5l-.94 2.06-2.06.94zm10 10l.94 2.06.94-2.06 2.06-.94-2.06-.94-.94-2.06-.94 2.06-2.06.94z\"/><path d=\"M17.41 7.96l-1.37-1.37c-.4-.4-.92-.59-1.43-.59-.52 0-1.04.2-1.43.59L10.3 9.45l-7.72 7.72c-.78.78-.78 2.05 0 2.83L4 21.41c.39.39.9.59 1.41.59.51 0 1.02-.2 1.41-.59l7.78-7.78 2.81-2.81c.8-.78.8-2.07 0-2.86zM5.41 20L4 18.59l7.72-7.72 1.47 1.35L5.41 20z\"/>\n",
              "  </svg>\n",
              "      </button>\n",
              "\n",
              "\n",
              "\n",
              "    <div id=\"df-7d7db4b6-d095-4947-a8c8-044cef0b0e2c\">\n",
              "      <button class=\"colab-df-quickchart\" onclick=\"quickchart('df-7d7db4b6-d095-4947-a8c8-044cef0b0e2c')\"\n",
              "              title=\"Suggest charts.\"\n",
              "              style=\"display:none;\">\n",
              "\n",
              "<svg xmlns=\"http://www.w3.org/2000/svg\" height=\"24px\"viewBox=\"0 0 24 24\"\n",
              "     width=\"24px\">\n",
              "    <g>\n",
              "        <path d=\"M19 3H5c-1.1 0-2 .9-2 2v14c0 1.1.9 2 2 2h14c1.1 0 2-.9 2-2V5c0-1.1-.9-2-2-2zM9 17H7v-7h2v7zm4 0h-2V7h2v10zm4 0h-2v-4h2v4z\"/>\n",
              "    </g>\n",
              "</svg>\n",
              "      </button>\n",
              "    </div>\n",
              "\n",
              "<style>\n",
              "  .colab-df-quickchart {\n",
              "    background-color: #E8F0FE;\n",
              "    border: none;\n",
              "    border-radius: 50%;\n",
              "    cursor: pointer;\n",
              "    display: none;\n",
              "    fill: #1967D2;\n",
              "    height: 32px;\n",
              "    padding: 0 0 0 0;\n",
              "    width: 32px;\n",
              "  }\n",
              "\n",
              "  .colab-df-quickchart:hover {\n",
              "    background-color: #E2EBFA;\n",
              "    box-shadow: 0px 1px 2px rgba(60, 64, 67, 0.3), 0px 1px 3px 1px rgba(60, 64, 67, 0.15);\n",
              "    fill: #174EA6;\n",
              "  }\n",
              "\n",
              "  [theme=dark] .colab-df-quickchart {\n",
              "    background-color: #3B4455;\n",
              "    fill: #D2E3FC;\n",
              "  }\n",
              "\n",
              "  [theme=dark] .colab-df-quickchart:hover {\n",
              "    background-color: #434B5C;\n",
              "    box-shadow: 0px 1px 3px 1px rgba(0, 0, 0, 0.15);\n",
              "    filter: drop-shadow(0px 1px 2px rgba(0, 0, 0, 0.3));\n",
              "    fill: #FFFFFF;\n",
              "  }\n",
              "</style>\n",
              "\n",
              "    <script>\n",
              "      async function quickchart(key) {\n",
              "        const containerElement = document.querySelector('#' + key);\n",
              "        const charts = await google.colab.kernel.invokeFunction(\n",
              "            'suggestCharts', [key], {});\n",
              "      }\n",
              "    </script>\n",
              "\n",
              "      <script>\n",
              "\n",
              "function displayQuickchartButton(domScope) {\n",
              "  let quickchartButtonEl =\n",
              "    domScope.querySelector('#df-7d7db4b6-d095-4947-a8c8-044cef0b0e2c button.colab-df-quickchart');\n",
              "  quickchartButtonEl.style.display =\n",
              "    google.colab.kernel.accessAllowed ? 'block' : 'none';\n",
              "}\n",
              "\n",
              "        displayQuickchartButton(document);\n",
              "      </script>\n",
              "      <style>\n",
              "    .colab-df-container {\n",
              "      display:flex;\n",
              "      flex-wrap:wrap;\n",
              "      gap: 12px;\n",
              "    }\n",
              "\n",
              "    .colab-df-convert {\n",
              "      background-color: #E8F0FE;\n",
              "      border: none;\n",
              "      border-radius: 50%;\n",
              "      cursor: pointer;\n",
              "      display: none;\n",
              "      fill: #1967D2;\n",
              "      height: 32px;\n",
              "      padding: 0 0 0 0;\n",
              "      width: 32px;\n",
              "    }\n",
              "\n",
              "    .colab-df-convert:hover {\n",
              "      background-color: #E2EBFA;\n",
              "      box-shadow: 0px 1px 2px rgba(60, 64, 67, 0.3), 0px 1px 3px 1px rgba(60, 64, 67, 0.15);\n",
              "      fill: #174EA6;\n",
              "    }\n",
              "\n",
              "    [theme=dark] .colab-df-convert {\n",
              "      background-color: #3B4455;\n",
              "      fill: #D2E3FC;\n",
              "    }\n",
              "\n",
              "    [theme=dark] .colab-df-convert:hover {\n",
              "      background-color: #434B5C;\n",
              "      box-shadow: 0px 1px 3px 1px rgba(0, 0, 0, 0.15);\n",
              "      filter: drop-shadow(0px 1px 2px rgba(0, 0, 0, 0.3));\n",
              "      fill: #FFFFFF;\n",
              "    }\n",
              "  </style>\n",
              "\n",
              "      <script>\n",
              "        const buttonEl =\n",
              "          document.querySelector('#df-d5b9352d-5894-4a0d-9fe6-7783afb207de button.colab-df-convert');\n",
              "        buttonEl.style.display =\n",
              "          google.colab.kernel.accessAllowed ? 'block' : 'none';\n",
              "\n",
              "        async function convertToInteractive(key) {\n",
              "          const element = document.querySelector('#df-d5b9352d-5894-4a0d-9fe6-7783afb207de');\n",
              "          const dataTable =\n",
              "            await google.colab.kernel.invokeFunction('convertToInteractive',\n",
              "                                                     [key], {});\n",
              "          if (!dataTable) return;\n",
              "\n",
              "          const docLinkHtml = 'Like what you see? Visit the ' +\n",
              "            '<a target=\"_blank\" href=https://colab.research.google.com/notebooks/data_table.ipynb>data table notebook</a>'\n",
              "            + ' to learn more about interactive tables.';\n",
              "          element.innerHTML = '';\n",
              "          dataTable['output_type'] = 'display_data';\n",
              "          await google.colab.output.renderOutput(dataTable, element);\n",
              "          const docLink = document.createElement('div');\n",
              "          docLink.innerHTML = docLinkHtml;\n",
              "          element.appendChild(docLink);\n",
              "        }\n",
              "      </script>\n",
              "    </div>\n",
              "  </div>\n"
            ]
          },
          "metadata": {},
          "execution_count": 81
        }
      ],
      "source": [
        "df_final.head()"
      ]
    },
    {
      "cell_type": "code",
      "execution_count": null,
      "metadata": {
        "id": "cZnX-82owDEQ"
      },
      "outputs": [],
      "source": [
        "df_final['job_admin'] = df_final[\"job_admin\"].astype(int)"
      ]
    },
    {
      "cell_type": "code",
      "execution_count": null,
      "metadata": {
        "colab": {
          "base_uri": "https://localhost:8080/"
        },
        "id": "tvav5ieEwhF7",
        "outputId": "78b59c3e-640c-4a88-b340-45276478bcc9"
      },
      "outputs": [
        {
          "output_type": "execute_result",
          "data": {
            "text/plain": [
              "dtype('int64')"
            ]
          },
          "metadata": {},
          "execution_count": 83
        }
      ],
      "source": [
        "df_final['job_admin'].dtype"
      ]
    },
    {
      "cell_type": "code",
      "execution_count": null,
      "metadata": {
        "id": "M3HHeqSFwk_c"
      },
      "outputs": [],
      "source": [
        "df_final['job_blue-collar'] = df_final[\"job_blue-collar\"].astype(int)\n",
        "df_final['job_entrepreneur'] = df_final[\"job_entrepreneur\"].astype(int)\n",
        "df_final['job_housemaid'] = df_final[\"job_housemaid\"].astype(int)\n",
        "df_final['job_management'] = df_final[\"job_management\"].astype(int)\n",
        "df_final['job_retired'] = df_final[\"job_retired\"].astype(int)\n",
        "df_final['job_self-employed'] = df_final[\"job_self-employed\"].astype(int)\n",
        "df_final['job_services'] = df_final[\"job_services\"].astype(int)\n",
        "df_final['job_student'] = df_final[\"job_student\"].astype(int)\n",
        "df_final['job_technician'] = df_final[\"job_technician\"].astype(int)\n",
        "df_final['job_unemployed'] = df_final[\"job_unemployed\"].astype(int)\n",
        "df_final['job_unknown'] = df_final[\"job_unknown\"].astype(int)"
      ]
    },
    {
      "cell_type": "code",
      "execution_count": null,
      "metadata": {
        "id": "QDaVe5jFxRgl"
      },
      "outputs": [],
      "source": [
        "del df_final['job']"
      ]
    },
    {
      "cell_type": "code",
      "execution_count": null,
      "metadata": {
        "colab": {
          "base_uri": "https://localhost:8080/"
        },
        "id": "0tBRumRxxMJy",
        "outputId": "e6315e9d-dfbd-4afd-cf4e-fb39a03bbeee"
      },
      "outputs": [
        {
          "output_type": "execute_result",
          "data": {
            "text/plain": [
              "age                   int64\n",
              "marital              object\n",
              "education_qual       object\n",
              "call_type            object\n",
              "day                   int64\n",
              "mon                  object\n",
              "dur                   int64\n",
              "num_calls             int64\n",
              "prev_outcome         object\n",
              "target                int64\n",
              "job_admin             int64\n",
              "job_blue-collar       int64\n",
              "job_entrepreneur      int64\n",
              "job_housemaid         int64\n",
              "job_management        int64\n",
              "job_retired           int64\n",
              "job_self-employed     int64\n",
              "job_services          int64\n",
              "job_student           int64\n",
              "job_technician        int64\n",
              "job_unemployed        int64\n",
              "job_unknown           int64\n",
              "dtype: object"
            ]
          },
          "metadata": {},
          "execution_count": 86
        }
      ],
      "source": [
        "df_final.dtypes"
      ]
    },
    {
      "cell_type": "code",
      "execution_count": null,
      "metadata": {
        "colab": {
          "base_uri": "https://localhost:8080/"
        },
        "id": "-PSOh35Izq8n",
        "outputId": "a4c7940c-10c9-4904-8cda-bf786bd3334c"
      },
      "outputs": [
        {
          "output_type": "execute_result",
          "data": {
            "text/plain": [
              "array(['married', 'single', 'divorced'], dtype=object)"
            ]
          },
          "metadata": {},
          "execution_count": 87
        }
      ],
      "source": [
        "df_final.marital.unique()"
      ]
    },
    {
      "cell_type": "code",
      "execution_count": null,
      "metadata": {
        "id": "pnup3rhgzuit"
      },
      "outputs": [],
      "source": [
        "df_final.marital=df_final.marital.map({'single':0,'married':1,'divorced':2})"
      ]
    },
    {
      "cell_type": "code",
      "execution_count": null,
      "metadata": {
        "colab": {
          "base_uri": "https://localhost:8080/"
        },
        "id": "75mRwEs10Kr5",
        "outputId": "2cd51047-a822-4f11-fa42-b3deac65aade"
      },
      "outputs": [
        {
          "output_type": "execute_result",
          "data": {
            "text/plain": [
              "dtype('int64')"
            ]
          },
          "metadata": {},
          "execution_count": 89
        }
      ],
      "source": [
        "df_final.marital.dtype"
      ]
    },
    {
      "cell_type": "code",
      "execution_count": null,
      "metadata": {
        "colab": {
          "base_uri": "https://localhost:8080/"
        },
        "id": "mQYitjOj0Nfo",
        "outputId": "0cc81520-9782-405f-8dd4-9f0261d2684f"
      },
      "outputs": [
        {
          "output_type": "execute_result",
          "data": {
            "text/plain": [
              "   age  marital education_qual call_type  day  mon  dur  num_calls  \\\n",
              "0   58        1       tertiary   unknown    5  may  261          1   \n",
              "1   44        0      secondary   unknown    5  may  151          1   \n",
              "2   33        1      secondary   unknown    5  may   76          1   \n",
              "3   47        1        unknown   unknown    5  may   92          1   \n",
              "4   33        0        unknown   unknown    5  may  198          1   \n",
              "\n",
              "  prev_outcome  target  job_admin  job_blue-collar  job_entrepreneur  \\\n",
              "0      unknown       0          0                0                 0   \n",
              "1      unknown       0          0                0                 0   \n",
              "2      unknown       0          0                0                 1   \n",
              "3      unknown       0          0                1                 0   \n",
              "4      unknown       0          0                0                 0   \n",
              "\n",
              "   job_housemaid  job_management  job_retired  job_self-employed  \\\n",
              "0              0               1            0                  0   \n",
              "1              0               0            0                  0   \n",
              "2              0               0            0                  0   \n",
              "3              0               0            0                  0   \n",
              "4              0               0            0                  0   \n",
              "\n",
              "   job_services  job_student  job_technician  job_unemployed  job_unknown  \n",
              "0             0            0               0               0            0  \n",
              "1             0            0               1               0            0  \n",
              "2             0            0               0               0            0  \n",
              "3             0            0               0               0            0  \n",
              "4             0            0               0               0            1  "
            ],
            "text/html": [
              "\n",
              "\n",
              "  <div id=\"df-d76e2612-0d87-4a9e-bd04-a82b3f9e8bab\">\n",
              "    <div class=\"colab-df-container\">\n",
              "      <div>\n",
              "<style scoped>\n",
              "    .dataframe tbody tr th:only-of-type {\n",
              "        vertical-align: middle;\n",
              "    }\n",
              "\n",
              "    .dataframe tbody tr th {\n",
              "        vertical-align: top;\n",
              "    }\n",
              "\n",
              "    .dataframe thead th {\n",
              "        text-align: right;\n",
              "    }\n",
              "</style>\n",
              "<table border=\"1\" class=\"dataframe\">\n",
              "  <thead>\n",
              "    <tr style=\"text-align: right;\">\n",
              "      <th></th>\n",
              "      <th>age</th>\n",
              "      <th>marital</th>\n",
              "      <th>education_qual</th>\n",
              "      <th>call_type</th>\n",
              "      <th>day</th>\n",
              "      <th>mon</th>\n",
              "      <th>dur</th>\n",
              "      <th>num_calls</th>\n",
              "      <th>prev_outcome</th>\n",
              "      <th>target</th>\n",
              "      <th>job_admin</th>\n",
              "      <th>job_blue-collar</th>\n",
              "      <th>job_entrepreneur</th>\n",
              "      <th>job_housemaid</th>\n",
              "      <th>job_management</th>\n",
              "      <th>job_retired</th>\n",
              "      <th>job_self-employed</th>\n",
              "      <th>job_services</th>\n",
              "      <th>job_student</th>\n",
              "      <th>job_technician</th>\n",
              "      <th>job_unemployed</th>\n",
              "      <th>job_unknown</th>\n",
              "    </tr>\n",
              "  </thead>\n",
              "  <tbody>\n",
              "    <tr>\n",
              "      <th>0</th>\n",
              "      <td>58</td>\n",
              "      <td>1</td>\n",
              "      <td>tertiary</td>\n",
              "      <td>unknown</td>\n",
              "      <td>5</td>\n",
              "      <td>may</td>\n",
              "      <td>261</td>\n",
              "      <td>1</td>\n",
              "      <td>unknown</td>\n",
              "      <td>0</td>\n",
              "      <td>0</td>\n",
              "      <td>0</td>\n",
              "      <td>0</td>\n",
              "      <td>0</td>\n",
              "      <td>1</td>\n",
              "      <td>0</td>\n",
              "      <td>0</td>\n",
              "      <td>0</td>\n",
              "      <td>0</td>\n",
              "      <td>0</td>\n",
              "      <td>0</td>\n",
              "      <td>0</td>\n",
              "    </tr>\n",
              "    <tr>\n",
              "      <th>1</th>\n",
              "      <td>44</td>\n",
              "      <td>0</td>\n",
              "      <td>secondary</td>\n",
              "      <td>unknown</td>\n",
              "      <td>5</td>\n",
              "      <td>may</td>\n",
              "      <td>151</td>\n",
              "      <td>1</td>\n",
              "      <td>unknown</td>\n",
              "      <td>0</td>\n",
              "      <td>0</td>\n",
              "      <td>0</td>\n",
              "      <td>0</td>\n",
              "      <td>0</td>\n",
              "      <td>0</td>\n",
              "      <td>0</td>\n",
              "      <td>0</td>\n",
              "      <td>0</td>\n",
              "      <td>0</td>\n",
              "      <td>1</td>\n",
              "      <td>0</td>\n",
              "      <td>0</td>\n",
              "    </tr>\n",
              "    <tr>\n",
              "      <th>2</th>\n",
              "      <td>33</td>\n",
              "      <td>1</td>\n",
              "      <td>secondary</td>\n",
              "      <td>unknown</td>\n",
              "      <td>5</td>\n",
              "      <td>may</td>\n",
              "      <td>76</td>\n",
              "      <td>1</td>\n",
              "      <td>unknown</td>\n",
              "      <td>0</td>\n",
              "      <td>0</td>\n",
              "      <td>0</td>\n",
              "      <td>1</td>\n",
              "      <td>0</td>\n",
              "      <td>0</td>\n",
              "      <td>0</td>\n",
              "      <td>0</td>\n",
              "      <td>0</td>\n",
              "      <td>0</td>\n",
              "      <td>0</td>\n",
              "      <td>0</td>\n",
              "      <td>0</td>\n",
              "    </tr>\n",
              "    <tr>\n",
              "      <th>3</th>\n",
              "      <td>47</td>\n",
              "      <td>1</td>\n",
              "      <td>unknown</td>\n",
              "      <td>unknown</td>\n",
              "      <td>5</td>\n",
              "      <td>may</td>\n",
              "      <td>92</td>\n",
              "      <td>1</td>\n",
              "      <td>unknown</td>\n",
              "      <td>0</td>\n",
              "      <td>0</td>\n",
              "      <td>1</td>\n",
              "      <td>0</td>\n",
              "      <td>0</td>\n",
              "      <td>0</td>\n",
              "      <td>0</td>\n",
              "      <td>0</td>\n",
              "      <td>0</td>\n",
              "      <td>0</td>\n",
              "      <td>0</td>\n",
              "      <td>0</td>\n",
              "      <td>0</td>\n",
              "    </tr>\n",
              "    <tr>\n",
              "      <th>4</th>\n",
              "      <td>33</td>\n",
              "      <td>0</td>\n",
              "      <td>unknown</td>\n",
              "      <td>unknown</td>\n",
              "      <td>5</td>\n",
              "      <td>may</td>\n",
              "      <td>198</td>\n",
              "      <td>1</td>\n",
              "      <td>unknown</td>\n",
              "      <td>0</td>\n",
              "      <td>0</td>\n",
              "      <td>0</td>\n",
              "      <td>0</td>\n",
              "      <td>0</td>\n",
              "      <td>0</td>\n",
              "      <td>0</td>\n",
              "      <td>0</td>\n",
              "      <td>0</td>\n",
              "      <td>0</td>\n",
              "      <td>0</td>\n",
              "      <td>0</td>\n",
              "      <td>1</td>\n",
              "    </tr>\n",
              "  </tbody>\n",
              "</table>\n",
              "</div>\n",
              "      <button class=\"colab-df-convert\" onclick=\"convertToInteractive('df-d76e2612-0d87-4a9e-bd04-a82b3f9e8bab')\"\n",
              "              title=\"Convert this dataframe to an interactive table.\"\n",
              "              style=\"display:none;\">\n",
              "\n",
              "  <svg xmlns=\"http://www.w3.org/2000/svg\" height=\"24px\"viewBox=\"0 0 24 24\"\n",
              "       width=\"24px\">\n",
              "    <path d=\"M0 0h24v24H0V0z\" fill=\"none\"/>\n",
              "    <path d=\"M18.56 5.44l.94 2.06.94-2.06 2.06-.94-2.06-.94-.94-2.06-.94 2.06-2.06.94zm-11 1L8.5 8.5l.94-2.06 2.06-.94-2.06-.94L8.5 2.5l-.94 2.06-2.06.94zm10 10l.94 2.06.94-2.06 2.06-.94-2.06-.94-.94-2.06-.94 2.06-2.06.94z\"/><path d=\"M17.41 7.96l-1.37-1.37c-.4-.4-.92-.59-1.43-.59-.52 0-1.04.2-1.43.59L10.3 9.45l-7.72 7.72c-.78.78-.78 2.05 0 2.83L4 21.41c.39.39.9.59 1.41.59.51 0 1.02-.2 1.41-.59l7.78-7.78 2.81-2.81c.8-.78.8-2.07 0-2.86zM5.41 20L4 18.59l7.72-7.72 1.47 1.35L5.41 20z\"/>\n",
              "  </svg>\n",
              "      </button>\n",
              "\n",
              "\n",
              "\n",
              "    <div id=\"df-510a229e-590f-404f-b7a6-632fb5cac49c\">\n",
              "      <button class=\"colab-df-quickchart\" onclick=\"quickchart('df-510a229e-590f-404f-b7a6-632fb5cac49c')\"\n",
              "              title=\"Suggest charts.\"\n",
              "              style=\"display:none;\">\n",
              "\n",
              "<svg xmlns=\"http://www.w3.org/2000/svg\" height=\"24px\"viewBox=\"0 0 24 24\"\n",
              "     width=\"24px\">\n",
              "    <g>\n",
              "        <path d=\"M19 3H5c-1.1 0-2 .9-2 2v14c0 1.1.9 2 2 2h14c1.1 0 2-.9 2-2V5c0-1.1-.9-2-2-2zM9 17H7v-7h2v7zm4 0h-2V7h2v10zm4 0h-2v-4h2v4z\"/>\n",
              "    </g>\n",
              "</svg>\n",
              "      </button>\n",
              "    </div>\n",
              "\n",
              "<style>\n",
              "  .colab-df-quickchart {\n",
              "    background-color: #E8F0FE;\n",
              "    border: none;\n",
              "    border-radius: 50%;\n",
              "    cursor: pointer;\n",
              "    display: none;\n",
              "    fill: #1967D2;\n",
              "    height: 32px;\n",
              "    padding: 0 0 0 0;\n",
              "    width: 32px;\n",
              "  }\n",
              "\n",
              "  .colab-df-quickchart:hover {\n",
              "    background-color: #E2EBFA;\n",
              "    box-shadow: 0px 1px 2px rgba(60, 64, 67, 0.3), 0px 1px 3px 1px rgba(60, 64, 67, 0.15);\n",
              "    fill: #174EA6;\n",
              "  }\n",
              "\n",
              "  [theme=dark] .colab-df-quickchart {\n",
              "    background-color: #3B4455;\n",
              "    fill: #D2E3FC;\n",
              "  }\n",
              "\n",
              "  [theme=dark] .colab-df-quickchart:hover {\n",
              "    background-color: #434B5C;\n",
              "    box-shadow: 0px 1px 3px 1px rgba(0, 0, 0, 0.15);\n",
              "    filter: drop-shadow(0px 1px 2px rgba(0, 0, 0, 0.3));\n",
              "    fill: #FFFFFF;\n",
              "  }\n",
              "</style>\n",
              "\n",
              "    <script>\n",
              "      async function quickchart(key) {\n",
              "        const containerElement = document.querySelector('#' + key);\n",
              "        const charts = await google.colab.kernel.invokeFunction(\n",
              "            'suggestCharts', [key], {});\n",
              "      }\n",
              "    </script>\n",
              "\n",
              "      <script>\n",
              "\n",
              "function displayQuickchartButton(domScope) {\n",
              "  let quickchartButtonEl =\n",
              "    domScope.querySelector('#df-510a229e-590f-404f-b7a6-632fb5cac49c button.colab-df-quickchart');\n",
              "  quickchartButtonEl.style.display =\n",
              "    google.colab.kernel.accessAllowed ? 'block' : 'none';\n",
              "}\n",
              "\n",
              "        displayQuickchartButton(document);\n",
              "      </script>\n",
              "      <style>\n",
              "    .colab-df-container {\n",
              "      display:flex;\n",
              "      flex-wrap:wrap;\n",
              "      gap: 12px;\n",
              "    }\n",
              "\n",
              "    .colab-df-convert {\n",
              "      background-color: #E8F0FE;\n",
              "      border: none;\n",
              "      border-radius: 50%;\n",
              "      cursor: pointer;\n",
              "      display: none;\n",
              "      fill: #1967D2;\n",
              "      height: 32px;\n",
              "      padding: 0 0 0 0;\n",
              "      width: 32px;\n",
              "    }\n",
              "\n",
              "    .colab-df-convert:hover {\n",
              "      background-color: #E2EBFA;\n",
              "      box-shadow: 0px 1px 2px rgba(60, 64, 67, 0.3), 0px 1px 3px 1px rgba(60, 64, 67, 0.15);\n",
              "      fill: #174EA6;\n",
              "    }\n",
              "\n",
              "    [theme=dark] .colab-df-convert {\n",
              "      background-color: #3B4455;\n",
              "      fill: #D2E3FC;\n",
              "    }\n",
              "\n",
              "    [theme=dark] .colab-df-convert:hover {\n",
              "      background-color: #434B5C;\n",
              "      box-shadow: 0px 1px 3px 1px rgba(0, 0, 0, 0.15);\n",
              "      filter: drop-shadow(0px 1px 2px rgba(0, 0, 0, 0.3));\n",
              "      fill: #FFFFFF;\n",
              "    }\n",
              "  </style>\n",
              "\n",
              "      <script>\n",
              "        const buttonEl =\n",
              "          document.querySelector('#df-d76e2612-0d87-4a9e-bd04-a82b3f9e8bab button.colab-df-convert');\n",
              "        buttonEl.style.display =\n",
              "          google.colab.kernel.accessAllowed ? 'block' : 'none';\n",
              "\n",
              "        async function convertToInteractive(key) {\n",
              "          const element = document.querySelector('#df-d76e2612-0d87-4a9e-bd04-a82b3f9e8bab');\n",
              "          const dataTable =\n",
              "            await google.colab.kernel.invokeFunction('convertToInteractive',\n",
              "                                                     [key], {});\n",
              "          if (!dataTable) return;\n",
              "\n",
              "          const docLinkHtml = 'Like what you see? Visit the ' +\n",
              "            '<a target=\"_blank\" href=https://colab.research.google.com/notebooks/data_table.ipynb>data table notebook</a>'\n",
              "            + ' to learn more about interactive tables.';\n",
              "          element.innerHTML = '';\n",
              "          dataTable['output_type'] = 'display_data';\n",
              "          await google.colab.output.renderOutput(dataTable, element);\n",
              "          const docLink = document.createElement('div');\n",
              "          docLink.innerHTML = docLinkHtml;\n",
              "          element.appendChild(docLink);\n",
              "        }\n",
              "      </script>\n",
              "    </div>\n",
              "  </div>\n"
            ]
          },
          "metadata": {},
          "execution_count": 90
        }
      ],
      "source": [
        "df_final.head()"
      ]
    },
    {
      "cell_type": "code",
      "execution_count": null,
      "metadata": {
        "colab": {
          "base_uri": "https://localhost:8080/"
        },
        "id": "OGZQBdbmxQo3",
        "outputId": "e7bbbd57-12c7-4cb6-9adc-ff1323361c6a"
      },
      "outputs": [
        {
          "output_type": "execute_result",
          "data": {
            "text/plain": [
              "array(['tertiary', 'secondary', 'unknown', 'primary'], dtype=object)"
            ]
          },
          "metadata": {},
          "execution_count": 91
        }
      ],
      "source": [
        "df_final.education_qual.unique()"
      ]
    },
    {
      "cell_type": "code",
      "execution_count": null,
      "metadata": {
        "id": "1DxA_IxBzHL-"
      },
      "outputs": [],
      "source": [
        "df_final.education_qual = df_final.education_qual.map({'unknown':0,'primary':1,'secondary':2,'tertiary':3})"
      ]
    },
    {
      "cell_type": "code",
      "execution_count": null,
      "metadata": {
        "colab": {
          "base_uri": "https://localhost:8080/"
        },
        "id": "U-tJkKjOzmtK",
        "outputId": "5d30c9b8-62ed-4f01-a93b-dcaef4ee13c6"
      },
      "outputs": [
        {
          "output_type": "execute_result",
          "data": {
            "text/plain": [
              "dtype('int64')"
            ]
          },
          "metadata": {},
          "execution_count": 93
        }
      ],
      "source": [
        "df_final.education_qual.dtype"
      ]
    },
    {
      "cell_type": "code",
      "execution_count": null,
      "metadata": {
        "colab": {
          "base_uri": "https://localhost:8080/"
        },
        "id": "TVNT5-DDzZpy",
        "outputId": "dc41894a-77be-4b9d-c22a-6ec7209ef4e8"
      },
      "outputs": [
        {
          "output_type": "execute_result",
          "data": {
            "text/plain": [
              "   age  marital  education_qual call_type  day  mon  dur  num_calls  \\\n",
              "0   58        1               3   unknown    5  may  261          1   \n",
              "1   44        0               2   unknown    5  may  151          1   \n",
              "2   33        1               2   unknown    5  may   76          1   \n",
              "3   47        1               0   unknown    5  may   92          1   \n",
              "4   33        0               0   unknown    5  may  198          1   \n",
              "\n",
              "  prev_outcome  target  job_admin  job_blue-collar  job_entrepreneur  \\\n",
              "0      unknown       0          0                0                 0   \n",
              "1      unknown       0          0                0                 0   \n",
              "2      unknown       0          0                0                 1   \n",
              "3      unknown       0          0                1                 0   \n",
              "4      unknown       0          0                0                 0   \n",
              "\n",
              "   job_housemaid  job_management  job_retired  job_self-employed  \\\n",
              "0              0               1            0                  0   \n",
              "1              0               0            0                  0   \n",
              "2              0               0            0                  0   \n",
              "3              0               0            0                  0   \n",
              "4              0               0            0                  0   \n",
              "\n",
              "   job_services  job_student  job_technician  job_unemployed  job_unknown  \n",
              "0             0            0               0               0            0  \n",
              "1             0            0               1               0            0  \n",
              "2             0            0               0               0            0  \n",
              "3             0            0               0               0            0  \n",
              "4             0            0               0               0            1  "
            ],
            "text/html": [
              "\n",
              "\n",
              "  <div id=\"df-a6a0a8eb-5d59-427e-b93f-d9b2d34b1dc8\">\n",
              "    <div class=\"colab-df-container\">\n",
              "      <div>\n",
              "<style scoped>\n",
              "    .dataframe tbody tr th:only-of-type {\n",
              "        vertical-align: middle;\n",
              "    }\n",
              "\n",
              "    .dataframe tbody tr th {\n",
              "        vertical-align: top;\n",
              "    }\n",
              "\n",
              "    .dataframe thead th {\n",
              "        text-align: right;\n",
              "    }\n",
              "</style>\n",
              "<table border=\"1\" class=\"dataframe\">\n",
              "  <thead>\n",
              "    <tr style=\"text-align: right;\">\n",
              "      <th></th>\n",
              "      <th>age</th>\n",
              "      <th>marital</th>\n",
              "      <th>education_qual</th>\n",
              "      <th>call_type</th>\n",
              "      <th>day</th>\n",
              "      <th>mon</th>\n",
              "      <th>dur</th>\n",
              "      <th>num_calls</th>\n",
              "      <th>prev_outcome</th>\n",
              "      <th>target</th>\n",
              "      <th>job_admin</th>\n",
              "      <th>job_blue-collar</th>\n",
              "      <th>job_entrepreneur</th>\n",
              "      <th>job_housemaid</th>\n",
              "      <th>job_management</th>\n",
              "      <th>job_retired</th>\n",
              "      <th>job_self-employed</th>\n",
              "      <th>job_services</th>\n",
              "      <th>job_student</th>\n",
              "      <th>job_technician</th>\n",
              "      <th>job_unemployed</th>\n",
              "      <th>job_unknown</th>\n",
              "    </tr>\n",
              "  </thead>\n",
              "  <tbody>\n",
              "    <tr>\n",
              "      <th>0</th>\n",
              "      <td>58</td>\n",
              "      <td>1</td>\n",
              "      <td>3</td>\n",
              "      <td>unknown</td>\n",
              "      <td>5</td>\n",
              "      <td>may</td>\n",
              "      <td>261</td>\n",
              "      <td>1</td>\n",
              "      <td>unknown</td>\n",
              "      <td>0</td>\n",
              "      <td>0</td>\n",
              "      <td>0</td>\n",
              "      <td>0</td>\n",
              "      <td>0</td>\n",
              "      <td>1</td>\n",
              "      <td>0</td>\n",
              "      <td>0</td>\n",
              "      <td>0</td>\n",
              "      <td>0</td>\n",
              "      <td>0</td>\n",
              "      <td>0</td>\n",
              "      <td>0</td>\n",
              "    </tr>\n",
              "    <tr>\n",
              "      <th>1</th>\n",
              "      <td>44</td>\n",
              "      <td>0</td>\n",
              "      <td>2</td>\n",
              "      <td>unknown</td>\n",
              "      <td>5</td>\n",
              "      <td>may</td>\n",
              "      <td>151</td>\n",
              "      <td>1</td>\n",
              "      <td>unknown</td>\n",
              "      <td>0</td>\n",
              "      <td>0</td>\n",
              "      <td>0</td>\n",
              "      <td>0</td>\n",
              "      <td>0</td>\n",
              "      <td>0</td>\n",
              "      <td>0</td>\n",
              "      <td>0</td>\n",
              "      <td>0</td>\n",
              "      <td>0</td>\n",
              "      <td>1</td>\n",
              "      <td>0</td>\n",
              "      <td>0</td>\n",
              "    </tr>\n",
              "    <tr>\n",
              "      <th>2</th>\n",
              "      <td>33</td>\n",
              "      <td>1</td>\n",
              "      <td>2</td>\n",
              "      <td>unknown</td>\n",
              "      <td>5</td>\n",
              "      <td>may</td>\n",
              "      <td>76</td>\n",
              "      <td>1</td>\n",
              "      <td>unknown</td>\n",
              "      <td>0</td>\n",
              "      <td>0</td>\n",
              "      <td>0</td>\n",
              "      <td>1</td>\n",
              "      <td>0</td>\n",
              "      <td>0</td>\n",
              "      <td>0</td>\n",
              "      <td>0</td>\n",
              "      <td>0</td>\n",
              "      <td>0</td>\n",
              "      <td>0</td>\n",
              "      <td>0</td>\n",
              "      <td>0</td>\n",
              "    </tr>\n",
              "    <tr>\n",
              "      <th>3</th>\n",
              "      <td>47</td>\n",
              "      <td>1</td>\n",
              "      <td>0</td>\n",
              "      <td>unknown</td>\n",
              "      <td>5</td>\n",
              "      <td>may</td>\n",
              "      <td>92</td>\n",
              "      <td>1</td>\n",
              "      <td>unknown</td>\n",
              "      <td>0</td>\n",
              "      <td>0</td>\n",
              "      <td>1</td>\n",
              "      <td>0</td>\n",
              "      <td>0</td>\n",
              "      <td>0</td>\n",
              "      <td>0</td>\n",
              "      <td>0</td>\n",
              "      <td>0</td>\n",
              "      <td>0</td>\n",
              "      <td>0</td>\n",
              "      <td>0</td>\n",
              "      <td>0</td>\n",
              "    </tr>\n",
              "    <tr>\n",
              "      <th>4</th>\n",
              "      <td>33</td>\n",
              "      <td>0</td>\n",
              "      <td>0</td>\n",
              "      <td>unknown</td>\n",
              "      <td>5</td>\n",
              "      <td>may</td>\n",
              "      <td>198</td>\n",
              "      <td>1</td>\n",
              "      <td>unknown</td>\n",
              "      <td>0</td>\n",
              "      <td>0</td>\n",
              "      <td>0</td>\n",
              "      <td>0</td>\n",
              "      <td>0</td>\n",
              "      <td>0</td>\n",
              "      <td>0</td>\n",
              "      <td>0</td>\n",
              "      <td>0</td>\n",
              "      <td>0</td>\n",
              "      <td>0</td>\n",
              "      <td>0</td>\n",
              "      <td>1</td>\n",
              "    </tr>\n",
              "  </tbody>\n",
              "</table>\n",
              "</div>\n",
              "      <button class=\"colab-df-convert\" onclick=\"convertToInteractive('df-a6a0a8eb-5d59-427e-b93f-d9b2d34b1dc8')\"\n",
              "              title=\"Convert this dataframe to an interactive table.\"\n",
              "              style=\"display:none;\">\n",
              "\n",
              "  <svg xmlns=\"http://www.w3.org/2000/svg\" height=\"24px\"viewBox=\"0 0 24 24\"\n",
              "       width=\"24px\">\n",
              "    <path d=\"M0 0h24v24H0V0z\" fill=\"none\"/>\n",
              "    <path d=\"M18.56 5.44l.94 2.06.94-2.06 2.06-.94-2.06-.94-.94-2.06-.94 2.06-2.06.94zm-11 1L8.5 8.5l.94-2.06 2.06-.94-2.06-.94L8.5 2.5l-.94 2.06-2.06.94zm10 10l.94 2.06.94-2.06 2.06-.94-2.06-.94-.94-2.06-.94 2.06-2.06.94z\"/><path d=\"M17.41 7.96l-1.37-1.37c-.4-.4-.92-.59-1.43-.59-.52 0-1.04.2-1.43.59L10.3 9.45l-7.72 7.72c-.78.78-.78 2.05 0 2.83L4 21.41c.39.39.9.59 1.41.59.51 0 1.02-.2 1.41-.59l7.78-7.78 2.81-2.81c.8-.78.8-2.07 0-2.86zM5.41 20L4 18.59l7.72-7.72 1.47 1.35L5.41 20z\"/>\n",
              "  </svg>\n",
              "      </button>\n",
              "\n",
              "\n",
              "\n",
              "    <div id=\"df-f643938d-9dc8-4f41-b223-1587e2384149\">\n",
              "      <button class=\"colab-df-quickchart\" onclick=\"quickchart('df-f643938d-9dc8-4f41-b223-1587e2384149')\"\n",
              "              title=\"Suggest charts.\"\n",
              "              style=\"display:none;\">\n",
              "\n",
              "<svg xmlns=\"http://www.w3.org/2000/svg\" height=\"24px\"viewBox=\"0 0 24 24\"\n",
              "     width=\"24px\">\n",
              "    <g>\n",
              "        <path d=\"M19 3H5c-1.1 0-2 .9-2 2v14c0 1.1.9 2 2 2h14c1.1 0 2-.9 2-2V5c0-1.1-.9-2-2-2zM9 17H7v-7h2v7zm4 0h-2V7h2v10zm4 0h-2v-4h2v4z\"/>\n",
              "    </g>\n",
              "</svg>\n",
              "      </button>\n",
              "    </div>\n",
              "\n",
              "<style>\n",
              "  .colab-df-quickchart {\n",
              "    background-color: #E8F0FE;\n",
              "    border: none;\n",
              "    border-radius: 50%;\n",
              "    cursor: pointer;\n",
              "    display: none;\n",
              "    fill: #1967D2;\n",
              "    height: 32px;\n",
              "    padding: 0 0 0 0;\n",
              "    width: 32px;\n",
              "  }\n",
              "\n",
              "  .colab-df-quickchart:hover {\n",
              "    background-color: #E2EBFA;\n",
              "    box-shadow: 0px 1px 2px rgba(60, 64, 67, 0.3), 0px 1px 3px 1px rgba(60, 64, 67, 0.15);\n",
              "    fill: #174EA6;\n",
              "  }\n",
              "\n",
              "  [theme=dark] .colab-df-quickchart {\n",
              "    background-color: #3B4455;\n",
              "    fill: #D2E3FC;\n",
              "  }\n",
              "\n",
              "  [theme=dark] .colab-df-quickchart:hover {\n",
              "    background-color: #434B5C;\n",
              "    box-shadow: 0px 1px 3px 1px rgba(0, 0, 0, 0.15);\n",
              "    filter: drop-shadow(0px 1px 2px rgba(0, 0, 0, 0.3));\n",
              "    fill: #FFFFFF;\n",
              "  }\n",
              "</style>\n",
              "\n",
              "    <script>\n",
              "      async function quickchart(key) {\n",
              "        const containerElement = document.querySelector('#' + key);\n",
              "        const charts = await google.colab.kernel.invokeFunction(\n",
              "            'suggestCharts', [key], {});\n",
              "      }\n",
              "    </script>\n",
              "\n",
              "      <script>\n",
              "\n",
              "function displayQuickchartButton(domScope) {\n",
              "  let quickchartButtonEl =\n",
              "    domScope.querySelector('#df-f643938d-9dc8-4f41-b223-1587e2384149 button.colab-df-quickchart');\n",
              "  quickchartButtonEl.style.display =\n",
              "    google.colab.kernel.accessAllowed ? 'block' : 'none';\n",
              "}\n",
              "\n",
              "        displayQuickchartButton(document);\n",
              "      </script>\n",
              "      <style>\n",
              "    .colab-df-container {\n",
              "      display:flex;\n",
              "      flex-wrap:wrap;\n",
              "      gap: 12px;\n",
              "    }\n",
              "\n",
              "    .colab-df-convert {\n",
              "      background-color: #E8F0FE;\n",
              "      border: none;\n",
              "      border-radius: 50%;\n",
              "      cursor: pointer;\n",
              "      display: none;\n",
              "      fill: #1967D2;\n",
              "      height: 32px;\n",
              "      padding: 0 0 0 0;\n",
              "      width: 32px;\n",
              "    }\n",
              "\n",
              "    .colab-df-convert:hover {\n",
              "      background-color: #E2EBFA;\n",
              "      box-shadow: 0px 1px 2px rgba(60, 64, 67, 0.3), 0px 1px 3px 1px rgba(60, 64, 67, 0.15);\n",
              "      fill: #174EA6;\n",
              "    }\n",
              "\n",
              "    [theme=dark] .colab-df-convert {\n",
              "      background-color: #3B4455;\n",
              "      fill: #D2E3FC;\n",
              "    }\n",
              "\n",
              "    [theme=dark] .colab-df-convert:hover {\n",
              "      background-color: #434B5C;\n",
              "      box-shadow: 0px 1px 3px 1px rgba(0, 0, 0, 0.15);\n",
              "      filter: drop-shadow(0px 1px 2px rgba(0, 0, 0, 0.3));\n",
              "      fill: #FFFFFF;\n",
              "    }\n",
              "  </style>\n",
              "\n",
              "      <script>\n",
              "        const buttonEl =\n",
              "          document.querySelector('#df-a6a0a8eb-5d59-427e-b93f-d9b2d34b1dc8 button.colab-df-convert');\n",
              "        buttonEl.style.display =\n",
              "          google.colab.kernel.accessAllowed ? 'block' : 'none';\n",
              "\n",
              "        async function convertToInteractive(key) {\n",
              "          const element = document.querySelector('#df-a6a0a8eb-5d59-427e-b93f-d9b2d34b1dc8');\n",
              "          const dataTable =\n",
              "            await google.colab.kernel.invokeFunction('convertToInteractive',\n",
              "                                                     [key], {});\n",
              "          if (!dataTable) return;\n",
              "\n",
              "          const docLinkHtml = 'Like what you see? Visit the ' +\n",
              "            '<a target=\"_blank\" href=https://colab.research.google.com/notebooks/data_table.ipynb>data table notebook</a>'\n",
              "            + ' to learn more about interactive tables.';\n",
              "          element.innerHTML = '';\n",
              "          dataTable['output_type'] = 'display_data';\n",
              "          await google.colab.output.renderOutput(dataTable, element);\n",
              "          const docLink = document.createElement('div');\n",
              "          docLink.innerHTML = docLinkHtml;\n",
              "          element.appendChild(docLink);\n",
              "        }\n",
              "      </script>\n",
              "    </div>\n",
              "  </div>\n"
            ]
          },
          "metadata": {},
          "execution_count": 94
        }
      ],
      "source": [
        "df_final.head()"
      ]
    },
    {
      "cell_type": "code",
      "execution_count": null,
      "metadata": {
        "colab": {
          "base_uri": "https://localhost:8080/"
        },
        "id": "El7hPb8BzjHj",
        "outputId": "ae8a9593-2fc1-4080-900d-44f0eae44de3"
      },
      "outputs": [
        {
          "output_type": "execute_result",
          "data": {
            "text/plain": [
              "array(['unknown', 'cellular', 'telephone'], dtype=object)"
            ]
          },
          "metadata": {},
          "execution_count": 95
        }
      ],
      "source": [
        "df_final.call_type.unique()"
      ]
    },
    {
      "cell_type": "code",
      "execution_count": null,
      "metadata": {
        "id": "_8oUuUut04yg"
      },
      "outputs": [],
      "source": [
        "df_final.call_type = df_final.call_type.map({'unknown':0,'cellular':1,'telephone':2})"
      ]
    },
    {
      "cell_type": "code",
      "execution_count": null,
      "metadata": {
        "colab": {
          "base_uri": "https://localhost:8080/"
        },
        "id": "xFa8tsR_1LsZ",
        "outputId": "65a98392-f12e-4bee-fe78-9807c940f8df"
      },
      "outputs": [
        {
          "output_type": "execute_result",
          "data": {
            "text/plain": [
              "dtype('int64')"
            ]
          },
          "metadata": {},
          "execution_count": 97
        }
      ],
      "source": [
        "df_final.call_type.dtype"
      ]
    },
    {
      "cell_type": "code",
      "execution_count": null,
      "metadata": {
        "colab": {
          "base_uri": "https://localhost:8080/"
        },
        "id": "UYGVI9Sm7P6s",
        "outputId": "91dece66-0daa-495f-9108-1f1fee79627d"
      },
      "outputs": [
        {
          "output_type": "execute_result",
          "data": {
            "text/plain": [
              "   age  marital  education_qual  call_type  day  mon  dur  num_calls  \\\n",
              "0   58        1               3          0    5  may  261          1   \n",
              "1   44        0               2          0    5  may  151          1   \n",
              "2   33        1               2          0    5  may   76          1   \n",
              "3   47        1               0          0    5  may   92          1   \n",
              "4   33        0               0          0    5  may  198          1   \n",
              "\n",
              "  prev_outcome  target  job_admin  job_blue-collar  job_entrepreneur  \\\n",
              "0      unknown       0          0                0                 0   \n",
              "1      unknown       0          0                0                 0   \n",
              "2      unknown       0          0                0                 1   \n",
              "3      unknown       0          0                1                 0   \n",
              "4      unknown       0          0                0                 0   \n",
              "\n",
              "   job_housemaid  job_management  job_retired  job_self-employed  \\\n",
              "0              0               1            0                  0   \n",
              "1              0               0            0                  0   \n",
              "2              0               0            0                  0   \n",
              "3              0               0            0                  0   \n",
              "4              0               0            0                  0   \n",
              "\n",
              "   job_services  job_student  job_technician  job_unemployed  job_unknown  \n",
              "0             0            0               0               0            0  \n",
              "1             0            0               1               0            0  \n",
              "2             0            0               0               0            0  \n",
              "3             0            0               0               0            0  \n",
              "4             0            0               0               0            1  "
            ],
            "text/html": [
              "\n",
              "\n",
              "  <div id=\"df-9236cbef-2d03-4108-b869-134aa55740ec\">\n",
              "    <div class=\"colab-df-container\">\n",
              "      <div>\n",
              "<style scoped>\n",
              "    .dataframe tbody tr th:only-of-type {\n",
              "        vertical-align: middle;\n",
              "    }\n",
              "\n",
              "    .dataframe tbody tr th {\n",
              "        vertical-align: top;\n",
              "    }\n",
              "\n",
              "    .dataframe thead th {\n",
              "        text-align: right;\n",
              "    }\n",
              "</style>\n",
              "<table border=\"1\" class=\"dataframe\">\n",
              "  <thead>\n",
              "    <tr style=\"text-align: right;\">\n",
              "      <th></th>\n",
              "      <th>age</th>\n",
              "      <th>marital</th>\n",
              "      <th>education_qual</th>\n",
              "      <th>call_type</th>\n",
              "      <th>day</th>\n",
              "      <th>mon</th>\n",
              "      <th>dur</th>\n",
              "      <th>num_calls</th>\n",
              "      <th>prev_outcome</th>\n",
              "      <th>target</th>\n",
              "      <th>job_admin</th>\n",
              "      <th>job_blue-collar</th>\n",
              "      <th>job_entrepreneur</th>\n",
              "      <th>job_housemaid</th>\n",
              "      <th>job_management</th>\n",
              "      <th>job_retired</th>\n",
              "      <th>job_self-employed</th>\n",
              "      <th>job_services</th>\n",
              "      <th>job_student</th>\n",
              "      <th>job_technician</th>\n",
              "      <th>job_unemployed</th>\n",
              "      <th>job_unknown</th>\n",
              "    </tr>\n",
              "  </thead>\n",
              "  <tbody>\n",
              "    <tr>\n",
              "      <th>0</th>\n",
              "      <td>58</td>\n",
              "      <td>1</td>\n",
              "      <td>3</td>\n",
              "      <td>0</td>\n",
              "      <td>5</td>\n",
              "      <td>may</td>\n",
              "      <td>261</td>\n",
              "      <td>1</td>\n",
              "      <td>unknown</td>\n",
              "      <td>0</td>\n",
              "      <td>0</td>\n",
              "      <td>0</td>\n",
              "      <td>0</td>\n",
              "      <td>0</td>\n",
              "      <td>1</td>\n",
              "      <td>0</td>\n",
              "      <td>0</td>\n",
              "      <td>0</td>\n",
              "      <td>0</td>\n",
              "      <td>0</td>\n",
              "      <td>0</td>\n",
              "      <td>0</td>\n",
              "    </tr>\n",
              "    <tr>\n",
              "      <th>1</th>\n",
              "      <td>44</td>\n",
              "      <td>0</td>\n",
              "      <td>2</td>\n",
              "      <td>0</td>\n",
              "      <td>5</td>\n",
              "      <td>may</td>\n",
              "      <td>151</td>\n",
              "      <td>1</td>\n",
              "      <td>unknown</td>\n",
              "      <td>0</td>\n",
              "      <td>0</td>\n",
              "      <td>0</td>\n",
              "      <td>0</td>\n",
              "      <td>0</td>\n",
              "      <td>0</td>\n",
              "      <td>0</td>\n",
              "      <td>0</td>\n",
              "      <td>0</td>\n",
              "      <td>0</td>\n",
              "      <td>1</td>\n",
              "      <td>0</td>\n",
              "      <td>0</td>\n",
              "    </tr>\n",
              "    <tr>\n",
              "      <th>2</th>\n",
              "      <td>33</td>\n",
              "      <td>1</td>\n",
              "      <td>2</td>\n",
              "      <td>0</td>\n",
              "      <td>5</td>\n",
              "      <td>may</td>\n",
              "      <td>76</td>\n",
              "      <td>1</td>\n",
              "      <td>unknown</td>\n",
              "      <td>0</td>\n",
              "      <td>0</td>\n",
              "      <td>0</td>\n",
              "      <td>1</td>\n",
              "      <td>0</td>\n",
              "      <td>0</td>\n",
              "      <td>0</td>\n",
              "      <td>0</td>\n",
              "      <td>0</td>\n",
              "      <td>0</td>\n",
              "      <td>0</td>\n",
              "      <td>0</td>\n",
              "      <td>0</td>\n",
              "    </tr>\n",
              "    <tr>\n",
              "      <th>3</th>\n",
              "      <td>47</td>\n",
              "      <td>1</td>\n",
              "      <td>0</td>\n",
              "      <td>0</td>\n",
              "      <td>5</td>\n",
              "      <td>may</td>\n",
              "      <td>92</td>\n",
              "      <td>1</td>\n",
              "      <td>unknown</td>\n",
              "      <td>0</td>\n",
              "      <td>0</td>\n",
              "      <td>1</td>\n",
              "      <td>0</td>\n",
              "      <td>0</td>\n",
              "      <td>0</td>\n",
              "      <td>0</td>\n",
              "      <td>0</td>\n",
              "      <td>0</td>\n",
              "      <td>0</td>\n",
              "      <td>0</td>\n",
              "      <td>0</td>\n",
              "      <td>0</td>\n",
              "    </tr>\n",
              "    <tr>\n",
              "      <th>4</th>\n",
              "      <td>33</td>\n",
              "      <td>0</td>\n",
              "      <td>0</td>\n",
              "      <td>0</td>\n",
              "      <td>5</td>\n",
              "      <td>may</td>\n",
              "      <td>198</td>\n",
              "      <td>1</td>\n",
              "      <td>unknown</td>\n",
              "      <td>0</td>\n",
              "      <td>0</td>\n",
              "      <td>0</td>\n",
              "      <td>0</td>\n",
              "      <td>0</td>\n",
              "      <td>0</td>\n",
              "      <td>0</td>\n",
              "      <td>0</td>\n",
              "      <td>0</td>\n",
              "      <td>0</td>\n",
              "      <td>0</td>\n",
              "      <td>0</td>\n",
              "      <td>1</td>\n",
              "    </tr>\n",
              "  </tbody>\n",
              "</table>\n",
              "</div>\n",
              "      <button class=\"colab-df-convert\" onclick=\"convertToInteractive('df-9236cbef-2d03-4108-b869-134aa55740ec')\"\n",
              "              title=\"Convert this dataframe to an interactive table.\"\n",
              "              style=\"display:none;\">\n",
              "\n",
              "  <svg xmlns=\"http://www.w3.org/2000/svg\" height=\"24px\"viewBox=\"0 0 24 24\"\n",
              "       width=\"24px\">\n",
              "    <path d=\"M0 0h24v24H0V0z\" fill=\"none\"/>\n",
              "    <path d=\"M18.56 5.44l.94 2.06.94-2.06 2.06-.94-2.06-.94-.94-2.06-.94 2.06-2.06.94zm-11 1L8.5 8.5l.94-2.06 2.06-.94-2.06-.94L8.5 2.5l-.94 2.06-2.06.94zm10 10l.94 2.06.94-2.06 2.06-.94-2.06-.94-.94-2.06-.94 2.06-2.06.94z\"/><path d=\"M17.41 7.96l-1.37-1.37c-.4-.4-.92-.59-1.43-.59-.52 0-1.04.2-1.43.59L10.3 9.45l-7.72 7.72c-.78.78-.78 2.05 0 2.83L4 21.41c.39.39.9.59 1.41.59.51 0 1.02-.2 1.41-.59l7.78-7.78 2.81-2.81c.8-.78.8-2.07 0-2.86zM5.41 20L4 18.59l7.72-7.72 1.47 1.35L5.41 20z\"/>\n",
              "  </svg>\n",
              "      </button>\n",
              "\n",
              "\n",
              "\n",
              "    <div id=\"df-f02a6db4-1674-4d5c-ae30-83a43ef72cb2\">\n",
              "      <button class=\"colab-df-quickchart\" onclick=\"quickchart('df-f02a6db4-1674-4d5c-ae30-83a43ef72cb2')\"\n",
              "              title=\"Suggest charts.\"\n",
              "              style=\"display:none;\">\n",
              "\n",
              "<svg xmlns=\"http://www.w3.org/2000/svg\" height=\"24px\"viewBox=\"0 0 24 24\"\n",
              "     width=\"24px\">\n",
              "    <g>\n",
              "        <path d=\"M19 3H5c-1.1 0-2 .9-2 2v14c0 1.1.9 2 2 2h14c1.1 0 2-.9 2-2V5c0-1.1-.9-2-2-2zM9 17H7v-7h2v7zm4 0h-2V7h2v10zm4 0h-2v-4h2v4z\"/>\n",
              "    </g>\n",
              "</svg>\n",
              "      </button>\n",
              "    </div>\n",
              "\n",
              "<style>\n",
              "  .colab-df-quickchart {\n",
              "    background-color: #E8F0FE;\n",
              "    border: none;\n",
              "    border-radius: 50%;\n",
              "    cursor: pointer;\n",
              "    display: none;\n",
              "    fill: #1967D2;\n",
              "    height: 32px;\n",
              "    padding: 0 0 0 0;\n",
              "    width: 32px;\n",
              "  }\n",
              "\n",
              "  .colab-df-quickchart:hover {\n",
              "    background-color: #E2EBFA;\n",
              "    box-shadow: 0px 1px 2px rgba(60, 64, 67, 0.3), 0px 1px 3px 1px rgba(60, 64, 67, 0.15);\n",
              "    fill: #174EA6;\n",
              "  }\n",
              "\n",
              "  [theme=dark] .colab-df-quickchart {\n",
              "    background-color: #3B4455;\n",
              "    fill: #D2E3FC;\n",
              "  }\n",
              "\n",
              "  [theme=dark] .colab-df-quickchart:hover {\n",
              "    background-color: #434B5C;\n",
              "    box-shadow: 0px 1px 3px 1px rgba(0, 0, 0, 0.15);\n",
              "    filter: drop-shadow(0px 1px 2px rgba(0, 0, 0, 0.3));\n",
              "    fill: #FFFFFF;\n",
              "  }\n",
              "</style>\n",
              "\n",
              "    <script>\n",
              "      async function quickchart(key) {\n",
              "        const containerElement = document.querySelector('#' + key);\n",
              "        const charts = await google.colab.kernel.invokeFunction(\n",
              "            'suggestCharts', [key], {});\n",
              "      }\n",
              "    </script>\n",
              "\n",
              "      <script>\n",
              "\n",
              "function displayQuickchartButton(domScope) {\n",
              "  let quickchartButtonEl =\n",
              "    domScope.querySelector('#df-f02a6db4-1674-4d5c-ae30-83a43ef72cb2 button.colab-df-quickchart');\n",
              "  quickchartButtonEl.style.display =\n",
              "    google.colab.kernel.accessAllowed ? 'block' : 'none';\n",
              "}\n",
              "\n",
              "        displayQuickchartButton(document);\n",
              "      </script>\n",
              "      <style>\n",
              "    .colab-df-container {\n",
              "      display:flex;\n",
              "      flex-wrap:wrap;\n",
              "      gap: 12px;\n",
              "    }\n",
              "\n",
              "    .colab-df-convert {\n",
              "      background-color: #E8F0FE;\n",
              "      border: none;\n",
              "      border-radius: 50%;\n",
              "      cursor: pointer;\n",
              "      display: none;\n",
              "      fill: #1967D2;\n",
              "      height: 32px;\n",
              "      padding: 0 0 0 0;\n",
              "      width: 32px;\n",
              "    }\n",
              "\n",
              "    .colab-df-convert:hover {\n",
              "      background-color: #E2EBFA;\n",
              "      box-shadow: 0px 1px 2px rgba(60, 64, 67, 0.3), 0px 1px 3px 1px rgba(60, 64, 67, 0.15);\n",
              "      fill: #174EA6;\n",
              "    }\n",
              "\n",
              "    [theme=dark] .colab-df-convert {\n",
              "      background-color: #3B4455;\n",
              "      fill: #D2E3FC;\n",
              "    }\n",
              "\n",
              "    [theme=dark] .colab-df-convert:hover {\n",
              "      background-color: #434B5C;\n",
              "      box-shadow: 0px 1px 3px 1px rgba(0, 0, 0, 0.15);\n",
              "      filter: drop-shadow(0px 1px 2px rgba(0, 0, 0, 0.3));\n",
              "      fill: #FFFFFF;\n",
              "    }\n",
              "  </style>\n",
              "\n",
              "      <script>\n",
              "        const buttonEl =\n",
              "          document.querySelector('#df-9236cbef-2d03-4108-b869-134aa55740ec button.colab-df-convert');\n",
              "        buttonEl.style.display =\n",
              "          google.colab.kernel.accessAllowed ? 'block' : 'none';\n",
              "\n",
              "        async function convertToInteractive(key) {\n",
              "          const element = document.querySelector('#df-9236cbef-2d03-4108-b869-134aa55740ec');\n",
              "          const dataTable =\n",
              "            await google.colab.kernel.invokeFunction('convertToInteractive',\n",
              "                                                     [key], {});\n",
              "          if (!dataTable) return;\n",
              "\n",
              "          const docLinkHtml = 'Like what you see? Visit the ' +\n",
              "            '<a target=\"_blank\" href=https://colab.research.google.com/notebooks/data_table.ipynb>data table notebook</a>'\n",
              "            + ' to learn more about interactive tables.';\n",
              "          element.innerHTML = '';\n",
              "          dataTable['output_type'] = 'display_data';\n",
              "          await google.colab.output.renderOutput(dataTable, element);\n",
              "          const docLink = document.createElement('div');\n",
              "          docLink.innerHTML = docLinkHtml;\n",
              "          element.appendChild(docLink);\n",
              "        }\n",
              "      </script>\n",
              "    </div>\n",
              "  </div>\n"
            ]
          },
          "metadata": {},
          "execution_count": 98
        }
      ],
      "source": [
        "df_final.head()"
      ]
    },
    {
      "cell_type": "code",
      "execution_count": null,
      "metadata": {
        "colab": {
          "base_uri": "https://localhost:8080/"
        },
        "id": "v9Mvt9ti8edm",
        "outputId": "226744a5-3d5a-45fb-e8af-7d31a0cf3b2b"
      },
      "outputs": [
        {
          "output_type": "execute_result",
          "data": {
            "text/plain": [
              "0"
            ]
          },
          "metadata": {},
          "execution_count": 99
        }
      ],
      "source": [
        "df_final.mon.isna().sum()"
      ]
    },
    {
      "cell_type": "code",
      "execution_count": null,
      "metadata": {
        "colab": {
          "base_uri": "https://localhost:8080/"
        },
        "id": "jtBurwr71Uiz",
        "outputId": "6a3d3df4-1082-42ac-cf45-be88c247ad24"
      },
      "outputs": [
        {
          "output_type": "execute_result",
          "data": {
            "text/plain": [
              "array(['may', 'jun', 'jul', 'aug', 'oct', 'nov', 'dec', 'jan', 'feb',\n",
              "       'mar', 'apr', 'sep'], dtype=object)"
            ]
          },
          "metadata": {},
          "execution_count": 100
        }
      ],
      "source": [
        "df_final.mon.unique()"
      ]
    },
    {
      "cell_type": "code",
      "execution_count": null,
      "metadata": {
        "id": "GJfw-kSA7apJ"
      },
      "outputs": [],
      "source": [
        "df_final.mon = df_final.mon.map({'jan':1,'feb':2,'mar':3,'apr':4,'may':5,'jun':6,'jul':7,'aug':8,'sep':9,'oct':10,'nov':11,'dec':12})"
      ]
    },
    {
      "cell_type": "code",
      "execution_count": null,
      "metadata": {
        "colab": {
          "base_uri": "https://localhost:8080/"
        },
        "id": "d9GGli9O79ym",
        "outputId": "3a8b3077-98e5-4c25-dacd-654b481a4ec4"
      },
      "outputs": [
        {
          "output_type": "execute_result",
          "data": {
            "text/plain": [
              "dtype('int64')"
            ]
          },
          "metadata": {},
          "execution_count": 102
        }
      ],
      "source": [
        "df_final.mon.dtype"
      ]
    },
    {
      "cell_type": "code",
      "execution_count": null,
      "metadata": {
        "colab": {
          "base_uri": "https://localhost:8080/"
        },
        "id": "j3BNcv109G2f",
        "outputId": "173f09bc-d425-4852-8c9f-c5deead9d959"
      },
      "outputs": [
        {
          "output_type": "execute_result",
          "data": {
            "text/plain": [
              "   age  marital  education_qual  call_type  day  mon  dur  num_calls  \\\n",
              "0   58        1               3          0    5    5  261          1   \n",
              "1   44        0               2          0    5    5  151          1   \n",
              "2   33        1               2          0    5    5   76          1   \n",
              "3   47        1               0          0    5    5   92          1   \n",
              "4   33        0               0          0    5    5  198          1   \n",
              "\n",
              "  prev_outcome  target  job_admin  job_blue-collar  job_entrepreneur  \\\n",
              "0      unknown       0          0                0                 0   \n",
              "1      unknown       0          0                0                 0   \n",
              "2      unknown       0          0                0                 1   \n",
              "3      unknown       0          0                1                 0   \n",
              "4      unknown       0          0                0                 0   \n",
              "\n",
              "   job_housemaid  job_management  job_retired  job_self-employed  \\\n",
              "0              0               1            0                  0   \n",
              "1              0               0            0                  0   \n",
              "2              0               0            0                  0   \n",
              "3              0               0            0                  0   \n",
              "4              0               0            0                  0   \n",
              "\n",
              "   job_services  job_student  job_technician  job_unemployed  job_unknown  \n",
              "0             0            0               0               0            0  \n",
              "1             0            0               1               0            0  \n",
              "2             0            0               0               0            0  \n",
              "3             0            0               0               0            0  \n",
              "4             0            0               0               0            1  "
            ],
            "text/html": [
              "\n",
              "\n",
              "  <div id=\"df-af8097ca-39a7-49db-b85b-3242c7c3c941\">\n",
              "    <div class=\"colab-df-container\">\n",
              "      <div>\n",
              "<style scoped>\n",
              "    .dataframe tbody tr th:only-of-type {\n",
              "        vertical-align: middle;\n",
              "    }\n",
              "\n",
              "    .dataframe tbody tr th {\n",
              "        vertical-align: top;\n",
              "    }\n",
              "\n",
              "    .dataframe thead th {\n",
              "        text-align: right;\n",
              "    }\n",
              "</style>\n",
              "<table border=\"1\" class=\"dataframe\">\n",
              "  <thead>\n",
              "    <tr style=\"text-align: right;\">\n",
              "      <th></th>\n",
              "      <th>age</th>\n",
              "      <th>marital</th>\n",
              "      <th>education_qual</th>\n",
              "      <th>call_type</th>\n",
              "      <th>day</th>\n",
              "      <th>mon</th>\n",
              "      <th>dur</th>\n",
              "      <th>num_calls</th>\n",
              "      <th>prev_outcome</th>\n",
              "      <th>target</th>\n",
              "      <th>job_admin</th>\n",
              "      <th>job_blue-collar</th>\n",
              "      <th>job_entrepreneur</th>\n",
              "      <th>job_housemaid</th>\n",
              "      <th>job_management</th>\n",
              "      <th>job_retired</th>\n",
              "      <th>job_self-employed</th>\n",
              "      <th>job_services</th>\n",
              "      <th>job_student</th>\n",
              "      <th>job_technician</th>\n",
              "      <th>job_unemployed</th>\n",
              "      <th>job_unknown</th>\n",
              "    </tr>\n",
              "  </thead>\n",
              "  <tbody>\n",
              "    <tr>\n",
              "      <th>0</th>\n",
              "      <td>58</td>\n",
              "      <td>1</td>\n",
              "      <td>3</td>\n",
              "      <td>0</td>\n",
              "      <td>5</td>\n",
              "      <td>5</td>\n",
              "      <td>261</td>\n",
              "      <td>1</td>\n",
              "      <td>unknown</td>\n",
              "      <td>0</td>\n",
              "      <td>0</td>\n",
              "      <td>0</td>\n",
              "      <td>0</td>\n",
              "      <td>0</td>\n",
              "      <td>1</td>\n",
              "      <td>0</td>\n",
              "      <td>0</td>\n",
              "      <td>0</td>\n",
              "      <td>0</td>\n",
              "      <td>0</td>\n",
              "      <td>0</td>\n",
              "      <td>0</td>\n",
              "    </tr>\n",
              "    <tr>\n",
              "      <th>1</th>\n",
              "      <td>44</td>\n",
              "      <td>0</td>\n",
              "      <td>2</td>\n",
              "      <td>0</td>\n",
              "      <td>5</td>\n",
              "      <td>5</td>\n",
              "      <td>151</td>\n",
              "      <td>1</td>\n",
              "      <td>unknown</td>\n",
              "      <td>0</td>\n",
              "      <td>0</td>\n",
              "      <td>0</td>\n",
              "      <td>0</td>\n",
              "      <td>0</td>\n",
              "      <td>0</td>\n",
              "      <td>0</td>\n",
              "      <td>0</td>\n",
              "      <td>0</td>\n",
              "      <td>0</td>\n",
              "      <td>1</td>\n",
              "      <td>0</td>\n",
              "      <td>0</td>\n",
              "    </tr>\n",
              "    <tr>\n",
              "      <th>2</th>\n",
              "      <td>33</td>\n",
              "      <td>1</td>\n",
              "      <td>2</td>\n",
              "      <td>0</td>\n",
              "      <td>5</td>\n",
              "      <td>5</td>\n",
              "      <td>76</td>\n",
              "      <td>1</td>\n",
              "      <td>unknown</td>\n",
              "      <td>0</td>\n",
              "      <td>0</td>\n",
              "      <td>0</td>\n",
              "      <td>1</td>\n",
              "      <td>0</td>\n",
              "      <td>0</td>\n",
              "      <td>0</td>\n",
              "      <td>0</td>\n",
              "      <td>0</td>\n",
              "      <td>0</td>\n",
              "      <td>0</td>\n",
              "      <td>0</td>\n",
              "      <td>0</td>\n",
              "    </tr>\n",
              "    <tr>\n",
              "      <th>3</th>\n",
              "      <td>47</td>\n",
              "      <td>1</td>\n",
              "      <td>0</td>\n",
              "      <td>0</td>\n",
              "      <td>5</td>\n",
              "      <td>5</td>\n",
              "      <td>92</td>\n",
              "      <td>1</td>\n",
              "      <td>unknown</td>\n",
              "      <td>0</td>\n",
              "      <td>0</td>\n",
              "      <td>1</td>\n",
              "      <td>0</td>\n",
              "      <td>0</td>\n",
              "      <td>0</td>\n",
              "      <td>0</td>\n",
              "      <td>0</td>\n",
              "      <td>0</td>\n",
              "      <td>0</td>\n",
              "      <td>0</td>\n",
              "      <td>0</td>\n",
              "      <td>0</td>\n",
              "    </tr>\n",
              "    <tr>\n",
              "      <th>4</th>\n",
              "      <td>33</td>\n",
              "      <td>0</td>\n",
              "      <td>0</td>\n",
              "      <td>0</td>\n",
              "      <td>5</td>\n",
              "      <td>5</td>\n",
              "      <td>198</td>\n",
              "      <td>1</td>\n",
              "      <td>unknown</td>\n",
              "      <td>0</td>\n",
              "      <td>0</td>\n",
              "      <td>0</td>\n",
              "      <td>0</td>\n",
              "      <td>0</td>\n",
              "      <td>0</td>\n",
              "      <td>0</td>\n",
              "      <td>0</td>\n",
              "      <td>0</td>\n",
              "      <td>0</td>\n",
              "      <td>0</td>\n",
              "      <td>0</td>\n",
              "      <td>1</td>\n",
              "    </tr>\n",
              "  </tbody>\n",
              "</table>\n",
              "</div>\n",
              "      <button class=\"colab-df-convert\" onclick=\"convertToInteractive('df-af8097ca-39a7-49db-b85b-3242c7c3c941')\"\n",
              "              title=\"Convert this dataframe to an interactive table.\"\n",
              "              style=\"display:none;\">\n",
              "\n",
              "  <svg xmlns=\"http://www.w3.org/2000/svg\" height=\"24px\"viewBox=\"0 0 24 24\"\n",
              "       width=\"24px\">\n",
              "    <path d=\"M0 0h24v24H0V0z\" fill=\"none\"/>\n",
              "    <path d=\"M18.56 5.44l.94 2.06.94-2.06 2.06-.94-2.06-.94-.94-2.06-.94 2.06-2.06.94zm-11 1L8.5 8.5l.94-2.06 2.06-.94-2.06-.94L8.5 2.5l-.94 2.06-2.06.94zm10 10l.94 2.06.94-2.06 2.06-.94-2.06-.94-.94-2.06-.94 2.06-2.06.94z\"/><path d=\"M17.41 7.96l-1.37-1.37c-.4-.4-.92-.59-1.43-.59-.52 0-1.04.2-1.43.59L10.3 9.45l-7.72 7.72c-.78.78-.78 2.05 0 2.83L4 21.41c.39.39.9.59 1.41.59.51 0 1.02-.2 1.41-.59l7.78-7.78 2.81-2.81c.8-.78.8-2.07 0-2.86zM5.41 20L4 18.59l7.72-7.72 1.47 1.35L5.41 20z\"/>\n",
              "  </svg>\n",
              "      </button>\n",
              "\n",
              "\n",
              "\n",
              "    <div id=\"df-eabc45f2-dd93-4b28-8f9f-5ff344125cc7\">\n",
              "      <button class=\"colab-df-quickchart\" onclick=\"quickchart('df-eabc45f2-dd93-4b28-8f9f-5ff344125cc7')\"\n",
              "              title=\"Suggest charts.\"\n",
              "              style=\"display:none;\">\n",
              "\n",
              "<svg xmlns=\"http://www.w3.org/2000/svg\" height=\"24px\"viewBox=\"0 0 24 24\"\n",
              "     width=\"24px\">\n",
              "    <g>\n",
              "        <path d=\"M19 3H5c-1.1 0-2 .9-2 2v14c0 1.1.9 2 2 2h14c1.1 0 2-.9 2-2V5c0-1.1-.9-2-2-2zM9 17H7v-7h2v7zm4 0h-2V7h2v10zm4 0h-2v-4h2v4z\"/>\n",
              "    </g>\n",
              "</svg>\n",
              "      </button>\n",
              "    </div>\n",
              "\n",
              "<style>\n",
              "  .colab-df-quickchart {\n",
              "    background-color: #E8F0FE;\n",
              "    border: none;\n",
              "    border-radius: 50%;\n",
              "    cursor: pointer;\n",
              "    display: none;\n",
              "    fill: #1967D2;\n",
              "    height: 32px;\n",
              "    padding: 0 0 0 0;\n",
              "    width: 32px;\n",
              "  }\n",
              "\n",
              "  .colab-df-quickchart:hover {\n",
              "    background-color: #E2EBFA;\n",
              "    box-shadow: 0px 1px 2px rgba(60, 64, 67, 0.3), 0px 1px 3px 1px rgba(60, 64, 67, 0.15);\n",
              "    fill: #174EA6;\n",
              "  }\n",
              "\n",
              "  [theme=dark] .colab-df-quickchart {\n",
              "    background-color: #3B4455;\n",
              "    fill: #D2E3FC;\n",
              "  }\n",
              "\n",
              "  [theme=dark] .colab-df-quickchart:hover {\n",
              "    background-color: #434B5C;\n",
              "    box-shadow: 0px 1px 3px 1px rgba(0, 0, 0, 0.15);\n",
              "    filter: drop-shadow(0px 1px 2px rgba(0, 0, 0, 0.3));\n",
              "    fill: #FFFFFF;\n",
              "  }\n",
              "</style>\n",
              "\n",
              "    <script>\n",
              "      async function quickchart(key) {\n",
              "        const containerElement = document.querySelector('#' + key);\n",
              "        const charts = await google.colab.kernel.invokeFunction(\n",
              "            'suggestCharts', [key], {});\n",
              "      }\n",
              "    </script>\n",
              "\n",
              "      <script>\n",
              "\n",
              "function displayQuickchartButton(domScope) {\n",
              "  let quickchartButtonEl =\n",
              "    domScope.querySelector('#df-eabc45f2-dd93-4b28-8f9f-5ff344125cc7 button.colab-df-quickchart');\n",
              "  quickchartButtonEl.style.display =\n",
              "    google.colab.kernel.accessAllowed ? 'block' : 'none';\n",
              "}\n",
              "\n",
              "        displayQuickchartButton(document);\n",
              "      </script>\n",
              "      <style>\n",
              "    .colab-df-container {\n",
              "      display:flex;\n",
              "      flex-wrap:wrap;\n",
              "      gap: 12px;\n",
              "    }\n",
              "\n",
              "    .colab-df-convert {\n",
              "      background-color: #E8F0FE;\n",
              "      border: none;\n",
              "      border-radius: 50%;\n",
              "      cursor: pointer;\n",
              "      display: none;\n",
              "      fill: #1967D2;\n",
              "      height: 32px;\n",
              "      padding: 0 0 0 0;\n",
              "      width: 32px;\n",
              "    }\n",
              "\n",
              "    .colab-df-convert:hover {\n",
              "      background-color: #E2EBFA;\n",
              "      box-shadow: 0px 1px 2px rgba(60, 64, 67, 0.3), 0px 1px 3px 1px rgba(60, 64, 67, 0.15);\n",
              "      fill: #174EA6;\n",
              "    }\n",
              "\n",
              "    [theme=dark] .colab-df-convert {\n",
              "      background-color: #3B4455;\n",
              "      fill: #D2E3FC;\n",
              "    }\n",
              "\n",
              "    [theme=dark] .colab-df-convert:hover {\n",
              "      background-color: #434B5C;\n",
              "      box-shadow: 0px 1px 3px 1px rgba(0, 0, 0, 0.15);\n",
              "      filter: drop-shadow(0px 1px 2px rgba(0, 0, 0, 0.3));\n",
              "      fill: #FFFFFF;\n",
              "    }\n",
              "  </style>\n",
              "\n",
              "      <script>\n",
              "        const buttonEl =\n",
              "          document.querySelector('#df-af8097ca-39a7-49db-b85b-3242c7c3c941 button.colab-df-convert');\n",
              "        buttonEl.style.display =\n",
              "          google.colab.kernel.accessAllowed ? 'block' : 'none';\n",
              "\n",
              "        async function convertToInteractive(key) {\n",
              "          const element = document.querySelector('#df-af8097ca-39a7-49db-b85b-3242c7c3c941');\n",
              "          const dataTable =\n",
              "            await google.colab.kernel.invokeFunction('convertToInteractive',\n",
              "                                                     [key], {});\n",
              "          if (!dataTable) return;\n",
              "\n",
              "          const docLinkHtml = 'Like what you see? Visit the ' +\n",
              "            '<a target=\"_blank\" href=https://colab.research.google.com/notebooks/data_table.ipynb>data table notebook</a>'\n",
              "            + ' to learn more about interactive tables.';\n",
              "          element.innerHTML = '';\n",
              "          dataTable['output_type'] = 'display_data';\n",
              "          await google.colab.output.renderOutput(dataTable, element);\n",
              "          const docLink = document.createElement('div');\n",
              "          docLink.innerHTML = docLinkHtml;\n",
              "          element.appendChild(docLink);\n",
              "        }\n",
              "      </script>\n",
              "    </div>\n",
              "  </div>\n"
            ]
          },
          "metadata": {},
          "execution_count": 103
        }
      ],
      "source": [
        "df_final.head()"
      ]
    },
    {
      "cell_type": "code",
      "execution_count": null,
      "metadata": {
        "colab": {
          "base_uri": "https://localhost:8080/"
        },
        "id": "-No7ECmW9LHL",
        "outputId": "7619d65b-3b69-4930-e99a-c6f2a8b4daa9"
      },
      "outputs": [
        {
          "output_type": "execute_result",
          "data": {
            "text/plain": [
              "array(['unknown', 'failure', 'other', 'success'], dtype=object)"
            ]
          },
          "metadata": {},
          "execution_count": 104
        }
      ],
      "source": [
        "df_final.prev_outcome.unique()"
      ]
    },
    {
      "cell_type": "code",
      "execution_count": null,
      "metadata": {
        "id": "mdRktbirBXsD"
      },
      "outputs": [],
      "source": [
        "df_final.prev_outcome = df_final.prev_outcome.map({'failure':0,'success':1,'unknown':2,'other':3})"
      ]
    },
    {
      "cell_type": "code",
      "execution_count": null,
      "metadata": {
        "colab": {
          "base_uri": "https://localhost:8080/"
        },
        "id": "5MWcAjwrBnSq",
        "outputId": "40c7c8e7-4871-4484-b9c2-fe8aec2062ff"
      },
      "outputs": [
        {
          "output_type": "execute_result",
          "data": {
            "text/plain": [
              "dtype('int64')"
            ]
          },
          "metadata": {},
          "execution_count": 106
        }
      ],
      "source": [
        "df_final.prev_outcome.dtype"
      ]
    },
    {
      "cell_type": "code",
      "execution_count": null,
      "metadata": {
        "colab": {
          "base_uri": "https://localhost:8080/"
        },
        "id": "6kAfKsSJBvHB",
        "outputId": "aae4bff9-16ab-480a-caab-ffcc6e3cb6c7"
      },
      "outputs": [
        {
          "output_type": "execute_result",
          "data": {
            "text/plain": [
              "   age  marital  education_qual  call_type  day  mon  dur  num_calls  \\\n",
              "0   58        1               3          0    5    5  261          1   \n",
              "1   44        0               2          0    5    5  151          1   \n",
              "2   33        1               2          0    5    5   76          1   \n",
              "3   47        1               0          0    5    5   92          1   \n",
              "4   33        0               0          0    5    5  198          1   \n",
              "\n",
              "   prev_outcome  target  job_admin  job_blue-collar  job_entrepreneur  \\\n",
              "0             2       0          0                0                 0   \n",
              "1             2       0          0                0                 0   \n",
              "2             2       0          0                0                 1   \n",
              "3             2       0          0                1                 0   \n",
              "4             2       0          0                0                 0   \n",
              "\n",
              "   job_housemaid  job_management  job_retired  job_self-employed  \\\n",
              "0              0               1            0                  0   \n",
              "1              0               0            0                  0   \n",
              "2              0               0            0                  0   \n",
              "3              0               0            0                  0   \n",
              "4              0               0            0                  0   \n",
              "\n",
              "   job_services  job_student  job_technician  job_unemployed  job_unknown  \n",
              "0             0            0               0               0            0  \n",
              "1             0            0               1               0            0  \n",
              "2             0            0               0               0            0  \n",
              "3             0            0               0               0            0  \n",
              "4             0            0               0               0            1  "
            ],
            "text/html": [
              "\n",
              "\n",
              "  <div id=\"df-0faed018-f633-4bad-b89b-16d598996d83\">\n",
              "    <div class=\"colab-df-container\">\n",
              "      <div>\n",
              "<style scoped>\n",
              "    .dataframe tbody tr th:only-of-type {\n",
              "        vertical-align: middle;\n",
              "    }\n",
              "\n",
              "    .dataframe tbody tr th {\n",
              "        vertical-align: top;\n",
              "    }\n",
              "\n",
              "    .dataframe thead th {\n",
              "        text-align: right;\n",
              "    }\n",
              "</style>\n",
              "<table border=\"1\" class=\"dataframe\">\n",
              "  <thead>\n",
              "    <tr style=\"text-align: right;\">\n",
              "      <th></th>\n",
              "      <th>age</th>\n",
              "      <th>marital</th>\n",
              "      <th>education_qual</th>\n",
              "      <th>call_type</th>\n",
              "      <th>day</th>\n",
              "      <th>mon</th>\n",
              "      <th>dur</th>\n",
              "      <th>num_calls</th>\n",
              "      <th>prev_outcome</th>\n",
              "      <th>target</th>\n",
              "      <th>job_admin</th>\n",
              "      <th>job_blue-collar</th>\n",
              "      <th>job_entrepreneur</th>\n",
              "      <th>job_housemaid</th>\n",
              "      <th>job_management</th>\n",
              "      <th>job_retired</th>\n",
              "      <th>job_self-employed</th>\n",
              "      <th>job_services</th>\n",
              "      <th>job_student</th>\n",
              "      <th>job_technician</th>\n",
              "      <th>job_unemployed</th>\n",
              "      <th>job_unknown</th>\n",
              "    </tr>\n",
              "  </thead>\n",
              "  <tbody>\n",
              "    <tr>\n",
              "      <th>0</th>\n",
              "      <td>58</td>\n",
              "      <td>1</td>\n",
              "      <td>3</td>\n",
              "      <td>0</td>\n",
              "      <td>5</td>\n",
              "      <td>5</td>\n",
              "      <td>261</td>\n",
              "      <td>1</td>\n",
              "      <td>2</td>\n",
              "      <td>0</td>\n",
              "      <td>0</td>\n",
              "      <td>0</td>\n",
              "      <td>0</td>\n",
              "      <td>0</td>\n",
              "      <td>1</td>\n",
              "      <td>0</td>\n",
              "      <td>0</td>\n",
              "      <td>0</td>\n",
              "      <td>0</td>\n",
              "      <td>0</td>\n",
              "      <td>0</td>\n",
              "      <td>0</td>\n",
              "    </tr>\n",
              "    <tr>\n",
              "      <th>1</th>\n",
              "      <td>44</td>\n",
              "      <td>0</td>\n",
              "      <td>2</td>\n",
              "      <td>0</td>\n",
              "      <td>5</td>\n",
              "      <td>5</td>\n",
              "      <td>151</td>\n",
              "      <td>1</td>\n",
              "      <td>2</td>\n",
              "      <td>0</td>\n",
              "      <td>0</td>\n",
              "      <td>0</td>\n",
              "      <td>0</td>\n",
              "      <td>0</td>\n",
              "      <td>0</td>\n",
              "      <td>0</td>\n",
              "      <td>0</td>\n",
              "      <td>0</td>\n",
              "      <td>0</td>\n",
              "      <td>1</td>\n",
              "      <td>0</td>\n",
              "      <td>0</td>\n",
              "    </tr>\n",
              "    <tr>\n",
              "      <th>2</th>\n",
              "      <td>33</td>\n",
              "      <td>1</td>\n",
              "      <td>2</td>\n",
              "      <td>0</td>\n",
              "      <td>5</td>\n",
              "      <td>5</td>\n",
              "      <td>76</td>\n",
              "      <td>1</td>\n",
              "      <td>2</td>\n",
              "      <td>0</td>\n",
              "      <td>0</td>\n",
              "      <td>0</td>\n",
              "      <td>1</td>\n",
              "      <td>0</td>\n",
              "      <td>0</td>\n",
              "      <td>0</td>\n",
              "      <td>0</td>\n",
              "      <td>0</td>\n",
              "      <td>0</td>\n",
              "      <td>0</td>\n",
              "      <td>0</td>\n",
              "      <td>0</td>\n",
              "    </tr>\n",
              "    <tr>\n",
              "      <th>3</th>\n",
              "      <td>47</td>\n",
              "      <td>1</td>\n",
              "      <td>0</td>\n",
              "      <td>0</td>\n",
              "      <td>5</td>\n",
              "      <td>5</td>\n",
              "      <td>92</td>\n",
              "      <td>1</td>\n",
              "      <td>2</td>\n",
              "      <td>0</td>\n",
              "      <td>0</td>\n",
              "      <td>1</td>\n",
              "      <td>0</td>\n",
              "      <td>0</td>\n",
              "      <td>0</td>\n",
              "      <td>0</td>\n",
              "      <td>0</td>\n",
              "      <td>0</td>\n",
              "      <td>0</td>\n",
              "      <td>0</td>\n",
              "      <td>0</td>\n",
              "      <td>0</td>\n",
              "    </tr>\n",
              "    <tr>\n",
              "      <th>4</th>\n",
              "      <td>33</td>\n",
              "      <td>0</td>\n",
              "      <td>0</td>\n",
              "      <td>0</td>\n",
              "      <td>5</td>\n",
              "      <td>5</td>\n",
              "      <td>198</td>\n",
              "      <td>1</td>\n",
              "      <td>2</td>\n",
              "      <td>0</td>\n",
              "      <td>0</td>\n",
              "      <td>0</td>\n",
              "      <td>0</td>\n",
              "      <td>0</td>\n",
              "      <td>0</td>\n",
              "      <td>0</td>\n",
              "      <td>0</td>\n",
              "      <td>0</td>\n",
              "      <td>0</td>\n",
              "      <td>0</td>\n",
              "      <td>0</td>\n",
              "      <td>1</td>\n",
              "    </tr>\n",
              "  </tbody>\n",
              "</table>\n",
              "</div>\n",
              "      <button class=\"colab-df-convert\" onclick=\"convertToInteractive('df-0faed018-f633-4bad-b89b-16d598996d83')\"\n",
              "              title=\"Convert this dataframe to an interactive table.\"\n",
              "              style=\"display:none;\">\n",
              "\n",
              "  <svg xmlns=\"http://www.w3.org/2000/svg\" height=\"24px\"viewBox=\"0 0 24 24\"\n",
              "       width=\"24px\">\n",
              "    <path d=\"M0 0h24v24H0V0z\" fill=\"none\"/>\n",
              "    <path d=\"M18.56 5.44l.94 2.06.94-2.06 2.06-.94-2.06-.94-.94-2.06-.94 2.06-2.06.94zm-11 1L8.5 8.5l.94-2.06 2.06-.94-2.06-.94L8.5 2.5l-.94 2.06-2.06.94zm10 10l.94 2.06.94-2.06 2.06-.94-2.06-.94-.94-2.06-.94 2.06-2.06.94z\"/><path d=\"M17.41 7.96l-1.37-1.37c-.4-.4-.92-.59-1.43-.59-.52 0-1.04.2-1.43.59L10.3 9.45l-7.72 7.72c-.78.78-.78 2.05 0 2.83L4 21.41c.39.39.9.59 1.41.59.51 0 1.02-.2 1.41-.59l7.78-7.78 2.81-2.81c.8-.78.8-2.07 0-2.86zM5.41 20L4 18.59l7.72-7.72 1.47 1.35L5.41 20z\"/>\n",
              "  </svg>\n",
              "      </button>\n",
              "\n",
              "\n",
              "\n",
              "    <div id=\"df-0a821049-95f1-41b4-9b75-2897597e1ea5\">\n",
              "      <button class=\"colab-df-quickchart\" onclick=\"quickchart('df-0a821049-95f1-41b4-9b75-2897597e1ea5')\"\n",
              "              title=\"Suggest charts.\"\n",
              "              style=\"display:none;\">\n",
              "\n",
              "<svg xmlns=\"http://www.w3.org/2000/svg\" height=\"24px\"viewBox=\"0 0 24 24\"\n",
              "     width=\"24px\">\n",
              "    <g>\n",
              "        <path d=\"M19 3H5c-1.1 0-2 .9-2 2v14c0 1.1.9 2 2 2h14c1.1 0 2-.9 2-2V5c0-1.1-.9-2-2-2zM9 17H7v-7h2v7zm4 0h-2V7h2v10zm4 0h-2v-4h2v4z\"/>\n",
              "    </g>\n",
              "</svg>\n",
              "      </button>\n",
              "    </div>\n",
              "\n",
              "<style>\n",
              "  .colab-df-quickchart {\n",
              "    background-color: #E8F0FE;\n",
              "    border: none;\n",
              "    border-radius: 50%;\n",
              "    cursor: pointer;\n",
              "    display: none;\n",
              "    fill: #1967D2;\n",
              "    height: 32px;\n",
              "    padding: 0 0 0 0;\n",
              "    width: 32px;\n",
              "  }\n",
              "\n",
              "  .colab-df-quickchart:hover {\n",
              "    background-color: #E2EBFA;\n",
              "    box-shadow: 0px 1px 2px rgba(60, 64, 67, 0.3), 0px 1px 3px 1px rgba(60, 64, 67, 0.15);\n",
              "    fill: #174EA6;\n",
              "  }\n",
              "\n",
              "  [theme=dark] .colab-df-quickchart {\n",
              "    background-color: #3B4455;\n",
              "    fill: #D2E3FC;\n",
              "  }\n",
              "\n",
              "  [theme=dark] .colab-df-quickchart:hover {\n",
              "    background-color: #434B5C;\n",
              "    box-shadow: 0px 1px 3px 1px rgba(0, 0, 0, 0.15);\n",
              "    filter: drop-shadow(0px 1px 2px rgba(0, 0, 0, 0.3));\n",
              "    fill: #FFFFFF;\n",
              "  }\n",
              "</style>\n",
              "\n",
              "    <script>\n",
              "      async function quickchart(key) {\n",
              "        const containerElement = document.querySelector('#' + key);\n",
              "        const charts = await google.colab.kernel.invokeFunction(\n",
              "            'suggestCharts', [key], {});\n",
              "      }\n",
              "    </script>\n",
              "\n",
              "      <script>\n",
              "\n",
              "function displayQuickchartButton(domScope) {\n",
              "  let quickchartButtonEl =\n",
              "    domScope.querySelector('#df-0a821049-95f1-41b4-9b75-2897597e1ea5 button.colab-df-quickchart');\n",
              "  quickchartButtonEl.style.display =\n",
              "    google.colab.kernel.accessAllowed ? 'block' : 'none';\n",
              "}\n",
              "\n",
              "        displayQuickchartButton(document);\n",
              "      </script>\n",
              "      <style>\n",
              "    .colab-df-container {\n",
              "      display:flex;\n",
              "      flex-wrap:wrap;\n",
              "      gap: 12px;\n",
              "    }\n",
              "\n",
              "    .colab-df-convert {\n",
              "      background-color: #E8F0FE;\n",
              "      border: none;\n",
              "      border-radius: 50%;\n",
              "      cursor: pointer;\n",
              "      display: none;\n",
              "      fill: #1967D2;\n",
              "      height: 32px;\n",
              "      padding: 0 0 0 0;\n",
              "      width: 32px;\n",
              "    }\n",
              "\n",
              "    .colab-df-convert:hover {\n",
              "      background-color: #E2EBFA;\n",
              "      box-shadow: 0px 1px 2px rgba(60, 64, 67, 0.3), 0px 1px 3px 1px rgba(60, 64, 67, 0.15);\n",
              "      fill: #174EA6;\n",
              "    }\n",
              "\n",
              "    [theme=dark] .colab-df-convert {\n",
              "      background-color: #3B4455;\n",
              "      fill: #D2E3FC;\n",
              "    }\n",
              "\n",
              "    [theme=dark] .colab-df-convert:hover {\n",
              "      background-color: #434B5C;\n",
              "      box-shadow: 0px 1px 3px 1px rgba(0, 0, 0, 0.15);\n",
              "      filter: drop-shadow(0px 1px 2px rgba(0, 0, 0, 0.3));\n",
              "      fill: #FFFFFF;\n",
              "    }\n",
              "  </style>\n",
              "\n",
              "      <script>\n",
              "        const buttonEl =\n",
              "          document.querySelector('#df-0faed018-f633-4bad-b89b-16d598996d83 button.colab-df-convert');\n",
              "        buttonEl.style.display =\n",
              "          google.colab.kernel.accessAllowed ? 'block' : 'none';\n",
              "\n",
              "        async function convertToInteractive(key) {\n",
              "          const element = document.querySelector('#df-0faed018-f633-4bad-b89b-16d598996d83');\n",
              "          const dataTable =\n",
              "            await google.colab.kernel.invokeFunction('convertToInteractive',\n",
              "                                                     [key], {});\n",
              "          if (!dataTable) return;\n",
              "\n",
              "          const docLinkHtml = 'Like what you see? Visit the ' +\n",
              "            '<a target=\"_blank\" href=https://colab.research.google.com/notebooks/data_table.ipynb>data table notebook</a>'\n",
              "            + ' to learn more about interactive tables.';\n",
              "          element.innerHTML = '';\n",
              "          dataTable['output_type'] = 'display_data';\n",
              "          await google.colab.output.renderOutput(dataTable, element);\n",
              "          const docLink = document.createElement('div');\n",
              "          docLink.innerHTML = docLinkHtml;\n",
              "          element.appendChild(docLink);\n",
              "        }\n",
              "      </script>\n",
              "    </div>\n",
              "  </div>\n"
            ]
          },
          "metadata": {},
          "execution_count": 107
        }
      ],
      "source": [
        "df_final.head()"
      ]
    },
    {
      "cell_type": "markdown",
      "metadata": {
        "id": "2bYC2gePENtm"
      },
      "source": [
        "# Split"
      ]
    },
    {
      "cell_type": "code",
      "execution_count": null,
      "metadata": {
        "id": "p2SUS5eHEUq6"
      },
      "outputs": [],
      "source": [
        "from sklearn.model_selection import train_test_split"
      ]
    },
    {
      "cell_type": "code",
      "execution_count": null,
      "metadata": {
        "id": "yG5Fx7Z4Ejfg"
      },
      "outputs": [],
      "source": [
        "y = df_final.target\n",
        "X = df_final.drop(columns = ['target'])"
      ]
    },
    {
      "cell_type": "code",
      "execution_count": null,
      "metadata": {
        "id": "4iF5y8gfE2HT"
      },
      "outputs": [],
      "source": [
        "X_train, X_test, y_train, y_test = train_test_split(X, y, test_size=0.20, random_state = 42)"
      ]
    },
    {
      "cell_type": "markdown",
      "metadata": {
        "id": "8bcPXon54V7h"
      },
      "source": [
        "# Scale"
      ]
    },
    {
      "cell_type": "code",
      "execution_count": null,
      "metadata": {
        "id": "nzNsXqnL4YzJ"
      },
      "outputs": [],
      "source": [
        "from sklearn.preprocessing import StandardScaler\n",
        "\n",
        "scaler = StandardScaler()\n",
        "\n",
        "X_train_scaled = scaler.fit_transform(X_train)\n",
        "X_test_scaled = scaler.transform(X_test)"
      ]
    },
    {
      "cell_type": "code",
      "execution_count": null,
      "metadata": {
        "colab": {
          "base_uri": "https://localhost:8080/",
          "height": 287
        },
        "id": "rlwwH5G57xyz",
        "outputId": "96388306-6769-4554-fc51-aac58749b8ee"
      },
      "outputs": [
        {
          "output_type": "execute_result",
          "data": {
            "text/plain": [
              "   age  marital  education_qual  call_type  day  mon  dur  num_calls  \\\n",
              "0   58        1               3          0    5    5  261          1   \n",
              "1   44        0               2          0    5    5  151          1   \n",
              "2   33        1               2          0    5    5   76          1   \n",
              "3   47        1               0          0    5    5   92          1   \n",
              "4   33        0               0          0    5    5  198          1   \n",
              "\n",
              "   prev_outcome  target  job_admin  job_blue-collar  job_entrepreneur  \\\n",
              "0             2       0          0                0                 0   \n",
              "1             2       0          0                0                 0   \n",
              "2             2       0          0                0                 1   \n",
              "3             2       0          0                1                 0   \n",
              "4             2       0          0                0                 0   \n",
              "\n",
              "   job_housemaid  job_management  job_retired  job_self-employed  \\\n",
              "0              0               1            0                  0   \n",
              "1              0               0            0                  0   \n",
              "2              0               0            0                  0   \n",
              "3              0               0            0                  0   \n",
              "4              0               0            0                  0   \n",
              "\n",
              "   job_services  job_student  job_technician  job_unemployed  job_unknown  \n",
              "0             0            0               0               0            0  \n",
              "1             0            0               1               0            0  \n",
              "2             0            0               0               0            0  \n",
              "3             0            0               0               0            0  \n",
              "4             0            0               0               0            1  "
            ],
            "text/html": [
              "\n",
              "\n",
              "  <div id=\"df-20517de5-bf27-4ac5-b92b-a975cdf50c50\">\n",
              "    <div class=\"colab-df-container\">\n",
              "      <div>\n",
              "<style scoped>\n",
              "    .dataframe tbody tr th:only-of-type {\n",
              "        vertical-align: middle;\n",
              "    }\n",
              "\n",
              "    .dataframe tbody tr th {\n",
              "        vertical-align: top;\n",
              "    }\n",
              "\n",
              "    .dataframe thead th {\n",
              "        text-align: right;\n",
              "    }\n",
              "</style>\n",
              "<table border=\"1\" class=\"dataframe\">\n",
              "  <thead>\n",
              "    <tr style=\"text-align: right;\">\n",
              "      <th></th>\n",
              "      <th>age</th>\n",
              "      <th>marital</th>\n",
              "      <th>education_qual</th>\n",
              "      <th>call_type</th>\n",
              "      <th>day</th>\n",
              "      <th>mon</th>\n",
              "      <th>dur</th>\n",
              "      <th>num_calls</th>\n",
              "      <th>prev_outcome</th>\n",
              "      <th>target</th>\n",
              "      <th>job_admin</th>\n",
              "      <th>job_blue-collar</th>\n",
              "      <th>job_entrepreneur</th>\n",
              "      <th>job_housemaid</th>\n",
              "      <th>job_management</th>\n",
              "      <th>job_retired</th>\n",
              "      <th>job_self-employed</th>\n",
              "      <th>job_services</th>\n",
              "      <th>job_student</th>\n",
              "      <th>job_technician</th>\n",
              "      <th>job_unemployed</th>\n",
              "      <th>job_unknown</th>\n",
              "    </tr>\n",
              "  </thead>\n",
              "  <tbody>\n",
              "    <tr>\n",
              "      <th>0</th>\n",
              "      <td>58</td>\n",
              "      <td>1</td>\n",
              "      <td>3</td>\n",
              "      <td>0</td>\n",
              "      <td>5</td>\n",
              "      <td>5</td>\n",
              "      <td>261</td>\n",
              "      <td>1</td>\n",
              "      <td>2</td>\n",
              "      <td>0</td>\n",
              "      <td>0</td>\n",
              "      <td>0</td>\n",
              "      <td>0</td>\n",
              "      <td>0</td>\n",
              "      <td>1</td>\n",
              "      <td>0</td>\n",
              "      <td>0</td>\n",
              "      <td>0</td>\n",
              "      <td>0</td>\n",
              "      <td>0</td>\n",
              "      <td>0</td>\n",
              "      <td>0</td>\n",
              "    </tr>\n",
              "    <tr>\n",
              "      <th>1</th>\n",
              "      <td>44</td>\n",
              "      <td>0</td>\n",
              "      <td>2</td>\n",
              "      <td>0</td>\n",
              "      <td>5</td>\n",
              "      <td>5</td>\n",
              "      <td>151</td>\n",
              "      <td>1</td>\n",
              "      <td>2</td>\n",
              "      <td>0</td>\n",
              "      <td>0</td>\n",
              "      <td>0</td>\n",
              "      <td>0</td>\n",
              "      <td>0</td>\n",
              "      <td>0</td>\n",
              "      <td>0</td>\n",
              "      <td>0</td>\n",
              "      <td>0</td>\n",
              "      <td>0</td>\n",
              "      <td>1</td>\n",
              "      <td>0</td>\n",
              "      <td>0</td>\n",
              "    </tr>\n",
              "    <tr>\n",
              "      <th>2</th>\n",
              "      <td>33</td>\n",
              "      <td>1</td>\n",
              "      <td>2</td>\n",
              "      <td>0</td>\n",
              "      <td>5</td>\n",
              "      <td>5</td>\n",
              "      <td>76</td>\n",
              "      <td>1</td>\n",
              "      <td>2</td>\n",
              "      <td>0</td>\n",
              "      <td>0</td>\n",
              "      <td>0</td>\n",
              "      <td>1</td>\n",
              "      <td>0</td>\n",
              "      <td>0</td>\n",
              "      <td>0</td>\n",
              "      <td>0</td>\n",
              "      <td>0</td>\n",
              "      <td>0</td>\n",
              "      <td>0</td>\n",
              "      <td>0</td>\n",
              "      <td>0</td>\n",
              "    </tr>\n",
              "    <tr>\n",
              "      <th>3</th>\n",
              "      <td>47</td>\n",
              "      <td>1</td>\n",
              "      <td>0</td>\n",
              "      <td>0</td>\n",
              "      <td>5</td>\n",
              "      <td>5</td>\n",
              "      <td>92</td>\n",
              "      <td>1</td>\n",
              "      <td>2</td>\n",
              "      <td>0</td>\n",
              "      <td>0</td>\n",
              "      <td>1</td>\n",
              "      <td>0</td>\n",
              "      <td>0</td>\n",
              "      <td>0</td>\n",
              "      <td>0</td>\n",
              "      <td>0</td>\n",
              "      <td>0</td>\n",
              "      <td>0</td>\n",
              "      <td>0</td>\n",
              "      <td>0</td>\n",
              "      <td>0</td>\n",
              "    </tr>\n",
              "    <tr>\n",
              "      <th>4</th>\n",
              "      <td>33</td>\n",
              "      <td>0</td>\n",
              "      <td>0</td>\n",
              "      <td>0</td>\n",
              "      <td>5</td>\n",
              "      <td>5</td>\n",
              "      <td>198</td>\n",
              "      <td>1</td>\n",
              "      <td>2</td>\n",
              "      <td>0</td>\n",
              "      <td>0</td>\n",
              "      <td>0</td>\n",
              "      <td>0</td>\n",
              "      <td>0</td>\n",
              "      <td>0</td>\n",
              "      <td>0</td>\n",
              "      <td>0</td>\n",
              "      <td>0</td>\n",
              "      <td>0</td>\n",
              "      <td>0</td>\n",
              "      <td>0</td>\n",
              "      <td>1</td>\n",
              "    </tr>\n",
              "  </tbody>\n",
              "</table>\n",
              "</div>\n",
              "      <button class=\"colab-df-convert\" onclick=\"convertToInteractive('df-20517de5-bf27-4ac5-b92b-a975cdf50c50')\"\n",
              "              title=\"Convert this dataframe to an interactive table.\"\n",
              "              style=\"display:none;\">\n",
              "\n",
              "  <svg xmlns=\"http://www.w3.org/2000/svg\" height=\"24px\"viewBox=\"0 0 24 24\"\n",
              "       width=\"24px\">\n",
              "    <path d=\"M0 0h24v24H0V0z\" fill=\"none\"/>\n",
              "    <path d=\"M18.56 5.44l.94 2.06.94-2.06 2.06-.94-2.06-.94-.94-2.06-.94 2.06-2.06.94zm-11 1L8.5 8.5l.94-2.06 2.06-.94-2.06-.94L8.5 2.5l-.94 2.06-2.06.94zm10 10l.94 2.06.94-2.06 2.06-.94-2.06-.94-.94-2.06-.94 2.06-2.06.94z\"/><path d=\"M17.41 7.96l-1.37-1.37c-.4-.4-.92-.59-1.43-.59-.52 0-1.04.2-1.43.59L10.3 9.45l-7.72 7.72c-.78.78-.78 2.05 0 2.83L4 21.41c.39.39.9.59 1.41.59.51 0 1.02-.2 1.41-.59l7.78-7.78 2.81-2.81c.8-.78.8-2.07 0-2.86zM5.41 20L4 18.59l7.72-7.72 1.47 1.35L5.41 20z\"/>\n",
              "  </svg>\n",
              "      </button>\n",
              "\n",
              "\n",
              "\n",
              "    <div id=\"df-7476c9e4-87b8-4464-94ff-861d81b348e4\">\n",
              "      <button class=\"colab-df-quickchart\" onclick=\"quickchart('df-7476c9e4-87b8-4464-94ff-861d81b348e4')\"\n",
              "              title=\"Suggest charts.\"\n",
              "              style=\"display:none;\">\n",
              "\n",
              "<svg xmlns=\"http://www.w3.org/2000/svg\" height=\"24px\"viewBox=\"0 0 24 24\"\n",
              "     width=\"24px\">\n",
              "    <g>\n",
              "        <path d=\"M19 3H5c-1.1 0-2 .9-2 2v14c0 1.1.9 2 2 2h14c1.1 0 2-.9 2-2V5c0-1.1-.9-2-2-2zM9 17H7v-7h2v7zm4 0h-2V7h2v10zm4 0h-2v-4h2v4z\"/>\n",
              "    </g>\n",
              "</svg>\n",
              "      </button>\n",
              "    </div>\n",
              "\n",
              "<style>\n",
              "  .colab-df-quickchart {\n",
              "    background-color: #E8F0FE;\n",
              "    border: none;\n",
              "    border-radius: 50%;\n",
              "    cursor: pointer;\n",
              "    display: none;\n",
              "    fill: #1967D2;\n",
              "    height: 32px;\n",
              "    padding: 0 0 0 0;\n",
              "    width: 32px;\n",
              "  }\n",
              "\n",
              "  .colab-df-quickchart:hover {\n",
              "    background-color: #E2EBFA;\n",
              "    box-shadow: 0px 1px 2px rgba(60, 64, 67, 0.3), 0px 1px 3px 1px rgba(60, 64, 67, 0.15);\n",
              "    fill: #174EA6;\n",
              "  }\n",
              "\n",
              "  [theme=dark] .colab-df-quickchart {\n",
              "    background-color: #3B4455;\n",
              "    fill: #D2E3FC;\n",
              "  }\n",
              "\n",
              "  [theme=dark] .colab-df-quickchart:hover {\n",
              "    background-color: #434B5C;\n",
              "    box-shadow: 0px 1px 3px 1px rgba(0, 0, 0, 0.15);\n",
              "    filter: drop-shadow(0px 1px 2px rgba(0, 0, 0, 0.3));\n",
              "    fill: #FFFFFF;\n",
              "  }\n",
              "</style>\n",
              "\n",
              "    <script>\n",
              "      async function quickchart(key) {\n",
              "        const containerElement = document.querySelector('#' + key);\n",
              "        const charts = await google.colab.kernel.invokeFunction(\n",
              "            'suggestCharts', [key], {});\n",
              "      }\n",
              "    </script>\n",
              "\n",
              "      <script>\n",
              "\n",
              "function displayQuickchartButton(domScope) {\n",
              "  let quickchartButtonEl =\n",
              "    domScope.querySelector('#df-7476c9e4-87b8-4464-94ff-861d81b348e4 button.colab-df-quickchart');\n",
              "  quickchartButtonEl.style.display =\n",
              "    google.colab.kernel.accessAllowed ? 'block' : 'none';\n",
              "}\n",
              "\n",
              "        displayQuickchartButton(document);\n",
              "      </script>\n",
              "      <style>\n",
              "    .colab-df-container {\n",
              "      display:flex;\n",
              "      flex-wrap:wrap;\n",
              "      gap: 12px;\n",
              "    }\n",
              "\n",
              "    .colab-df-convert {\n",
              "      background-color: #E8F0FE;\n",
              "      border: none;\n",
              "      border-radius: 50%;\n",
              "      cursor: pointer;\n",
              "      display: none;\n",
              "      fill: #1967D2;\n",
              "      height: 32px;\n",
              "      padding: 0 0 0 0;\n",
              "      width: 32px;\n",
              "    }\n",
              "\n",
              "    .colab-df-convert:hover {\n",
              "      background-color: #E2EBFA;\n",
              "      box-shadow: 0px 1px 2px rgba(60, 64, 67, 0.3), 0px 1px 3px 1px rgba(60, 64, 67, 0.15);\n",
              "      fill: #174EA6;\n",
              "    }\n",
              "\n",
              "    [theme=dark] .colab-df-convert {\n",
              "      background-color: #3B4455;\n",
              "      fill: #D2E3FC;\n",
              "    }\n",
              "\n",
              "    [theme=dark] .colab-df-convert:hover {\n",
              "      background-color: #434B5C;\n",
              "      box-shadow: 0px 1px 3px 1px rgba(0, 0, 0, 0.15);\n",
              "      filter: drop-shadow(0px 1px 2px rgba(0, 0, 0, 0.3));\n",
              "      fill: #FFFFFF;\n",
              "    }\n",
              "  </style>\n",
              "\n",
              "      <script>\n",
              "        const buttonEl =\n",
              "          document.querySelector('#df-20517de5-bf27-4ac5-b92b-a975cdf50c50 button.colab-df-convert');\n",
              "        buttonEl.style.display =\n",
              "          google.colab.kernel.accessAllowed ? 'block' : 'none';\n",
              "\n",
              "        async function convertToInteractive(key) {\n",
              "          const element = document.querySelector('#df-20517de5-bf27-4ac5-b92b-a975cdf50c50');\n",
              "          const dataTable =\n",
              "            await google.colab.kernel.invokeFunction('convertToInteractive',\n",
              "                                                     [key], {});\n",
              "          if (!dataTable) return;\n",
              "\n",
              "          const docLinkHtml = 'Like what you see? Visit the ' +\n",
              "            '<a target=\"_blank\" href=https://colab.research.google.com/notebooks/data_table.ipynb>data table notebook</a>'\n",
              "            + ' to learn more about interactive tables.';\n",
              "          element.innerHTML = '';\n",
              "          dataTable['output_type'] = 'display_data';\n",
              "          await google.colab.output.renderOutput(dataTable, element);\n",
              "          const docLink = document.createElement('div');\n",
              "          docLink.innerHTML = docLinkHtml;\n",
              "          element.appendChild(docLink);\n",
              "        }\n",
              "      </script>\n",
              "    </div>\n",
              "  </div>\n"
            ]
          },
          "metadata": {},
          "execution_count": 112
        }
      ],
      "source": [
        "df_final.head()"
      ]
    },
    {
      "cell_type": "code",
      "execution_count": null,
      "metadata": {
        "colab": {
          "base_uri": "https://localhost:8080/",
          "height": 451
        },
        "id": "BPbqcofE60HP",
        "outputId": "1fe0810d-c670-44d0-c558-c00b82af86be"
      },
      "outputs": [
        {
          "output_type": "execute_result",
          "data": {
            "text/plain": [
              "                 0             1             2             3             4   \\\n",
              "count  3.615600e+04  3.615600e+04  3.615600e+04  3.615600e+04  3.615600e+04   \n",
              "mean   2.722804e-16  1.243980e-16 -6.563814e-17 -2.201040e-17 -5.954598e-17   \n",
              "std    1.000014e+00  1.000014e+00  1.000014e+00  1.000014e+00  1.000014e+00   \n",
              "min   -2.210628e+00 -1.367851e+00 -2.649003e+00 -1.412649e+00 -1.779870e+00   \n",
              "25%   -7.612679e-01 -1.367851e+00 -7.831651e-02 -1.412649e+00 -9.386971e-01   \n",
              "50%   -1.815241e-01  2.770096e-01 -7.831651e-02  4.055105e-01  2.264359e-02   \n",
              "75%    6.880917e-01  2.770096e-01  1.207027e+00  4.055105e-01  6.234815e-01   \n",
              "max    2.813819e+00  1.921870e+00  1.207027e+00  2.223670e+00  1.825157e+00   \n",
              "\n",
              "                 5             6             7             8             9   \\\n",
              "count  3.615600e+04  3.615600e+04  3.615600e+04  3.615600e+04  3.615600e+04   \n",
              "mean   7.467813e-17 -8.686245e-17  5.502599e-18  9.904678e-17 -2.225605e-17   \n",
              "std    1.000014e+00  1.000014e+00  1.000014e+00  1.000014e+00  1.000014e+00   \n",
              "min   -2.134034e+00 -1.328481e+00 -8.689752e-01 -2.627468e+00 -3.596465e-01   \n",
              "25%   -4.730404e-01 -7.437388e-01 -8.689752e-01  3.065387e-01 -3.596465e-01   \n",
              "50%   -5.779205e-02 -3.122789e-01 -2.457497e-01  3.065387e-01 -3.596465e-01   \n",
              "75%    7.727046e-01  4.711615e-01  3.774758e-01  3.065387e-01 -3.596465e-01   \n",
              "max    2.433698e+00  2.321897e+00  2.247152e+00  1.773542e+00  2.780508e+00   \n",
              "\n",
              "                 10            11            12            13            14  \\\n",
              "count  3.615600e+04  3.615600e+04  36156.000000  3.615600e+04  3.615600e+04   \n",
              "mean   8.941723e-18  7.566073e-18      0.000000 -4.480688e-17 -1.532867e-17   \n",
              "std    1.000014e+00  1.000014e+00      1.000014  1.000014e+00  1.000014e+00   \n",
              "min   -5.250323e-01 -1.848809e-01     -0.170382 -5.132687e-01 -2.285595e-01   \n",
              "25%   -5.250323e-01 -1.848809e-01     -0.170382 -5.132687e-01 -2.285595e-01   \n",
              "50%   -5.250323e-01 -1.848809e-01     -0.170382 -5.132687e-01 -2.285595e-01   \n",
              "75%   -5.250323e-01 -1.848809e-01     -0.170382 -5.132687e-01 -2.285595e-01   \n",
              "max    1.904645e+00  5.408888e+00      5.869162  1.948297e+00  4.375228e+00   \n",
              "\n",
              "                 15            16            17            18            19  \\\n",
              "count  3.615600e+04  3.615600e+04  3.615600e+04  3.615600e+04  3.615600e+04   \n",
              "mean  -5.581207e-17 -2.358257e-18 -5.699120e-17 -7.074770e-18 -3.969732e-17   \n",
              "std    1.000014e+00  1.000014e+00  1.000014e+00  1.000014e+00  1.000014e+00   \n",
              "min   -1.919638e-01 -3.152262e-01 -1.450471e-01 -4.502826e-01 -1.722637e-01   \n",
              "25%   -1.919638e-01 -3.152262e-01 -1.450471e-01 -4.502826e-01 -1.722637e-01   \n",
              "50%   -1.919638e-01 -3.152262e-01 -1.450471e-01 -4.502826e-01 -1.722637e-01   \n",
              "75%   -1.919638e-01 -3.152262e-01 -1.450471e-01 -4.502826e-01 -1.722637e-01   \n",
              "max    5.209315e+00  3.172325e+00  6.894312e+00  2.220828e+00  5.805054e+00   \n",
              "\n",
              "                 20  \n",
              "count  3.615600e+04  \n",
              "mean  -3.635646e-17  \n",
              "std    1.000014e+00  \n",
              "min   -7.788455e-02  \n",
              "25%   -7.788455e-02  \n",
              "50%   -7.788455e-02  \n",
              "75%   -7.788455e-02  \n",
              "max    1.283952e+01  "
            ],
            "text/html": [
              "\n",
              "\n",
              "  <div id=\"df-814efbc8-b8c9-413b-b892-bab03fb563da\">\n",
              "    <div class=\"colab-df-container\">\n",
              "      <div>\n",
              "<style scoped>\n",
              "    .dataframe tbody tr th:only-of-type {\n",
              "        vertical-align: middle;\n",
              "    }\n",
              "\n",
              "    .dataframe tbody tr th {\n",
              "        vertical-align: top;\n",
              "    }\n",
              "\n",
              "    .dataframe thead th {\n",
              "        text-align: right;\n",
              "    }\n",
              "</style>\n",
              "<table border=\"1\" class=\"dataframe\">\n",
              "  <thead>\n",
              "    <tr style=\"text-align: right;\">\n",
              "      <th></th>\n",
              "      <th>0</th>\n",
              "      <th>1</th>\n",
              "      <th>2</th>\n",
              "      <th>3</th>\n",
              "      <th>4</th>\n",
              "      <th>5</th>\n",
              "      <th>6</th>\n",
              "      <th>7</th>\n",
              "      <th>8</th>\n",
              "      <th>9</th>\n",
              "      <th>10</th>\n",
              "      <th>11</th>\n",
              "      <th>12</th>\n",
              "      <th>13</th>\n",
              "      <th>14</th>\n",
              "      <th>15</th>\n",
              "      <th>16</th>\n",
              "      <th>17</th>\n",
              "      <th>18</th>\n",
              "      <th>19</th>\n",
              "      <th>20</th>\n",
              "    </tr>\n",
              "  </thead>\n",
              "  <tbody>\n",
              "    <tr>\n",
              "      <th>count</th>\n",
              "      <td>3.615600e+04</td>\n",
              "      <td>3.615600e+04</td>\n",
              "      <td>3.615600e+04</td>\n",
              "      <td>3.615600e+04</td>\n",
              "      <td>3.615600e+04</td>\n",
              "      <td>3.615600e+04</td>\n",
              "      <td>3.615600e+04</td>\n",
              "      <td>3.615600e+04</td>\n",
              "      <td>3.615600e+04</td>\n",
              "      <td>3.615600e+04</td>\n",
              "      <td>3.615600e+04</td>\n",
              "      <td>3.615600e+04</td>\n",
              "      <td>36156.000000</td>\n",
              "      <td>3.615600e+04</td>\n",
              "      <td>3.615600e+04</td>\n",
              "      <td>3.615600e+04</td>\n",
              "      <td>3.615600e+04</td>\n",
              "      <td>3.615600e+04</td>\n",
              "      <td>3.615600e+04</td>\n",
              "      <td>3.615600e+04</td>\n",
              "      <td>3.615600e+04</td>\n",
              "    </tr>\n",
              "    <tr>\n",
              "      <th>mean</th>\n",
              "      <td>2.722804e-16</td>\n",
              "      <td>1.243980e-16</td>\n",
              "      <td>-6.563814e-17</td>\n",
              "      <td>-2.201040e-17</td>\n",
              "      <td>-5.954598e-17</td>\n",
              "      <td>7.467813e-17</td>\n",
              "      <td>-8.686245e-17</td>\n",
              "      <td>5.502599e-18</td>\n",
              "      <td>9.904678e-17</td>\n",
              "      <td>-2.225605e-17</td>\n",
              "      <td>8.941723e-18</td>\n",
              "      <td>7.566073e-18</td>\n",
              "      <td>0.000000</td>\n",
              "      <td>-4.480688e-17</td>\n",
              "      <td>-1.532867e-17</td>\n",
              "      <td>-5.581207e-17</td>\n",
              "      <td>-2.358257e-18</td>\n",
              "      <td>-5.699120e-17</td>\n",
              "      <td>-7.074770e-18</td>\n",
              "      <td>-3.969732e-17</td>\n",
              "      <td>-3.635646e-17</td>\n",
              "    </tr>\n",
              "    <tr>\n",
              "      <th>std</th>\n",
              "      <td>1.000014e+00</td>\n",
              "      <td>1.000014e+00</td>\n",
              "      <td>1.000014e+00</td>\n",
              "      <td>1.000014e+00</td>\n",
              "      <td>1.000014e+00</td>\n",
              "      <td>1.000014e+00</td>\n",
              "      <td>1.000014e+00</td>\n",
              "      <td>1.000014e+00</td>\n",
              "      <td>1.000014e+00</td>\n",
              "      <td>1.000014e+00</td>\n",
              "      <td>1.000014e+00</td>\n",
              "      <td>1.000014e+00</td>\n",
              "      <td>1.000014</td>\n",
              "      <td>1.000014e+00</td>\n",
              "      <td>1.000014e+00</td>\n",
              "      <td>1.000014e+00</td>\n",
              "      <td>1.000014e+00</td>\n",
              "      <td>1.000014e+00</td>\n",
              "      <td>1.000014e+00</td>\n",
              "      <td>1.000014e+00</td>\n",
              "      <td>1.000014e+00</td>\n",
              "    </tr>\n",
              "    <tr>\n",
              "      <th>min</th>\n",
              "      <td>-2.210628e+00</td>\n",
              "      <td>-1.367851e+00</td>\n",
              "      <td>-2.649003e+00</td>\n",
              "      <td>-1.412649e+00</td>\n",
              "      <td>-1.779870e+00</td>\n",
              "      <td>-2.134034e+00</td>\n",
              "      <td>-1.328481e+00</td>\n",
              "      <td>-8.689752e-01</td>\n",
              "      <td>-2.627468e+00</td>\n",
              "      <td>-3.596465e-01</td>\n",
              "      <td>-5.250323e-01</td>\n",
              "      <td>-1.848809e-01</td>\n",
              "      <td>-0.170382</td>\n",
              "      <td>-5.132687e-01</td>\n",
              "      <td>-2.285595e-01</td>\n",
              "      <td>-1.919638e-01</td>\n",
              "      <td>-3.152262e-01</td>\n",
              "      <td>-1.450471e-01</td>\n",
              "      <td>-4.502826e-01</td>\n",
              "      <td>-1.722637e-01</td>\n",
              "      <td>-7.788455e-02</td>\n",
              "    </tr>\n",
              "    <tr>\n",
              "      <th>25%</th>\n",
              "      <td>-7.612679e-01</td>\n",
              "      <td>-1.367851e+00</td>\n",
              "      <td>-7.831651e-02</td>\n",
              "      <td>-1.412649e+00</td>\n",
              "      <td>-9.386971e-01</td>\n",
              "      <td>-4.730404e-01</td>\n",
              "      <td>-7.437388e-01</td>\n",
              "      <td>-8.689752e-01</td>\n",
              "      <td>3.065387e-01</td>\n",
              "      <td>-3.596465e-01</td>\n",
              "      <td>-5.250323e-01</td>\n",
              "      <td>-1.848809e-01</td>\n",
              "      <td>-0.170382</td>\n",
              "      <td>-5.132687e-01</td>\n",
              "      <td>-2.285595e-01</td>\n",
              "      <td>-1.919638e-01</td>\n",
              "      <td>-3.152262e-01</td>\n",
              "      <td>-1.450471e-01</td>\n",
              "      <td>-4.502826e-01</td>\n",
              "      <td>-1.722637e-01</td>\n",
              "      <td>-7.788455e-02</td>\n",
              "    </tr>\n",
              "    <tr>\n",
              "      <th>50%</th>\n",
              "      <td>-1.815241e-01</td>\n",
              "      <td>2.770096e-01</td>\n",
              "      <td>-7.831651e-02</td>\n",
              "      <td>4.055105e-01</td>\n",
              "      <td>2.264359e-02</td>\n",
              "      <td>-5.779205e-02</td>\n",
              "      <td>-3.122789e-01</td>\n",
              "      <td>-2.457497e-01</td>\n",
              "      <td>3.065387e-01</td>\n",
              "      <td>-3.596465e-01</td>\n",
              "      <td>-5.250323e-01</td>\n",
              "      <td>-1.848809e-01</td>\n",
              "      <td>-0.170382</td>\n",
              "      <td>-5.132687e-01</td>\n",
              "      <td>-2.285595e-01</td>\n",
              "      <td>-1.919638e-01</td>\n",
              "      <td>-3.152262e-01</td>\n",
              "      <td>-1.450471e-01</td>\n",
              "      <td>-4.502826e-01</td>\n",
              "      <td>-1.722637e-01</td>\n",
              "      <td>-7.788455e-02</td>\n",
              "    </tr>\n",
              "    <tr>\n",
              "      <th>75%</th>\n",
              "      <td>6.880917e-01</td>\n",
              "      <td>2.770096e-01</td>\n",
              "      <td>1.207027e+00</td>\n",
              "      <td>4.055105e-01</td>\n",
              "      <td>6.234815e-01</td>\n",
              "      <td>7.727046e-01</td>\n",
              "      <td>4.711615e-01</td>\n",
              "      <td>3.774758e-01</td>\n",
              "      <td>3.065387e-01</td>\n",
              "      <td>-3.596465e-01</td>\n",
              "      <td>-5.250323e-01</td>\n",
              "      <td>-1.848809e-01</td>\n",
              "      <td>-0.170382</td>\n",
              "      <td>-5.132687e-01</td>\n",
              "      <td>-2.285595e-01</td>\n",
              "      <td>-1.919638e-01</td>\n",
              "      <td>-3.152262e-01</td>\n",
              "      <td>-1.450471e-01</td>\n",
              "      <td>-4.502826e-01</td>\n",
              "      <td>-1.722637e-01</td>\n",
              "      <td>-7.788455e-02</td>\n",
              "    </tr>\n",
              "    <tr>\n",
              "      <th>max</th>\n",
              "      <td>2.813819e+00</td>\n",
              "      <td>1.921870e+00</td>\n",
              "      <td>1.207027e+00</td>\n",
              "      <td>2.223670e+00</td>\n",
              "      <td>1.825157e+00</td>\n",
              "      <td>2.433698e+00</td>\n",
              "      <td>2.321897e+00</td>\n",
              "      <td>2.247152e+00</td>\n",
              "      <td>1.773542e+00</td>\n",
              "      <td>2.780508e+00</td>\n",
              "      <td>1.904645e+00</td>\n",
              "      <td>5.408888e+00</td>\n",
              "      <td>5.869162</td>\n",
              "      <td>1.948297e+00</td>\n",
              "      <td>4.375228e+00</td>\n",
              "      <td>5.209315e+00</td>\n",
              "      <td>3.172325e+00</td>\n",
              "      <td>6.894312e+00</td>\n",
              "      <td>2.220828e+00</td>\n",
              "      <td>5.805054e+00</td>\n",
              "      <td>1.283952e+01</td>\n",
              "    </tr>\n",
              "  </tbody>\n",
              "</table>\n",
              "</div>\n",
              "      <button class=\"colab-df-convert\" onclick=\"convertToInteractive('df-814efbc8-b8c9-413b-b892-bab03fb563da')\"\n",
              "              title=\"Convert this dataframe to an interactive table.\"\n",
              "              style=\"display:none;\">\n",
              "\n",
              "  <svg xmlns=\"http://www.w3.org/2000/svg\" height=\"24px\"viewBox=\"0 0 24 24\"\n",
              "       width=\"24px\">\n",
              "    <path d=\"M0 0h24v24H0V0z\" fill=\"none\"/>\n",
              "    <path d=\"M18.56 5.44l.94 2.06.94-2.06 2.06-.94-2.06-.94-.94-2.06-.94 2.06-2.06.94zm-11 1L8.5 8.5l.94-2.06 2.06-.94-2.06-.94L8.5 2.5l-.94 2.06-2.06.94zm10 10l.94 2.06.94-2.06 2.06-.94-2.06-.94-.94-2.06-.94 2.06-2.06.94z\"/><path d=\"M17.41 7.96l-1.37-1.37c-.4-.4-.92-.59-1.43-.59-.52 0-1.04.2-1.43.59L10.3 9.45l-7.72 7.72c-.78.78-.78 2.05 0 2.83L4 21.41c.39.39.9.59 1.41.59.51 0 1.02-.2 1.41-.59l7.78-7.78 2.81-2.81c.8-.78.8-2.07 0-2.86zM5.41 20L4 18.59l7.72-7.72 1.47 1.35L5.41 20z\"/>\n",
              "  </svg>\n",
              "      </button>\n",
              "\n",
              "\n",
              "\n",
              "    <div id=\"df-6ec65d13-c15c-4d1a-ad78-255776143d5a\">\n",
              "      <button class=\"colab-df-quickchart\" onclick=\"quickchart('df-6ec65d13-c15c-4d1a-ad78-255776143d5a')\"\n",
              "              title=\"Suggest charts.\"\n",
              "              style=\"display:none;\">\n",
              "\n",
              "<svg xmlns=\"http://www.w3.org/2000/svg\" height=\"24px\"viewBox=\"0 0 24 24\"\n",
              "     width=\"24px\">\n",
              "    <g>\n",
              "        <path d=\"M19 3H5c-1.1 0-2 .9-2 2v14c0 1.1.9 2 2 2h14c1.1 0 2-.9 2-2V5c0-1.1-.9-2-2-2zM9 17H7v-7h2v7zm4 0h-2V7h2v10zm4 0h-2v-4h2v4z\"/>\n",
              "    </g>\n",
              "</svg>\n",
              "      </button>\n",
              "    </div>\n",
              "\n",
              "<style>\n",
              "  .colab-df-quickchart {\n",
              "    background-color: #E8F0FE;\n",
              "    border: none;\n",
              "    border-radius: 50%;\n",
              "    cursor: pointer;\n",
              "    display: none;\n",
              "    fill: #1967D2;\n",
              "    height: 32px;\n",
              "    padding: 0 0 0 0;\n",
              "    width: 32px;\n",
              "  }\n",
              "\n",
              "  .colab-df-quickchart:hover {\n",
              "    background-color: #E2EBFA;\n",
              "    box-shadow: 0px 1px 2px rgba(60, 64, 67, 0.3), 0px 1px 3px 1px rgba(60, 64, 67, 0.15);\n",
              "    fill: #174EA6;\n",
              "  }\n",
              "\n",
              "  [theme=dark] .colab-df-quickchart {\n",
              "    background-color: #3B4455;\n",
              "    fill: #D2E3FC;\n",
              "  }\n",
              "\n",
              "  [theme=dark] .colab-df-quickchart:hover {\n",
              "    background-color: #434B5C;\n",
              "    box-shadow: 0px 1px 3px 1px rgba(0, 0, 0, 0.15);\n",
              "    filter: drop-shadow(0px 1px 2px rgba(0, 0, 0, 0.3));\n",
              "    fill: #FFFFFF;\n",
              "  }\n",
              "</style>\n",
              "\n",
              "    <script>\n",
              "      async function quickchart(key) {\n",
              "        const containerElement = document.querySelector('#' + key);\n",
              "        const charts = await google.colab.kernel.invokeFunction(\n",
              "            'suggestCharts', [key], {});\n",
              "      }\n",
              "    </script>\n",
              "\n",
              "      <script>\n",
              "\n",
              "function displayQuickchartButton(domScope) {\n",
              "  let quickchartButtonEl =\n",
              "    domScope.querySelector('#df-6ec65d13-c15c-4d1a-ad78-255776143d5a button.colab-df-quickchart');\n",
              "  quickchartButtonEl.style.display =\n",
              "    google.colab.kernel.accessAllowed ? 'block' : 'none';\n",
              "}\n",
              "\n",
              "        displayQuickchartButton(document);\n",
              "      </script>\n",
              "      <style>\n",
              "    .colab-df-container {\n",
              "      display:flex;\n",
              "      flex-wrap:wrap;\n",
              "      gap: 12px;\n",
              "    }\n",
              "\n",
              "    .colab-df-convert {\n",
              "      background-color: #E8F0FE;\n",
              "      border: none;\n",
              "      border-radius: 50%;\n",
              "      cursor: pointer;\n",
              "      display: none;\n",
              "      fill: #1967D2;\n",
              "      height: 32px;\n",
              "      padding: 0 0 0 0;\n",
              "      width: 32px;\n",
              "    }\n",
              "\n",
              "    .colab-df-convert:hover {\n",
              "      background-color: #E2EBFA;\n",
              "      box-shadow: 0px 1px 2px rgba(60, 64, 67, 0.3), 0px 1px 3px 1px rgba(60, 64, 67, 0.15);\n",
              "      fill: #174EA6;\n",
              "    }\n",
              "\n",
              "    [theme=dark] .colab-df-convert {\n",
              "      background-color: #3B4455;\n",
              "      fill: #D2E3FC;\n",
              "    }\n",
              "\n",
              "    [theme=dark] .colab-df-convert:hover {\n",
              "      background-color: #434B5C;\n",
              "      box-shadow: 0px 1px 3px 1px rgba(0, 0, 0, 0.15);\n",
              "      filter: drop-shadow(0px 1px 2px rgba(0, 0, 0, 0.3));\n",
              "      fill: #FFFFFF;\n",
              "    }\n",
              "  </style>\n",
              "\n",
              "      <script>\n",
              "        const buttonEl =\n",
              "          document.querySelector('#df-814efbc8-b8c9-413b-b892-bab03fb563da button.colab-df-convert');\n",
              "        buttonEl.style.display =\n",
              "          google.colab.kernel.accessAllowed ? 'block' : 'none';\n",
              "\n",
              "        async function convertToInteractive(key) {\n",
              "          const element = document.querySelector('#df-814efbc8-b8c9-413b-b892-bab03fb563da');\n",
              "          const dataTable =\n",
              "            await google.colab.kernel.invokeFunction('convertToInteractive',\n",
              "                                                     [key], {});\n",
              "          if (!dataTable) return;\n",
              "\n",
              "          const docLinkHtml = 'Like what you see? Visit the ' +\n",
              "            '<a target=\"_blank\" href=https://colab.research.google.com/notebooks/data_table.ipynb>data table notebook</a>'\n",
              "            + ' to learn more about interactive tables.';\n",
              "          element.innerHTML = '';\n",
              "          dataTable['output_type'] = 'display_data';\n",
              "          await google.colab.output.renderOutput(dataTable, element);\n",
              "          const docLink = document.createElement('div');\n",
              "          docLink.innerHTML = docLinkHtml;\n",
              "          element.appendChild(docLink);\n",
              "        }\n",
              "      </script>\n",
              "    </div>\n",
              "  </div>\n"
            ]
          },
          "metadata": {},
          "execution_count": 113
        }
      ],
      "source": [
        "pd.DataFrame(X_train_scaled).describe()"
      ]
    },
    {
      "cell_type": "markdown",
      "metadata": {
        "id": "tu6QMSAEB1SP"
      },
      "source": [
        "# Imbalance Data\n",
        "check if the Data is Imbalanced or not"
      ]
    },
    {
      "cell_type": "code",
      "execution_count": null,
      "metadata": {
        "colab": {
          "base_uri": "https://localhost:8080/"
        },
        "id": "PasHqokSFQRC",
        "outputId": "3e782418-e78a-4c99-b6c7-870d23d061bd"
      },
      "outputs": [
        {
          "output_type": "execute_result",
          "data": {
            "text/plain": [
              "0    0.884915\n",
              "1    0.115085\n",
              "Name: target, dtype: float64"
            ]
          },
          "metadata": {},
          "execution_count": 114
        }
      ],
      "source": [
        "y_train.value_counts()/y_train.shape[0]"
      ]
    },
    {
      "cell_type": "code",
      "execution_count": null,
      "metadata": {
        "colab": {
          "base_uri": "https://localhost:8080/"
        },
        "id": "NEJton_7JhZ2",
        "outputId": "3086d098-a91f-4539-d2a4-a8dea72349d5"
      },
      "outputs": [
        {
          "output_type": "stream",
          "name": "stdout",
          "text": [
            "Class 0 =  88.3 %\n"
          ]
        }
      ],
      "source": [
        "target_count = df_final.target.value_counts()\n",
        "print(\"Class 0 = \", round(target_count[0]*100/(target_count[1]+target_count[0]),2),'%')"
      ]
    },
    {
      "cell_type": "code",
      "execution_count": null,
      "metadata": {
        "id": "DQaVa2dyFiop"
      },
      "outputs": [],
      "source": [
        "## Observation - More than 75% of data belongs to the one target class, there is inbalance in the Data.\n",
        "##  1 -> Yes 0 -> No, Most people are not taking Insurances.\n",
        "## SMOTE + ENN is the best Imbalance technique"
      ]
    },
    {
      "cell_type": "code",
      "execution_count": null,
      "metadata": {
        "colab": {
          "base_uri": "https://localhost:8080/"
        },
        "id": "dQRJdgspNi5R",
        "outputId": "2ba19a19-2f90-4007-8624-2c3283eefc4b"
      },
      "outputs": [
        {
          "output_type": "execute_result",
          "data": {
            "text/plain": [
              "0    39908\n",
              "1     5287\n",
              "Name: target, dtype: int64"
            ]
          },
          "metadata": {},
          "execution_count": 117
        }
      ],
      "source": [
        "df_final.target.value_counts()"
      ]
    },
    {
      "cell_type": "code",
      "execution_count": null,
      "metadata": {
        "colab": {
          "base_uri": "https://localhost:8080/"
        },
        "id": "o6LpTS3lNNDK",
        "outputId": "e5a9afb5-8f8d-4a2d-bdc3-bfe0b57731ce"
      },
      "outputs": [
        {
          "output_type": "execute_result",
          "data": {
            "text/plain": [
              "(39908, 5287)"
            ]
          },
          "metadata": {},
          "execution_count": 118
        }
      ],
      "source": [
        "count_class_0, count_class_1 = df_final.target.value_counts()\n",
        "count_class_0, count_class_1"
      ]
    },
    {
      "cell_type": "markdown",
      "metadata": {
        "id": "xSuqDteVW4Sz"
      },
      "source": [
        "Oversampling - SMOTE"
      ]
    },
    {
      "cell_type": "code",
      "execution_count": null,
      "metadata": {
        "id": "VWg5IBd-W7_n"
      },
      "outputs": [],
      "source": [
        "from imblearn.over_sampling import SMOTE\n",
        "\n",
        "smote = SMOTE(sampling_strategy='minority')\n",
        "X_sm, y_sm = smote.fit_resample(X_train_scaled, y_train)"
      ]
    },
    {
      "cell_type": "code",
      "execution_count": null,
      "metadata": {
        "colab": {
          "base_uri": "https://localhost:8080/"
        },
        "id": "8YfBI-2KXsjz",
        "outputId": "f1fa5eab-12d2-48f2-9a9e-162b10737c9a"
      },
      "outputs": [
        {
          "output_type": "execute_result",
          "data": {
            "text/plain": [
              "((63990, 21), (63990,))"
            ]
          },
          "metadata": {},
          "execution_count": 120
        }
      ],
      "source": [
        "X_sm.shape, y_sm.shape"
      ]
    },
    {
      "cell_type": "markdown",
      "metadata": {
        "id": "R_eE3S0X68Z1"
      },
      "source": [
        "Oversampling followed by under sampling"
      ]
    },
    {
      "cell_type": "code",
      "execution_count": null,
      "metadata": {
        "id": "NWzmGo5D7CSK"
      },
      "outputs": [],
      "source": [
        "from imblearn.combine import SMOTEENN\n",
        "\n",
        "smt = SMOTEENN(sampling_strategy='all')\n",
        "X_smt, y_smt = smt.fit_resample(X_train_scaled, y_train)"
      ]
    },
    {
      "cell_type": "code",
      "execution_count": null,
      "metadata": {
        "colab": {
          "base_uri": "https://localhost:8080/"
        },
        "id": "dhVFxTVp7KDl",
        "outputId": "8d7a677c-e8a3-4384-93cb-3db6ed9d84e2"
      },
      "outputs": [
        {
          "output_type": "execute_result",
          "data": {
            "text/plain": [
              "((56108,), (56108,))"
            ]
          },
          "metadata": {},
          "execution_count": 122
        }
      ],
      "source": [
        "y_smt.shape, y_smt.shape"
      ]
    },
    {
      "cell_type": "markdown",
      "metadata": {
        "id": "TWOgXk7a4bE2"
      },
      "source": [
        "# ML Models"
      ]
    },
    {
      "cell_type": "code",
      "execution_count": null,
      "metadata": {
        "id": "WdnD9rBE06Ft"
      },
      "outputs": [],
      "source": [
        "from sklearn.metrics import accuracy_score\n",
        "from sklearn.metrics import confusion_matrix\n",
        "from sklearn.metrics import f1_score\n",
        "from sklearn.model_selection import cross_val_score"
      ]
    },
    {
      "cell_type": "markdown",
      "metadata": {
        "id": "fibrAry4aRTJ"
      },
      "source": [
        "# ***Logistic Regression on SMOTE + ENN***\n",
        "\n",
        "\n"
      ]
    },
    {
      "cell_type": "code",
      "execution_count": null,
      "metadata": {
        "colab": {
          "base_uri": "https://localhost:8080/",
          "height": 35
        },
        "id": "3qFE1zxN3uAF",
        "outputId": "d56704b5-d07c-4b8d-eedb-58267a13f829"
      },
      "outputs": [
        {
          "output_type": "execute_result",
          "data": {
            "text/plain": [
              "'Test data accuracy is : 0.7422281225799314, 0.44364851957975177 '"
            ],
            "application/vnd.google.colaboratory.intrinsic+json": {
              "type": "string"
            }
          },
          "metadata": {},
          "execution_count": 124
        }
      ],
      "source": [
        "from sklearn.linear_model import LogisticRegression\n",
        "from sklearn.metrics import f1_score\n",
        "\n",
        "lr = LogisticRegression()\n",
        "lr.fit(X_smt,y_smt)\n",
        "f'Test data accuracy is : {lr.score(X_test_scaled, y_test)}, {f1_score(y_test, lr.predict(X_test_scaled))} '"
      ]
    },
    {
      "cell_type": "code",
      "execution_count": null,
      "metadata": {
        "colab": {
          "base_uri": "https://localhost:8080/"
        },
        "id": "F18O32AvZPFM",
        "outputId": "d4374a68-3336-49b0-925f-9f481aec9551"
      },
      "outputs": [
        {
          "output_type": "execute_result",
          "data": {
            "text/plain": [
              "array([[5780, 2133],\n",
              "       [ 197,  929]])"
            ]
          },
          "metadata": {},
          "execution_count": 125
        }
      ],
      "source": [
        "confusion_matrix(y_test,lr.predict(X_test_scaled))"
      ]
    },
    {
      "cell_type": "code",
      "execution_count": null,
      "metadata": {
        "colab": {
          "base_uri": "https://localhost:8080/"
        },
        "id": "bl296zjeaJp-",
        "outputId": "ae25d893-2981-4482-b003-35b205f141ba"
      },
      "outputs": [
        {
          "output_type": "execute_result",
          "data": {
            "text/plain": [
              "0.7422281225799314"
            ]
          },
          "metadata": {},
          "execution_count": 126
        }
      ],
      "source": [
        "accuracy_score(y_test,lr.predict(X_test_scaled))"
      ]
    },
    {
      "cell_type": "code",
      "execution_count": null,
      "metadata": {
        "colab": {
          "base_uri": "https://localhost:8080/",
          "height": 35
        },
        "id": "i3I_4IeWfNSv",
        "outputId": "7537e18c-7aa6-4be9-eda4-bbb0ef4c3e65"
      },
      "outputs": [
        {
          "output_type": "execute_result",
          "data": {
            "text/plain": [
              "'Test data accuracy is : 0.7422281225799314, 0.44364851957975177 '"
            ],
            "application/vnd.google.colaboratory.intrinsic+json": {
              "type": "string"
            }
          },
          "metadata": {},
          "execution_count": 127
        }
      ],
      "source": [
        "lr = LogisticRegression(penalty='l1', C=10, solver='liblinear')\n",
        "lr.fit(X_smt, y_smt)\n",
        "f'Test data accuracy is : {lr.score(X_test_scaled, y_test)}, {f1_score(y_test, lr.predict(X_test_scaled))} '"
      ]
    },
    {
      "cell_type": "markdown",
      "metadata": {
        "id": "4dnYFfDfYD_V"
      },
      "source": [
        "# ***Logistic Regression on SMOTE***"
      ]
    },
    {
      "cell_type": "code",
      "execution_count": null,
      "metadata": {
        "colab": {
          "base_uri": "https://localhost:8080/",
          "height": 35
        },
        "id": "1KPOfpEvYDuk",
        "outputId": "21c3b3f6-a9ed-405d-dd25-d29014408052"
      },
      "outputs": [
        {
          "output_type": "execute_result",
          "data": {
            "text/plain": [
              "'Test data accuracy is : 0.7807279566323708, 0.46112017400761285 '"
            ],
            "application/vnd.google.colaboratory.intrinsic+json": {
              "type": "string"
            }
          },
          "metadata": {},
          "execution_count": 128
        }
      ],
      "source": [
        "lrn = LogisticRegression(max_iter=10000)\n",
        "lrn.fit(X_sm,y_sm)\n",
        "f'Test data accuracy is : {lrn.score(X_test_scaled, y_test)}, {f1_score(y_test, lrn.predict(X_test_scaled))} '"
      ]
    },
    {
      "cell_type": "code",
      "execution_count": null,
      "metadata": {
        "colab": {
          "base_uri": "https://localhost:8080/"
        },
        "id": "NlwrlFigZMjO",
        "outputId": "5f3eb03c-a6eb-4870-b562-b2184087fd2b"
      },
      "outputs": [
        {
          "output_type": "execute_result",
          "data": {
            "text/plain": [
              "array([[6209, 1704],\n",
              "       [ 278,  848]])"
            ]
          },
          "metadata": {},
          "execution_count": 129
        }
      ],
      "source": [
        "confusion_matrix(y_test,lrn.predict(X_test_scaled))"
      ]
    },
    {
      "cell_type": "code",
      "execution_count": null,
      "metadata": {
        "colab": {
          "base_uri": "https://localhost:8080/"
        },
        "id": "ozKHF6dmZMLW",
        "outputId": "a94224ad-8835-4498-aebb-047e7b4eb0c1"
      },
      "outputs": [
        {
          "output_type": "execute_result",
          "data": {
            "text/plain": [
              "0.7807279566323708"
            ]
          },
          "metadata": {},
          "execution_count": 130
        }
      ],
      "source": [
        "accuracy_score(y_test,lrn.predict(X_test_scaled))"
      ]
    },
    {
      "cell_type": "code",
      "execution_count": null,
      "metadata": {
        "colab": {
          "base_uri": "https://localhost:8080/",
          "height": 35
        },
        "id": "4VUWtH0fotIV",
        "outputId": "5d63a9cd-1fad-4aec-d131-279aa84fc5e3"
      },
      "outputs": [
        {
          "output_type": "execute_result",
          "data": {
            "text/plain": [
              "'Test data accuracy is : 0.7806173249253237, 0.4609948355531394 '"
            ],
            "application/vnd.google.colaboratory.intrinsic+json": {
              "type": "string"
            }
          },
          "metadata": {},
          "execution_count": 131
        }
      ],
      "source": [
        "lrn = LogisticRegression(penalty='l1', C=25, solver='liblinear')\n",
        "lrn.fit(X_sm, y_sm)\n",
        "f'Test data accuracy is : {lrn.score(X_test_scaled, y_test)}, {f1_score(y_test, lrn.predict(X_test_scaled))} '"
      ]
    },
    {
      "cell_type": "markdown",
      "metadata": {
        "id": "qcB_wJiC08cg"
      },
      "source": [
        "***Logistic Regression Observations***   \n",
        "**SMOTE+ENN** - Confusion Matrix - array([[5769, 2144],\n",
        "       [ 193,  933]])                              \n",
        "                F1 Score - 44%      \n",
        "                accuracy Score - 74%      \n",
        "**SMOTE**     - Confusion Matrix - array([[6219,  1694],\n",
        "       [ 273,  853]])       \n",
        "                F1 Score - 46%         \n",
        "                accuracy Score - 78%     \n",
        "\n",
        "\n",
        "1.   For Logistic Regression, SMOTE is giving Better Values when compared with SMOTE+ENN.\n",
        "2.   [TN FP],[FN TP]\n",
        "\n"
      ]
    },
    {
      "cell_type": "markdown",
      "metadata": {
        "id": "HGqTRZW_a7qb"
      },
      "source": [
        "# ***KNN using SMOTE + ENN***"
      ]
    },
    {
      "cell_type": "code",
      "execution_count": null,
      "metadata": {
        "colab": {
          "base_uri": "https://localhost:8080/"
        },
        "id": "tlmjUYn64htY",
        "outputId": "63078cf5-7348-4043-c768-d0666cf5d49a"
      },
      "outputs": [
        {
          "output_type": "stream",
          "name": "stdout",
          "text": [
            "K value  :  1  train score :  1.0  cv score :  0.9972584750572515\n",
            "K value  :  2  train score :  0.9998041763836719  cv score :  0.9970626631646935\n",
            "K value  :  3  train score :  0.99818418101223  cv score :  0.9913303540661571\n",
            "K value  :  4  train score :  0.9980773681305966  cv score :  0.9911345706940476\n",
            "K value  :  5  train score :  0.9940362807754615  cv score :  0.9827497331278255\n",
            "K value  :  6  train score :  0.9940006764815836  cv score :  0.9825717623602712\n",
            "K value  :  7  train score :  0.9876453100243889  cv score :  0.9742047342296656\n",
            "K value  :  8  train score :  0.9875028928488776  cv score :  0.9749346548990874\n",
            "K value  :  9  train score :  0.9803642319263703  cv score :  0.9674043691932763\n",
            "K value  :  10  train score :  0.981111922097805  cv score :  0.9676535808722353\n",
            "K value  :  20  train score :  0.9548181510690189  cv score :  0.9437987767009229\n",
            "K value  :  50  train score :  0.9176650704074911  cv score :  0.9100459255275318\n"
          ]
        }
      ],
      "source": [
        "from sklearn.neighbors import KNeighborsClassifier\n",
        "from sklearn.model_selection import cross_val_score\n",
        "\n",
        "for i in [1,2,3,4,5,6,7,8,9,10,20,50]:\n",
        "  knn = KNeighborsClassifier(i) #initialising the model\n",
        "  knn.fit(X_smt, y_smt) # training the model\n",
        "  print(\"K value  : \" , i, \" train score : \", knn.score(X_smt, y_smt) ,\n",
        "        \" cv score : \", np.mean(cross_val_score(knn, X_smt , y_smt, cv=10)))"
      ]
    },
    {
      "cell_type": "code",
      "execution_count": null,
      "metadata": {
        "colab": {
          "base_uri": "https://localhost:8080/",
          "height": 35
        },
        "id": "2hW3jq_qsZPl",
        "outputId": "0c2d3c1d-42ef-433a-8e6e-e2a4c2238d24"
      },
      "outputs": [
        {
          "output_type": "execute_result",
          "data": {
            "text/plain": [
              "'Test data accuracy is : 0.8334992808939042, 0.5037916254533465 '"
            ],
            "application/vnd.google.colaboratory.intrinsic+json": {
              "type": "string"
            }
          },
          "metadata": {},
          "execution_count": 151
        }
      ],
      "source": [
        "knn = KNeighborsClassifier(2)\n",
        "knn.fit(X_smt, y_smt)\n",
        "\n",
        "f'Test data accuracy is : {knn.score(X_test_scaled,y_test)}, {f1_score(y_test, knn.predict(X_test_scaled))} '"
      ]
    },
    {
      "cell_type": "code",
      "execution_count": null,
      "metadata": {
        "colab": {
          "base_uri": "https://localhost:8080/",
          "height": 35
        },
        "id": "e_H3CsWFmZhv",
        "outputId": "bdde8683-0727-472a-bb5f-1aba6a13f172"
      },
      "outputs": [
        {
          "output_type": "execute_result",
          "data": {
            "text/plain": [
              "'Test data accuracy is : 0.8506471954862264, 0.5140388768898488 '"
            ],
            "application/vnd.google.colaboratory.intrinsic+json": {
              "type": "string"
            }
          },
          "metadata": {},
          "execution_count": 134
        }
      ],
      "source": [
        "knn = KNeighborsClassifier(2, metric=\"manhattan\")\n",
        "knn.fit(X_smt, y_smt)\n",
        "\n",
        "f'Test data accuracy is : {knn.score(X_test_scaled,y_test)}, {f1_score(y_test, knn.predict(X_test_scaled))} '"
      ]
    },
    {
      "cell_type": "code",
      "execution_count": null,
      "metadata": {
        "colab": {
          "base_uri": "https://localhost:8080/",
          "height": 35
        },
        "id": "LpA839pMuNUM",
        "outputId": "070b984c-74dc-4729-8f29-d4502928fa3f"
      },
      "outputs": [
        {
          "output_type": "execute_result",
          "data": {
            "text/plain": [
              "'Test data accuracy is : 0.8273039052992588, 0.49823207971713274 '"
            ],
            "application/vnd.google.colaboratory.intrinsic+json": {
              "type": "string"
            }
          },
          "metadata": {},
          "execution_count": 135
        }
      ],
      "source": [
        "knn = KNeighborsClassifier(2, metric=\"minkowski\", p=3)\n",
        "knn.fit(X_smt, y_smt)\n",
        "\n",
        "f'Test data accuracy is : {knn.score(X_test_scaled,y_test)}, {f1_score(y_test, knn.predict(X_test_scaled))} '"
      ]
    },
    {
      "cell_type": "markdown",
      "metadata": {
        "id": "Twy_36POz0Yy"
      },
      "source": [
        "# ***KNN with SMOTE***"
      ]
    },
    {
      "cell_type": "code",
      "execution_count": null,
      "metadata": {
        "colab": {
          "base_uri": "https://localhost:8080/"
        },
        "id": "7GqVMrR8zzax",
        "outputId": "5d732bc2-98eb-4013-b99e-8102a31c2119"
      },
      "outputs": [
        {
          "output_type": "stream",
          "name": "stdout",
          "text": [
            "K value  :  1  train score :  0.9999218627910611  cv score :  0.9476168151273636\n",
            "K value  :  2  train score :  0.9946397874667917  cv score :  0.945116424441319\n",
            "K value  :  3  train score :  0.9603219253008283  cv score :  0.9300046882325363\n",
            "K value  :  4  train score :  0.9631192373808407  cv score :  0.9324738240350054\n",
            "K value  :  5  train score :  0.9410845444600718  cv score :  0.9166432255039851\n",
            "K value  :  6  train score :  0.9448976402562901  cv score :  0.9194405375839976\n",
            "K value  :  7  train score :  0.9281293952180029  cv score :  0.9068917018284106\n",
            "K value  :  8  train score :  0.9316143147366776  cv score :  0.9090170339115489\n",
            "K value  :  9  train score :  0.9179871854977341  cv score :  0.8993123925613377\n",
            "K value  :  10  train score :  0.9214252226910454  cv score :  0.9021878418502892\n",
            "K value  :  20  train score :  0.8944835130489139  cv score :  0.8804813252070636\n",
            "K value  :  50  train score :  0.8561025160181278  cv score :  0.8462884825754025\n"
          ]
        }
      ],
      "source": [
        "for i in [1,2,3,4,5,6,7,8,9,10,20,50]:\n",
        "  knn1 = KNeighborsClassifier(i) #initialising the model\n",
        "  knn1.fit(X_sm, y_sm) # training the model\n",
        "  print(\"K value  : \" , i, \" train score : \", knn1.score(X_sm, y_sm) ,\n",
        "        \" cv score : \", np.mean(cross_val_score(knn1, X_sm , y_sm, cv=10)))"
      ]
    },
    {
      "cell_type": "code",
      "execution_count": null,
      "metadata": {
        "colab": {
          "base_uri": "https://localhost:8080/",
          "height": 35
        },
        "id": "LEFPxj33scf4",
        "outputId": "07eb11b4-b8aa-4a90-928b-02ae9e9ee660"
      },
      "outputs": [
        {
          "output_type": "execute_result",
          "data": {
            "text/plain": [
              "'Test data accuracy is : 0.8299590662683926, 0.49820437479595164 '"
            ],
            "application/vnd.google.colaboratory.intrinsic+json": {
              "type": "string"
            }
          },
          "metadata": {},
          "execution_count": 154
        }
      ],
      "source": [
        "knn1 = KNeighborsClassifier(6)\n",
        "knn1.fit(X_sm, y_sm)\n",
        "\n",
        "f'Test data accuracy is : {knn1.score(X_test_scaled,y_test)}, {f1_score(y_test, knn1.predict(X_test_scaled))} '"
      ]
    },
    {
      "cell_type": "code",
      "execution_count": null,
      "metadata": {
        "colab": {
          "base_uri": "https://localhost:8080/",
          "height": 35
        },
        "id": "pRXerYqTzxYD",
        "outputId": "6914c544-3fe5-40f1-86c4-9a593296f15e"
      },
      "outputs": [
        {
          "output_type": "execute_result",
          "data": {
            "text/plain": [
              "'Test data accuracy is : 0.8539661466976436, 0.521044992743106 '"
            ],
            "application/vnd.google.colaboratory.intrinsic+json": {
              "type": "string"
            }
          },
          "metadata": {},
          "execution_count": 138
        }
      ],
      "source": [
        "knn1 = KNeighborsClassifier(6, metric=\"manhattan\")\n",
        "knn1.fit(X_sm, y_sm)\n",
        "\n",
        "f'Test data accuracy is : {knn1.score(X_test_scaled,y_test)}, {f1_score(y_test, knn1.predict(X_test_scaled))} '"
      ]
    },
    {
      "cell_type": "code",
      "execution_count": null,
      "metadata": {
        "colab": {
          "base_uri": "https://localhost:8080/",
          "height": 35
        },
        "id": "4V2C3p4Ssw5N",
        "outputId": "3942e227-2c2b-404b-fec1-9c3d1ca8c51e"
      },
      "outputs": [
        {
          "output_type": "execute_result",
          "data": {
            "text/plain": [
              "'Test data accuracy is : 0.8239849540878416, 0.4937957365574292 '"
            ],
            "application/vnd.google.colaboratory.intrinsic+json": {
              "type": "string"
            }
          },
          "metadata": {},
          "execution_count": 139
        }
      ],
      "source": [
        "knn1 = KNeighborsClassifier(6, metric=\"minkowski\", p=3)\n",
        "knn1.fit(X_sm, y_sm)\n",
        "\n",
        "f'Test data accuracy is : {knn1.score(X_test_scaled,y_test)}, {f1_score(y_test, knn1.predict(X_test_scaled))} '"
      ]
    },
    {
      "cell_type": "markdown",
      "metadata": {
        "id": "m72M0gg30NdE"
      },
      "source": [
        "***Observation for KNN using SMOTE+ENN** &  **SMOTE** -     \n",
        "\n",
        "1.   **K = 1**, has the best cv_scores but, 1 can lead\n",
        "to overfitting, as the model may become too sensitive to noise in the training data.\n",
        "2.   So Tried with Both K=2 & K=3, K=2 gives the best score. ** K = 2**, is the best value which is 83%\n",
        "3.   Both SMOTE and SMOTE+ENN gives the same score, we can use any one of it.\n",
        "\n"
      ]
    },
    {
      "cell_type": "markdown",
      "metadata": {
        "id": "eVZ0upS63a7p"
      },
      "source": [
        "# **DECISION TREE (SMOTE+ENN)**"
      ]
    },
    {
      "cell_type": "code",
      "execution_count": null,
      "metadata": {
        "colab": {
          "base_uri": "https://localhost:8080/"
        },
        "id": "RV8OgsSJ3snJ",
        "outputId": "cbd90b0c-ed0a-4c16-e26e-4ced0dff7ac8"
      },
      "outputs": [
        {
          "output_type": "stream",
          "name": "stdout",
          "text": [
            "Depth  :  1  train score :  0.766809677247076  and cross-val score :  0.7662579232182625\n",
            "Depth  :  5  train score :  0.8755451907500045  and cross-val score :  0.8735874820075582\n",
            "Depth  :  10  train score :  0.9444929058444448  and cross-val score :  0.9322811611726671\n",
            "Depth  :  15  train score :  0.9831057625549642  and cross-val score :  0.9555133639533093\n",
            "Depth  :  16  train score :  0.9874494864080609  and cross-val score :  0.9570266240921862\n",
            "Depth  :  17  train score :  0.9908496964733947  and cross-val score :  0.9568842278307226\n",
            "Depth  :  18  train score :  0.9943923237142399  and cross-val score :  0.957720903707804\n",
            "Depth  :  19  train score :  0.996386164171399  and cross-val score :  0.9572936832340263\n",
            "Depth  :  20  train score :  0.9977213251918181  and cross-val score :  0.9584685514204356\n",
            "Depth  :  21  train score :  0.9984690153632528  and cross-val score :  0.9582906313559008\n",
            "Depth  :  22  train score :  0.9990030797714204  and cross-val score :  0.9572581721067099\n",
            "Depth  :  23  train score :  0.99934132056326  and cross-val score :  0.958468649657536\n",
            "Depth  :  24  train score :  0.9996261549142826  and cross-val score :  0.9574005525234798\n",
            "Depth  :  25  train score :  0.9998219785306108  and cross-val score :  0.958112632067898\n",
            "Depth  :  26  train score :  0.9999643957061222  and cross-val score :  0.9581304351656369\n",
            "Depth  :  27  train score :  0.9999821978530611  and cross-val score :  0.9578990012329072\n",
            "Depth  :  28  train score :  0.9999821978530611  and cross-val score :  0.9575074027993011\n",
            "Depth  :  29  train score :  1.0  and cross-val score :  0.9579346010905079\n",
            "Depth  :  30  train score :  1.0  and cross-val score :  0.9579524548912663\n",
            "Depth  :  35  train score :  1.0  and cross-val score :  0.95777443975857\n",
            "Depth  :  40  train score :  1.0  and cross-val score :  0.9579702928473315\n"
          ]
        }
      ],
      "source": [
        "from sklearn.tree import DecisionTreeClassifier\n",
        "from sklearn.model_selection import cross_val_score\n",
        "\n",
        "for depth in [1,5,10,15,16,17,18,19,20,21,22,23,24,25,26,27,28,29,30,35,40]:\n",
        "  dt = DecisionTreeClassifier(max_depth = depth)\n",
        "  dt.fit(X_smt, y_smt)\n",
        "\n",
        "  print(\"Depth  : \" , depth, \" train score : \", dt.score(X_smt, y_smt) ,\n",
        "        \" and cross-val score : \", np.mean(cross_val_score(dt, X_smt , y_smt, cv=10)))"
      ]
    },
    {
      "cell_type": "code",
      "execution_count": null,
      "metadata": {
        "colab": {
          "base_uri": "https://localhost:8080/",
          "height": 472
        },
        "id": "3kKGSUa95Zut",
        "outputId": "97c4b273-7724-4ff6-ebf9-36db79fb6a8f"
      },
      "outputs": [
        {
          "output_type": "display_data",
          "data": {
            "text/plain": [
              "<Figure size 640x480 with 1 Axes>"
            ],
            "image/png": "[encoded data removed]"
          },
          "metadata": {}
        }
      ],
      "source": [
        "import matplotlib.pyplot as plt\n",
        "\n",
        "depth_values = [1,5,10,15,16,17,18,19,20,21,22,23,24,25,26,27,28,29,30,35,40]  # Add more depths if needed\n",
        "\n",
        "# Initialize empty lists to store the scores\n",
        "train_scores = []\n",
        "cv_scores = []\n",
        "\n",
        "# Loop through each depth value and calculate the scores\n",
        "for depth in depth_values:\n",
        "    dt = DecisionTreeClassifier(max_depth=depth)\n",
        "    dt.fit(X_smt, y_smt)\n",
        "    train_scores.append(dt.score(X_smt, y_smt))\n",
        "    cv_scores.append(np.mean(cross_val_score(dt, X_smt, y_smt, cv=10)))\n",
        "\n",
        "# Plot the scores against the depth\n",
        "plt.plot(depth_values, train_scores, label='Train Score')\n",
        "plt.plot(depth_values, cv_scores, label='Cross-Validation Score')\n",
        "plt.xlabel('Depth')\n",
        "plt.ylabel('Score')\n",
        "plt.title('Training and Cross-Validation Scores vs. Depth')\n",
        "plt.legend()\n",
        "plt.grid(True)\n",
        "plt.show()"
      ]
    },
    {
      "cell_type": "markdown",
      "metadata": {
        "id": "5OuR7K_D7MFR"
      },
      "source": [
        "**Observation** - From the above Graph it's safe to say the curve starts at 24/20."
      ]
    },
    {
      "cell_type": "code",
      "execution_count": null,
      "metadata": {
        "colab": {
          "base_uri": "https://localhost:8080/",
          "height": 35
        },
        "id": "wRyK6ZuT7LpY",
        "outputId": "27c89b3d-9af0-431c-849b-751f4cc80a57"
      },
      "outputs": [
        {
          "output_type": "execute_result",
          "data": {
            "text/plain": [
              "'Test data accuracy is : 0.8497621418298484, 0.5488372093023256 '"
            ],
            "application/vnd.google.colaboratory.intrinsic+json": {
              "type": "string"
            }
          },
          "metadata": {},
          "execution_count": 142
        }
      ],
      "source": [
        "dt = DecisionTreeClassifier(max_depth = 21)\n",
        "dt.fit(X_smt, y_smt)\n",
        "f'Test data accuracy is : {dt.score(X_test_scaled, y_test)}, {f1_score(y_test, dt.predict(X_test_scaled))} '"
      ]
    },
    {
      "cell_type": "markdown",
      "metadata": {
        "id": "RgHdvxRK1-sN"
      },
      "source": [
        "# Decision Tree with SMOTE"
      ]
    },
    {
      "cell_type": "code",
      "execution_count": null,
      "metadata": {
        "colab": {
          "base_uri": "https://localhost:8080/"
        },
        "id": "hzARtGZDvSWm",
        "outputId": "47593ddf-770f-41dc-981b-f10c88898514"
      },
      "outputs": [
        {
          "output_type": "stream",
          "name": "stdout",
          "text": [
            "Depth  :  1  train score :  0.7209563994374121  and cross-val score :  0.720753242694171\n",
            "Depth  :  5  train score :  0.8260509454602282  and cross-val score :  0.8255821222065947\n",
            "Depth  :  10  train score :  0.8967963744335052  and cross-val score :  0.881512736365057\n",
            "Depth  :  15  train score :  0.9564932020628223  and cross-val score :  0.9111111111111111\n",
            "Depth  :  16  train score :  0.9643225503984998  and cross-val score :  0.9125332083137989\n",
            "Depth  :  17  train score :  0.9707298015314892  and cross-val score :  0.9130645413345835\n",
            "Depth  :  18  train score :  0.977262072198781  and cross-val score :  0.9148929520237538\n",
            "Depth  :  19  train score :  0.9825910298484138  and cross-val score :  0.9159399906235348\n",
            "Depth  :  20  train score :  0.9867791842475386  and cross-val score :  0.9148148148148149\n",
            "Depth  :  21  train score :  0.9904516330676668  and cross-val score :  0.9165963431786217\n",
            "Depth  :  22  train score :  0.9931239256133771  and cross-val score :  0.9163931864353805\n",
            "Depth  :  23  train score :  0.9955305516486951  and cross-val score :  0.9163931864353805\n",
            "Depth  :  24  train score :  0.9969213939678074  and cross-val score :  0.9167057352711362\n",
            "Depth  :  25  train score :  0.9979840600093765  and cross-val score :  0.9170026566651039\n",
            "Depth  :  26  train score :  0.9987185497734021  and cross-val score :  0.9161744022503516\n",
            "Depth  :  27  train score :  0.9989998437255821  and cross-val score :  0.9162369120175027\n",
            "Depth  :  28  train score :  0.9993436474449132  and cross-val score :  0.9167057352711361\n",
            "Depth  :  29  train score :  0.9996249413970933  and cross-val score :  0.916924519456165\n",
            "Depth  :  30  train score :  0.9997343334896077  and cross-val score :  0.9170339115486794\n",
            "Depth  :  35  train score :  0.9999218627910611  and cross-val score :  0.9162994217846538\n",
            "Depth  :  40  train score :  0.9999218627910611  and cross-val score :  0.9158149710892326\n"
          ]
        }
      ],
      "source": [
        "from sklearn.tree import DecisionTreeClassifier\n",
        "from sklearn.model_selection import cross_val_score\n",
        "\n",
        "for depth in [1,5,10,15,16,17,18,19,20,21,22,23,24,25,26,27,28,29,30,35,40]:\n",
        "  dt1 = DecisionTreeClassifier(max_depth = depth)\n",
        "  dt1.fit(X_sm, y_sm)\n",
        "\n",
        "  print(\"Depth  : \" , depth, \" train score : \", dt1.score(X_sm, y_sm) ,\n",
        "        \" and cross-val score : \", np.mean(cross_val_score(dt1, X_sm , y_sm, cv=10)))"
      ]
    },
    {
      "cell_type": "code",
      "execution_count": null,
      "metadata": {
        "id": "gmY-4oPJvnGO"
      },
      "outputs": [],
      "source": [
        "import matplotlib.pyplot as plt\n",
        "\n",
        "depth_values = [1,5,10,15,16,17,18,19,20,21,22,23,24,25,26,27,28,29,30,35,40]  # Add more depths if needed\n",
        "\n",
        "# Initialize empty lists to store the scores\n",
        "train_scores1 = []\n",
        "cv_scores1 = []\n",
        "\n",
        "# Loop through each depth value and calculate the scores\n",
        "for depth in depth_values:\n",
        "    dt1 = DecisionTreeClassifier(max_depth=depth)\n",
        "    dt1.fit(X_sm, y_sm)\n",
        "    train_scores1.append(dt1.score(X_sm, y_sm))\n",
        "    cv_scores1.append(np.mean(cross_val_score(dt1, X_sm, y_sm, cv=10)))\n",
        "\n",
        "# Plot the scores against the depth\n",
        "plt.plot(depth_values, train_scores1, label='Train Score')\n",
        "plt.plot(depth_values, cv_scores1, label='Cross-Validation Score')\n",
        "plt.xlabel('Depth')\n",
        "plt.ylabel('Score')\n",
        "plt.title('Training and Cross-Validation Scores vs. Depth')\n",
        "plt.legend()\n",
        "plt.grid(True)\n",
        "plt.show()"
      ]
    },
    {
      "cell_type": "code",
      "execution_count": null,
      "metadata": {
        "id": "TmD5YLJNw-b_"
      },
      "outputs": [],
      "source": [
        "dt1 = DecisionTreeClassifier(max_depth = 19)\n",
        "dt1.fit(X_sm, y_sm)\n",
        "f'Test data accuracy is : {dt1.score(X_test_scaled, y_test)}, {f1_score(y_test, dt1.predict(X_test_scaled))} '"
      ]
    },
    {
      "cell_type": "markdown",
      "metadata": {
        "id": "U5QRpaHS2HVM"
      },
      "source": [
        "# Voting Classifier"
      ]
    },
    {
      "cell_type": "code",
      "execution_count": null,
      "metadata": {
        "colab": {
          "base_uri": "https://localhost:8080/",
          "height": 35
        },
        "id": "JWv2k9XgzeQs",
        "outputId": "1d41d481-fac6-4eb5-89b6-47742f71d078"
      },
      "outputs": [
        {
          "output_type": "execute_result",
          "data": {
            "text/plain": [
              "'Test data accuracy is : 0.8364863369841796, 0.5387016229712859 '"
            ],
            "application/vnd.google.colaboratory.intrinsic+json": {
              "type": "string"
            }
          },
          "metadata": {},
          "execution_count": 153
        }
      ],
      "source": [
        "from sklearn.ensemble import VotingClassifier\n",
        "\n",
        "model = VotingClassifier(estimators = [('logistic_regression', lr),('k-nn', knn),('decision-tree', dt)],voting ='hard')\n",
        "model.fit(X_smt, y_smt)\n",
        "f'Test data accuracy is : {model.score(X_test_scaled, y_test)}, {f1_score(y_test, model.predict(X_test_scaled))} '"
      ]
    },
    {
      "cell_type": "code",
      "execution_count": null,
      "metadata": {
        "colab": {
          "base_uri": "https://localhost:8080/",
          "height": 35
        },
        "id": "b24IMw0C5mCP",
        "outputId": "f5015c6d-536b-4e30-f6ca-5f4ef65aeb8a"
      },
      "outputs": [
        {
          "output_type": "execute_result",
          "data": {
            "text/plain": [
              "'Test data accuracy is : 0.8515322491426043, 0.5457007447528776 '"
            ],
            "application/vnd.google.colaboratory.intrinsic+json": {
              "type": "string"
            }
          },
          "metadata": {},
          "execution_count": 155
        }
      ],
      "source": [
        "from sklearn.ensemble import VotingClassifier\n",
        "\n",
        "model1 = VotingClassifier(estimators = [('logistic_regression', lrn),('k-nn', knn1),('decision-tree', dt1)],voting ='hard')\n",
        "model1.fit(X_sm, y_sm)\n",
        "f'Test data accuracy is : {model1.score(X_test_scaled, y_test)}, {f1_score(y_test, model1.predict(X_test_scaled))} '"
      ]
    },
    {
      "cell_type": "markdown",
      "metadata": {
        "id": "1HoZDKcY8Di8"
      },
      "source": [
        "# Randam Forest Classifier"
      ]
    },
    {
      "cell_type": "code",
      "execution_count": null,
      "metadata": {
        "id": "WQRVmPks8Cqx"
      },
      "outputs": [],
      "source": [
        "from sklearn.ensemble import RandomForestClassifier\n",
        "\n",
        "for depth in [1,5,10,15,17,18,19,20,21,22,23,24,25,26,27,28,29,30]:\n",
        "  rf = RandomForestClassifier(max_depth = depth)\n",
        "  rf.fit(X_smt, y_smt)\n",
        "  train_score = rf.score(X_smt, y_smt)\n",
        "  cross_val_result = np.mean(cross_val_score(rf, X_smt, y_smt, cv = 10))\n",
        "  print(f'Depth : {depth}, training score : {train_score} and cross-val score : {cross_val_result}')"
      ]
    },
    {
      "cell_type": "code",
      "execution_count": null,
      "metadata": {
        "id": "oC-HMPA6FfKu",
        "colab": {
          "base_uri": "https://localhost:8080/",
          "height": 35
        },
        "outputId": "ec123467-3be1-4a96-eea0-e54f6d6e6939"
      },
      "outputs": [
        {
          "output_type": "execute_result",
          "data": {
            "text/plain": [
              "'Test data accuracy is : 0.8609359442416197, 0.5928085519922255 '"
            ],
            "application/vnd.google.colaboratory.intrinsic+json": {
              "type": "string"
            }
          },
          "metadata": {},
          "execution_count": 156
        }
      ],
      "source": [
        "rf = RandomForestClassifier(max_depth = 26)\n",
        "rf.fit(X_smt, y_smt)\n",
        "f'Test data accuracy is : {rf.score(X_test_scaled, y_test)}, {f1_score(y_test, rf.predict(X_test_scaled))} '"
      ]
    },
    {
      "cell_type": "code",
      "source": [
        "list(zip(X.columns, rf.feature_importances_))"
      ],
      "metadata": {
        "colab": {
          "base_uri": "https://localhost:8080/",
          "height": 177
        },
        "id": "3Pro2SCr_4Lq",
        "outputId": "041c554a-2f4c-4709-c04b-9f9f90bb54a5"
      },
      "execution_count": null,
      "outputs": [
        {
          "output_type": "error",
          "ename": "NameError",
          "evalue": "ignored",
          "traceback": [
            "\u001b[0;31m---------------------------------------------------------------------------\u001b[0m",
            "\u001b[0;31mNameError\u001b[0m                                 Traceback (most recent call last)",
            "\u001b[0;32m<ipython-input-134-0b646890c194>\u001b[0m in \u001b[0;36m<cell line: 1>\u001b[0;34m()\u001b[0m\n\u001b[0;32m----> 1\u001b[0;31m \u001b[0mlist\u001b[0m\u001b[0;34m(\u001b[0m\u001b[0mzip\u001b[0m\u001b[0;34m(\u001b[0m\u001b[0mX\u001b[0m\u001b[0;34m.\u001b[0m\u001b[0mcolumns\u001b[0m\u001b[0;34m,\u001b[0m \u001b[0mrf\u001b[0m\u001b[0;34m.\u001b[0m\u001b[0mfeature_importances_\u001b[0m\u001b[0;34m)\u001b[0m\u001b[0;34m)\u001b[0m\u001b[0;34m\u001b[0m\u001b[0;34m\u001b[0m\u001b[0m\n\u001b[0m",
            "\u001b[0;31mNameError\u001b[0m: name 'rf' is not defined"
          ]
        }
      ]
    },
    {
      "cell_type": "code",
      "source": [
        "from sklearn.ensemble import RandomForestClassifier\n",
        "\n",
        "for depth in [1,5,10,15,20,21,25,26,27,28,29,30,31,32,33,34,35,36,37,38,39,40,45,50]:\n",
        "  rfc = RandomForestClassifier(max_depth = depth)\n",
        "  rfc.fit(X_sm, y_sm)\n",
        "  train_score = rfc.score(X_sm, y_sm)\n",
        "  cross_val_result = np.mean(cross_val_score(rfc, X_sm, y_sm, cv = 10))\n",
        "  print(f'Depth : {depth}, training score : {train_score} and cross-val score : {cross_val_result}')"
      ],
      "metadata": {
        "colab": {
          "base_uri": "https://localhost:8080/"
        },
        "id": "nr1uLKtjlpY_",
        "outputId": "3a33d667-95ce-4eea-e432-e1f086a95d31"
      },
      "execution_count": null,
      "outputs": [
        {
          "output_type": "stream",
          "name": "stdout",
          "text": [
            "Depth : 1, training score : 0.7563681825285201 and cross-val score : 0.7585091420534458\n",
            "Depth : 5, training score : 0.8488045007032349 and cross-val score : 0.8491483044225661\n",
            "Depth : 10, training score : 0.9070948585716518 and cross-val score : 0.8996874511642444\n",
            "Depth : 15, training score : 0.9592280043756837 and cross-val score : 0.9294889826535396\n",
            "Depth : 20, training score : 0.9888420065635255 and cross-val score : 0.9440381309579621\n",
            "Depth : 21, training score : 0.9915924363181747 and cross-val score : 0.9459446788560711\n",
            "Depth : 25, training score : 0.9980465697765276 and cross-val score : 0.9482731676824503\n",
            "Depth : 26, training score : 0.9988123144241288 and cross-val score : 0.9483356774496017\n",
            "Depth : 27, training score : 0.9995468041881544 and cross-val score : 0.9497265197687138\n",
            "Depth : 28, training score : 0.9997343334896077 and cross-val score : 0.9492733239568683\n",
            "Depth : 29, training score : 0.9997968432567589 and cross-val score : 0.9502578527894983\n",
            "Depth : 30, training score : 0.9998437255821222 and cross-val score : 0.9497265197687138\n",
            "Depth : 31, training score : 0.9998906079074855 and cross-val score : 0.9499921862791061\n",
            "Depth : 32, training score : 0.9999062353492734 and cross-val score : 0.9499140490701672\n",
            "Depth : 33, training score : 0.9999218627910611 and cross-val score : 0.9501640881387716\n",
            "Depth : 34, training score : 0.9999062353492734 and cross-val score : 0.9498984216283795\n",
            "Depth : 35, training score : 0.9999218627910611 and cross-val score : 0.950289107673074\n",
            "Depth : 36, training score : 0.9999218627910611 and cross-val score : 0.9501015783716206\n",
            "Depth : 37, training score : 0.9999218627910611 and cross-val score : 0.9503047351148617\n",
            "Depth : 38, training score : 0.9999218627910611 and cross-val score : 0.9506485388341929\n",
            "Depth : 39, training score : 0.9999218627910611 and cross-val score : 0.9505078918581027\n",
            "Depth : 40, training score : 0.9999218627910611 and cross-val score : 0.9508048132520706\n",
            "Depth : 45, training score : 0.9999218627910611 and cross-val score : 0.9499609313955306\n",
            "Depth : 50, training score : 0.9999218627910611 and cross-val score : 0.9499140490701674\n"
          ]
        }
      ]
    },
    {
      "cell_type": "code",
      "source": [
        "rfc = RandomForestClassifier(max_depth = 27)\n",
        "rfc.fit(X_sm, y_sm)\n",
        "f'Test data accuracy is : {rfc.score(X_test_scaled, y_test)}, {f1_score(y_test, rfc.predict(X_test_scaled))} '"
      ],
      "metadata": {
        "colab": {
          "base_uri": "https://localhost:8080/",
          "height": 35
        },
        "id": "N8L0KAJW7Y0s",
        "outputId": "d1a52da8-3f93-4faf-887b-ad64d0eb9da9"
      },
      "execution_count": null,
      "outputs": [
        {
          "output_type": "execute_result",
          "data": {
            "text/plain": [
              "'Test data accuracy is : 0.8921340856289413, 0.5795601552393272 '"
            ],
            "application/vnd.google.colaboratory.intrinsic+json": {
              "type": "string"
            }
          },
          "metadata": {},
          "execution_count": 166
        }
      ]
    },
    {
      "cell_type": "markdown",
      "source": [
        "max_depth 29 - 56.1%   \n",
        "          28 - 56.6%   \n",
        "          27 - 57%   \n",
        "          30 - 56.7%  "
      ],
      "metadata": {
        "id": "JaVDoJckDbGH"
      }
    },
    {
      "cell_type": "code",
      "source": [
        "list(zip(X.columns, rfc.feature_importances_))"
      ],
      "metadata": {
        "id": "FihI8tc3_8nS",
        "outputId": "2bd349e1-d150-4810-f6f9-74452af28e27",
        "colab": {
          "base_uri": "https://localhost:8080/",
          "height": 177
        }
      },
      "execution_count": null,
      "outputs": [
        {
          "output_type": "error",
          "ename": "NameError",
          "evalue": "ignored",
          "traceback": [
            "\u001b[0;31m---------------------------------------------------------------------------\u001b[0m",
            "\u001b[0;31mNameError\u001b[0m                                 Traceback (most recent call last)",
            "\u001b[0;32m<ipython-input-135-3951e2628cfe>\u001b[0m in \u001b[0;36m<cell line: 1>\u001b[0;34m()\u001b[0m\n\u001b[0;32m----> 1\u001b[0;31m \u001b[0mlist\u001b[0m\u001b[0;34m(\u001b[0m\u001b[0mzip\u001b[0m\u001b[0;34m(\u001b[0m\u001b[0mX\u001b[0m\u001b[0;34m.\u001b[0m\u001b[0mcolumns\u001b[0m\u001b[0;34m,\u001b[0m \u001b[0mrfc\u001b[0m\u001b[0;34m.\u001b[0m\u001b[0mfeature_importances_\u001b[0m\u001b[0;34m)\u001b[0m\u001b[0;34m)\u001b[0m\u001b[0;34m\u001b[0m\u001b[0;34m\u001b[0m\u001b[0m\n\u001b[0m",
            "\u001b[0;31mNameError\u001b[0m: name 'rfc' is not defined"
          ]
        }
      ]
    },
    {
      "cell_type": "markdown",
      "source": [
        "# XG Boost"
      ],
      "metadata": {
        "id": "6BhdLjDkEw32"
      }
    },
    {
      "cell_type": "code",
      "source": [
        "import xgboost as xgb\n",
        "\n",
        "for lr in [0.001, 0.01,0.05,0.07,0.09, 0.1,0.2,0.3,0.4, 0.5,0.6,0.7,0.8,0.9, 1]:\n",
        "  xg = xgb.XGBClassifier(learning_rate=lr)\n",
        "  xg.fit(X_smt, y_smt)\n",
        "  train_score = xg.score(X_smt, y_smt)\n",
        "  cross_val_result = np.mean(cross_val_score(xg, X_smt, y_smt, cv = 10))\n",
        "  print(f'Learning Rate : {lr}, training score : {train_score} and cross-val score : {cross_val_result}')"
      ],
      "metadata": {
        "colab": {
          "base_uri": "https://localhost:8080/"
        },
        "id": "SBBgR0LGE4sZ",
        "outputId": "0a9741f8-5a99-48b2-ad23-16ec68b21fd1"
      },
      "execution_count": null,
      "outputs": [
        {
          "output_type": "stream",
          "name": "stdout",
          "text": [
            "Learning Rate : 0.001, training score : 0.9001924859200114 and cross-val score : 0.8967705560537919\n",
            "Learning Rate : 0.01, training score : 0.9181756612247808 and cross-val score : 0.9162331249636649\n",
            "Learning Rate : 0.05, training score : 0.964693091894204 and cross-val score : 0.9597564117593054\n",
            "Learning Rate : 0.07, training score : 0.9687566835388893 and cross-val score : 0.9634101654790008\n",
            "Learning Rate : 0.09, training score : 0.9726776930206031 and cross-val score : 0.9652281026796421\n",
            "Learning Rate : 0.1, training score : 0.9733371355243459 and cross-val score : 0.9662083804698627\n",
            "Learning Rate : 0.2, training score : 0.9828010265915734 and cross-val score : 0.9688998183158812\n",
            "Learning Rate : 0.3, training score : 0.986793327154773 and cross-val score : 0.9668325268896625\n",
            "Learning Rate : 0.4, training score : 0.990643045555001 and cross-val score : 0.9658879410223932\n",
            "Learning Rate : 0.5, training score : 0.992603550295858 and cross-val score : 0.9663513324190356\n",
            "Learning Rate : 0.6, training score : 0.9944214728737435 and cross-val score : 0.966297859660058\n",
            "Learning Rate : 0.7, training score : 0.9966493191701719 and cross-val score : 0.9652463378053866\n",
            "Learning Rate : 0.8, training score : 0.9973800527554003 and cross-val score : 0.9656027995683294\n",
            "Learning Rate : 0.9, training score : 0.9983068368147144 and cross-val score : 0.9652106808277983\n",
            "Learning Rate : 1, training score : 0.9988771654666001 and cross-val score : 0.9656562373819442\n"
          ]
        }
      ]
    },
    {
      "cell_type": "code",
      "source": [
        "xg = xgb.XGBClassifier(learning_rate=0.5)\n",
        "xg.fit(X_smt, y_smt)\n",
        "f'Test data accuracy is : {xg.score(X_test_scaled, y_test)}, {f1_score(y_test, xg.predict(X_test_scaled))} '"
      ],
      "metadata": {
        "colab": {
          "base_uri": "https://localhost:8080/",
          "height": 35
        },
        "id": "lm-BuNUjKxxv",
        "outputId": "0a45c63f-b448-42a5-d555-3baa8718eefc"
      },
      "execution_count": null,
      "outputs": [
        {
          "output_type": "execute_result",
          "data": {
            "text/plain": [
              "'Test data accuracy is : 0.8797433344396504, 0.6197971318642882 '"
            ],
            "application/vnd.google.colaboratory.intrinsic+json": {
              "type": "string"
            }
          },
          "metadata": {},
          "execution_count": 130
        }
      ]
    },
    {
      "cell_type": "code",
      "source": [
        "list(zip(X.columns, xg.feature_importances_))"
      ],
      "metadata": {
        "colab": {
          "base_uri": "https://localhost:8080/"
        },
        "id": "V2xxjFmz_wuB",
        "outputId": "81aec837-dafa-452f-cd56-8ddca95a7f63"
      },
      "execution_count": null,
      "outputs": [
        {
          "output_type": "execute_result",
          "data": {
            "text/plain": [
              "[('age', 0.015188084),\n",
              " ('marital', 0.012785219),\n",
              " ('education_qual', 0.026086768),\n",
              " ('call_type', 0.29887244),\n",
              " ('day', 0.022405643),\n",
              " ('mon', 0.07467757),\n",
              " ('dur', 0.14041048),\n",
              " ('num_calls', 0.06720887),\n",
              " ('prev_outcome', 0.13733716),\n",
              " ('job_admin', 0.010621282),\n",
              " ('job_blue-collar', 0.046574466),\n",
              " ('job_entrepreneur', 0.013731369),\n",
              " ('job_housemaid', 0.009134058),\n",
              " ('job_management', 0.008065553),\n",
              " ('job_retired', 0.008724141),\n",
              " ('job_self-employed', 0.020384042),\n",
              " ('job_services', 0.010208677),\n",
              " ('job_student', 0.061704814),\n",
              " ('job_technician', 0.009201587),\n",
              " ('job_unemployed', 0.0046232),\n",
              " ('job_unknown', 0.0020544447)]"
            ]
          },
          "metadata": {},
          "execution_count": 133
        }
      ]
    },
    {
      "cell_type": "code",
      "source": [
        "import xgboost as xgb\n",
        "\n",
        "for lr1 in [0.001, 0.002, 0.005, 0.01, 0.02, 0.03, 0.04, 0.05, 0.06, 0.07, 0.08, 0.09, 0.1, 0.2, 0.5, 1]:\n",
        "  xgt = xgb.XGBClassifier(learning_rate=lr1)\n",
        "  xgt.fit(X_sm, y_sm)\n",
        "  train_score = xgt.score(X_sm, y_sm)\n",
        "  cross_val_result = np.mean(cross_val_score(xgt, X_sm, y_sm, cv = 10))\n",
        "  print(f'Learning Rate : {lr1}, training score : {train_score} and cross-val score : {cross_val_result}')"
      ],
      "metadata": {
        "colab": {
          "base_uri": "https://localhost:8080/"
        },
        "id": "AE0X69gm1MUA",
        "outputId": "fbad4933-6ebb-45ad-dd61-311cb237deec"
      },
      "execution_count": null,
      "outputs": [
        {
          "output_type": "stream",
          "name": "stdout",
          "text": [
            "Learning Rate : 0.001, training score : 0.8440537583997499 and cross-val score : 0.8419127988748242\n",
            "Learning Rate : 0.002, training score : 0.8447569932802 and cross-val score : 0.8429442100328176\n",
            "Learning Rate : 0.005, training score : 0.8503672448820128 and cross-val score : 0.8481168932645726\n",
            "Learning Rate : 0.01, training score : 0.8634005313330207 and cross-val score : 0.8603844350679795\n",
            "Learning Rate : 0.02, training score : 0.8894202219096734 and cross-val score : 0.8854664791373652\n",
            "Learning Rate : 0.03, training score : 0.9091264260040631 and cross-val score : 0.9035630567276136\n",
            "Learning Rate : 0.04, training score : 0.9185497734020941 and cross-val score : 0.9131114236599469\n",
            "Learning Rate : 0.05, training score : 0.925066416627598 and cross-val score : 0.9177996561962807\n",
            "Learning Rate : 0.06, training score : 0.9299421784653852 and cross-val score : 0.9208782622284731\n",
            "Learning Rate : 0.07, training score : 0.9336615096108767 and cross-val score : 0.9234724175652447\n",
            "Learning Rate : 0.08, training score : 0.9353023909985936 and cross-val score : 0.924222534771058\n",
            "Learning Rate : 0.09, training score : 0.9390060947022972 and cross-val score : 0.9255352398812315\n",
            "Learning Rate : 0.1, training score : 0.9406938584153774 and cross-val score : 0.9268948273167682\n",
            "Learning Rate : 0.2, training score : 0.9571495546179091 and cross-val score : 0.9294421003281764\n",
            "Learning Rate : 0.5, training score : 0.9719487419909361 and cross-val score : 0.9313642756680732\n",
            "Learning Rate : 1, training score : 0.9854352242537897 and cross-val score : 0.9284106891701827\n"
          ]
        }
      ]
    },
    {
      "cell_type": "code",
      "source": [
        "xgt = xgb.XGBClassifier(learning_rate=0.06)\n",
        "xgt.fit(X_sm, y_sm)\n",
        "f'Test data accuracy is : {xgt.score(X_test_scaled, y_test)}, {f1_score(y_test, xgt.predict(X_test_scaled))} '"
      ],
      "metadata": {
        "colab": {
          "base_uri": "https://localhost:8080/",
          "height": 35
        },
        "id": "ukGyAFeR-FoH",
        "outputId": "d761bf93-20f3-4615-b083-5da36182d832"
      },
      "execution_count": null,
      "outputs": [
        {
          "output_type": "execute_result",
          "data": {
            "text/plain": [
              "'Test data accuracy is : 0.878637017369178, 0.6046846846846846 '"
            ],
            "application/vnd.google.colaboratory.intrinsic+json": {
              "type": "string"
            }
          },
          "metadata": {},
          "execution_count": 131
        }
      ]
    },
    {
      "cell_type": "code",
      "source": [
        "list(zip(X.columns, xgt.feature_importances_))"
      ],
      "metadata": {
        "colab": {
          "base_uri": "https://localhost:8080/"
        },
        "id": "wJjTdsan_oKr",
        "outputId": "cf1f8dc5-184e-4177-9da6-347e57dd7a13"
      },
      "execution_count": null,
      "outputs": [
        {
          "output_type": "execute_result",
          "data": {
            "text/plain": [
              "[('age', 0.022918634),\n",
              " ('marital', 0.02004045),\n",
              " ('education_qual', 0.053659227),\n",
              " ('call_type', 0.22938493),\n",
              " ('day', 0.028763276),\n",
              " ('mon', 0.073969565),\n",
              " ('dur', 0.22293425),\n",
              " ('num_calls', 0.11256581),\n",
              " ('prev_outcome', 0.082453966),\n",
              " ('job_admin', 0.0072470047),\n",
              " ('job_blue-collar', 0.060809385),\n",
              " ('job_entrepreneur', 0.0076754317),\n",
              " ('job_housemaid', 0.0043820357),\n",
              " ('job_management', 0.008121005),\n",
              " ('job_retired', 0.009698597),\n",
              " ('job_self-employed', 0.004074397),\n",
              " ('job_services', 0.0056681433),\n",
              " ('job_student', 0.028590498),\n",
              " ('job_technician', 0.005547826),\n",
              " ('job_unemployed', 0.006216432),\n",
              " ('job_unknown', 0.005279246)]"
            ]
          },
          "metadata": {},
          "execution_count": 132
        }
      ]
    }
  ],
  "metadata": {
    "colab": {
      "collapsed_sections": [
        "y4wvSHJsGL-g",
        "GTCEWPAmpvRV",
        "XpJdHQ76ksYj"
      ],
      "provenance": [],
      "authorship_tag": "ABX9TyP1yrjgsIIqnxBzsTNx2VjJ",
      "include_colab_link": true
    },
    "kernelspec": {
      "display_name": "Python 3",
      "name": "python3"
    },
    "language_info": {
      "name": "python"
    }
  },
  "nbformat": 4,
  "nbformat_minor": 0
}